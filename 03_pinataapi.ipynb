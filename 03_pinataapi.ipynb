{
 "cells": [
  {
   "cell_type": "code",
   "execution_count": null,
   "id": "cb1d32e2-a226-46f0-b955-5cdb48701368",
   "metadata": {},
   "outputs": [],
   "source": [
    "#| default_exp pinataapi"
   ]
  },
  {
   "cell_type": "code",
   "execution_count": null,
   "id": "11d97fae-f296-4c16-a737-804d30196f54",
   "metadata": {},
   "outputs": [],
   "source": [
    "#| hide\n",
    "%load_ext autoreload\n",
    "%autoreload 2"
   ]
  },
  {
   "cell_type": "markdown",
   "id": "e23f5e73-1732-4752-a0b4-cb2ef620aed5",
   "metadata": {},
   "source": [
    "# Pinata\n",
    "> Python API for interacting with Pinata"
   ]
  },
  {
   "cell_type": "code",
   "execution_count": null,
   "id": "4b7da8bf-686e-4f28-8048-1a8685980794",
   "metadata": {},
   "outputs": [],
   "source": [
    "#| hide\n",
    "from nbdev.showdoc import *"
   ]
  },
  {
   "cell_type": "code",
   "execution_count": null,
   "id": "ff6b52dc-3ac9-478f-970c-454d5fed3990",
   "metadata": {},
   "outputs": [],
   "source": [
    "#| export\n",
    "#| hide\n",
    "import requests\n",
    "import json"
   ]
  },
  {
   "cell_type": "code",
   "execution_count": null,
   "id": "df727fbd-9559-4d3f-85cc-0198854ec252",
   "metadata": {},
   "outputs": [],
   "source": [
    "#| ignoretest\n",
    "with open(\"creds.json\") as f:\n",
    "    \n",
    "    creds = json.loads(f.read())[\"Pinata\"][\"JWT\"]"
   ]
  },
  {
   "cell_type": "code",
   "execution_count": null,
   "id": "38e28a3d-cc7b-4646-836a-5c13a1b5c09d",
   "metadata": {},
   "outputs": [],
   "source": [
    "#| export\n",
    "def generate_apikey(cred:str,#JWT\n",
    "                    key_name:str, #Key name\n",
    "                    pinlist:bool=False,#list pins\n",
    "                    userPinnedDataTotal:bool=False, #total data stored\n",
    "                    hashMetadata:bool=True, #metadata\n",
    "                    hashPinPolicy:bool=False, #policy\n",
    "                    pinByHash:bool=True, #pin cid\n",
    "                    pinFileToIPFS:bool=True,#upload file to IPFS\n",
    "                    pinJSONToIPFS:bool=True,#upload json to IPFS\n",
    "                    pinJobs:bool=True,#see pin jobs\n",
    "                    unpin:bool=True,#unpin ipfs cid\n",
    "                    userPinPolicy:bool=True #establish pin policy\n",
    "                   \n",
    "):\n",
    "\n",
    "    url = \"https://api.pinata.cloud/users/generateApiKey\"\n",
    "\n",
    "    payload = json.dumps({\n",
    "      \"keyName\": key_name,\n",
    "      \"permissions\": {\n",
    "        \"endpoints\": {\n",
    "          \"data\": {\n",
    "            \"pinList\": pinlist,\n",
    "            \"userPinnedDataTotal\": userPinnedDataTotal\n",
    "          },\n",
    "          \"pinning\": {\n",
    "            \"hashMetadata\": hashMetadata,\n",
    "            \"hashPinPolicy\": hashPinPolicy,\n",
    "            \"pinByHash\": pinByHash,\n",
    "            \"pinFileToIPFS\": pinFileToIPFS,\n",
    "            \"pinJSONToIPFS\": pinJSONToIPFS,\n",
    "            \"pinJobs\": pinJobs,\n",
    "            \"unpin\": unpin,\n",
    "            \"userPinPolicy\": userPinPolicy\n",
    "          }\n",
    "        }\n",
    "      }\n",
    "    })\n",
    "    headers = {\n",
    "      'Authorization': f'Bearer {cred}',\n",
    "      'Content-Type': 'application/json'\n",
    "    }\n",
    "\n",
    "    response = requests.request(\"POST\", url, headers=headers, data=payload)\n",
    "\n",
    "    return response\n"
   ]
  },
  {
   "cell_type": "markdown",
   "id": "fc76ac16-49f2-41c0-af43-5e9f767c00e1",
   "metadata": {},
   "source": [
    "Generate API Key"
   ]
  },
  {
   "cell_type": "code",
   "execution_count": null,
   "id": "153a9a35-95dc-4955-9827-fa1d31982431",
   "metadata": {},
   "outputs": [
    {
     "data": {
      "text/plain": [
       "{'pinata_api_key': '443e2dadf1e6a47c2754',\n",
       " 'pinata_api_secret': '0f84d67fe64136d4d9ddbfb1235a8ab1fd490f12c1f6fcc532b758062695a1dc',\n",
       " 'JWT': 'eyJhbGciOiJIUzI1NiIsInR5cCI6IkpXVCJ9.eyJ1c2VySW5mb3JtYXRpb24iOnsiaWQiOiJkMjhmMjBjZi1kZmUwLTRjOGYtOTI3Mi0yNmI5YzJkOGEzY2QiLCJlbWFpbCI6InZpbnRhZ2Vnb2xkMTIzQGdtYWlsLmNvbSIsImVtYWlsX3ZlcmlmaWVkIjp0cnVlLCJwaW5fcG9saWN5Ijp7InJlZ2lvbnMiOlt7ImlkIjoiTllDMSIsImRlc2lyZWRSZXBsaWNhdGlvbkNvdW50IjoxfV0sInZlcnNpb24iOjF9LCJtZmFfZW5hYmxlZCI6ZmFsc2UsInN0YXR1cyI6IkFDVElWRSJ9LCJhdXRoZW50aWNhdGlvblR5cGUiOiJzY29wZWRLZXkiLCJzY29wZWRLZXlLZXkiOiI0NDNlMmRhZGYxZTZhNDdjMjc1NCIsInNjb3BlZEtleVNlY3JldCI6IjBmODRkNjdmZTY0MTM2ZDRkOWRkYmZiMTIzNWE4YWIxZmQ0OTBmMTJjMWY2ZmNjNTMyYjc1ODA2MjY5NWExZGMiLCJpYXQiOjE2NTg0OTk3NDF9.Rd4F1zBE8wTPIwi4mD1x3pdEnfEM2Ik7zjiw0vQ7AC8'}"
      ]
     },
     "execution_count": null,
     "metadata": {},
     "output_type": "execute_result"
    }
   ],
   "source": [
    "#| ignoretest\n",
    "response = generate_apikey(creds,\"Test\")\n",
    "response.json()"
   ]
  },
  {
   "cell_type": "code",
   "execution_count": null,
   "id": "c4d38f4b-6946-42ef-8126-4f84d68a4239",
   "metadata": {},
   "outputs": [],
   "source": [
    "#| export\n",
    "def list_apikeys(cred:str\n",
    "):\n",
    "\n",
    "    url = \"https://api.pinata.cloud/users/apiKeys\"\n",
    "\n",
    "    payload={}\n",
    "    headers = {\n",
    "      'Authorization': f'Bearer {cred}'\n",
    "    }\n",
    "\n",
    "    response = requests.request(\"GET\", url, headers=headers, data=payload)\n",
    "    \n",
    "    return response\n"
   ]
  },
  {
   "cell_type": "markdown",
   "id": "dfef785d-dd23-4c39-bcc9-6ad962854947",
   "metadata": {},
   "source": [
    "List API Keys"
   ]
  },
  {
   "cell_type": "code",
   "execution_count": null,
   "id": "aabb4be0-c0af-48e9-b10b-e8e7a56017d0",
   "metadata": {},
   "outputs": [
    {
     "data": {
      "text/plain": [
       "{'id': '1ff9d58d-d7fa-4598-9863-c53a806faff6',\n",
       " 'name': 'Test',\n",
       " 'key': '443e2dadf1e6a47c2754',\n",
       " 'secret': 'ed7a3bdc89fb353b6c4f4155a9adb7f5:d15adb31f816663e2612ff5f89a5497abc30a5100ab83575247ba67cc9d49a7d61293d77c94049a8d83a82d8f02423357f311b26204bb57e7be9181d324e6424',\n",
       " 'max_uses': None,\n",
       " 'uses': 0,\n",
       " 'user_id': 'd28f20cf-dfe0-4c8f-9272-26b9c2d8a3cd',\n",
       " 'scopes': {'endpoints': {'data': {'pinList': False,\n",
       "    'userPinnedDataTotal': False},\n",
       "   'pinning': {'unpin': True,\n",
       "    'pinJobs': True,\n",
       "    'pinByHash': True,\n",
       "    'hashMetadata': True,\n",
       "    'hashPinPolicy': False,\n",
       "    'pinFileToIPFS': True,\n",
       "    'pinJSONToIPFS': True,\n",
       "    'userPinPolicy': True}}},\n",
       " 'revoked': False,\n",
       " 'createdAt': '2022-07-22T14:22:21.191Z',\n",
       " 'updatedAt': '2022-07-22T14:22:21.191Z'}"
      ]
     },
     "execution_count": null,
     "metadata": {},
     "output_type": "execute_result"
    }
   ],
   "source": [
    "#| ignoretest\n",
    "newest_apikey = list_apikeys(creds).json()[\"keys\"][0];newest_apikey"
   ]
  },
  {
   "cell_type": "code",
   "execution_count": null,
   "id": "4562c5b9-320b-45bf-a936-fd172c68ba49",
   "metadata": {},
   "outputs": [],
   "source": [
    "#| export\n",
    "def revoke_apikey(cred:str,\n",
    "                  revoke_apikey:str\n",
    "):\n",
    "    url = \"https://api.pinata.cloud/users/revokeApiKey\"\n",
    "\n",
    "    payload = json.dumps({\n",
    "      \"apiKey\": revoke_apikey\n",
    "    })\n",
    "    headers = {\n",
    "      'Authorization': f'Bearer {cred}',\n",
    "      'Content-Type': 'application/json'\n",
    "    }\n",
    "\n",
    "    response = requests.request(\"PUT\", url, headers=headers, data=payload)\n",
    "\n",
    "    return response\n"
   ]
  },
  {
   "cell_type": "markdown",
   "id": "538bbc39-4889-4d7d-8b5b-179dbf93556f",
   "metadata": {},
   "source": [
    "Revoke API Key"
   ]
  },
  {
   "cell_type": "code",
   "execution_count": null,
   "id": "a7ee62e0-8eb7-49cd-b2be-654faaef3acf",
   "metadata": {},
   "outputs": [
    {
     "data": {
      "text/plain": [
       "<Response [200]>"
      ]
     },
     "execution_count": null,
     "metadata": {},
     "output_type": "execute_result"
    }
   ],
   "source": [
    "#| ignoretest\n",
    "revoke_apikey(creds,response.json()[\"JWT\"])"
   ]
  },
  {
   "cell_type": "code",
   "execution_count": null,
   "id": "09e3c96e-c9ce-4f7c-9afe-d3199479c6d7",
   "metadata": {},
   "outputs": [],
   "source": [
    "#| export\n",
    "def upload_file(cred:str,#JWT key\n",
    "                name:str, #filename\n",
    "                fpaths:list, #filepaths\n",
    "                metadata:dict, #metadata\n",
    "                cid_version:str=\"1\", #IPFS cid\n",
    "                directory:bool=False #upload directory\n",
    "):\n",
    "\n",
    "    pinataMetadata = dict({\"name\":name,\"keyvalues\":{}})\n",
    "    pinataMetadata[\"name\"] = name\n",
    "    pinataMetadata[\"keyvalues\"].update(metadata)\n",
    "    \n",
    "    pinataOptions = dict({\"cidVersion\":cid_version,\"directory\":directory})\n",
    "    \n",
    "\n",
    "    url = \"https://api.pinata.cloud/pinning/pinFileToIPFS\"\n",
    "\n",
    "    payload={\"pinataOptions\":json.dumps(pinataOptions),\"pinataMetadata\":json.dumps(pinataMetadata)}\n",
    "    \n",
    "    if directory:\n",
    "        print(\"feature is not ready yet\")\n",
    "    \n",
    "    files=[('file',(name,open(fpaths,'rb'),'application/octet-stream'))]\n",
    "    \n",
    "    headers = {\n",
    "      'Authorization': f'Bearer {cred}'\n",
    "    }\n",
    "\n",
    "    response = requests.request(\"POST\", url, headers=headers, data=payload, files=files)\n",
    "\n",
    "    return response"
   ]
  },
  {
   "cell_type": "markdown",
   "id": "d94c7293-1a63-4d72-9011-b353effd57bd",
   "metadata": {},
   "source": [
    "Upload File to IPFS with metadata"
   ]
  },
  {
   "cell_type": "code",
   "execution_count": null,
   "id": "0abb448f-93d5-4302-8b83-b153e6a07b39",
   "metadata": {},
   "outputs": [
    {
     "data": {
      "text/plain": [
       "'{\"IpfsHash\":\"bafybeibcsnxt2sqzsvfg4lzg3iuxkfit37l3rz5gqmdxwsgec56qalmxie\",\"PinSize\":3975284,\"Timestamp\":\"2022-06-17T22:43:08.303Z\",\"isDuplicate\":true}'"
      ]
     },
     "execution_count": null,
     "metadata": {},
     "output_type": "execute_result"
    }
   ],
   "source": [
    "#| ignoretest\n",
    "metadata = {\"type\":\"AdultData\"}\n",
    "\n",
    "upload_file(creds,\"adult_data.csv\",\"output/adult_data.csv\",metadata,cid_version=1,directory=False).text"
   ]
  },
  {
   "cell_type": "code",
   "execution_count": null,
   "id": "986acd9e-4011-40cb-9710-318c3170d37a",
   "metadata": {},
   "outputs": [],
   "source": [
    "#| export\n",
    "def upload_jsonfile(cred:str,#JWT key\n",
    "                name:str, #filename\n",
    "                fpaths:list, #filepaths\n",
    "                metadata:dict, #metadata\n",
    "                cid_version:str, #IPFS cid\n",
    "                directory:bool=False #upload directory\n",
    "):\n",
    "\n",
    "    url = \"https://api.pinata.cloud/pinning/pinJSONToIPFS\"\n",
    "\n",
    "    payload = json.dumps({\n",
    "      \"pinataOptions\": {\n",
    "        \"cidVersion\": cid_version\n",
    "      },\n",
    "      \"pinataMetadata\": {\n",
    "        \"name\": name,\n",
    "        \"keyvalues\": metadata\n",
    "      },\n",
    "      \"pinataContent\": {\"file\":fpaths}\n",
    "    })\n",
    "    headers = {\n",
    "        'Authorization': f'Bearer {cred}',\n",
    "        'Content-Type': 'application/json'\n",
    "    }\n",
    "\n",
    "    response = requests.request(\"POST\", url, headers=headers, data=payload)\n",
    "\n",
    "    return response"
   ]
  },
  {
   "cell_type": "markdown",
   "id": "92fc0c1f-1781-420b-940c-3047748311d0",
   "metadata": {},
   "source": [
    "This endpoint is optimized for JSON files"
   ]
  },
  {
   "cell_type": "code",
   "execution_count": null,
   "id": "36ac2155-bdfa-4cd5-aa2f-a5c1503c6c4b",
   "metadata": {},
   "outputs": [
    {
     "data": {
      "text/plain": [
       "'{\"IpfsHash\":\"bafkreid56by3qspgyxvppq3ggj2x4tec3akpnlffbhangjzzfc3lfh66yq\",\"PinSize\":45,\"Timestamp\":\"2022-07-22T14:29:51.674Z\",\"isDuplicate\":true}'"
      ]
     },
     "execution_count": null,
     "metadata": {},
     "output_type": "execute_result"
    }
   ],
   "source": [
    "#| ignoretest\n",
    "metadata = {\"name\":\"Vote\"}\n",
    "\n",
    "upload_jsonfile(creds,\"ens_airdrop_Nov8th2021.json\",\"output/ens_airdrop_Nov8th2021.json\",metadata,cid_version=1,directory=False).text"
   ]
  },
  {
   "cell_type": "code",
   "execution_count": null,
   "id": "2de1450b-fe7c-4815-943e-bcc0851c15a1",
   "metadata": {},
   "outputs": [],
   "source": [
    "#| export\n",
    "def pin(cred:str,#JWT key\n",
    "        cid:str, #IPFS cid\n",
    "        fn=None, #Name of file\n",
    "        pinataMetadata=None #Add keys and values associated with IPFS CID\n",
    "):\n",
    "\n",
    "    url = \"https://api.pinata.cloud/pinning/pinByHash\"\n",
    "\n",
    "    payload = json.dumps({\n",
    "      \"hashToPin\": cid,\n",
    "      \"pinataMetadata\": {\n",
    "        \"name\": fn,\n",
    "        \"keyvalues\": pinataMetadata\n",
    "      }\n",
    "    })\n",
    "    headers = {\n",
    "      'Authorization': f'Bearer {cred}',\n",
    "      'Content-Type': 'application/json'\n",
    "    }\n",
    "\n",
    "    response = requests.request(\"POST\", url, headers=headers, data=payload)\n",
    "\n",
    "    print(response.text)\n"
   ]
  },
  {
   "cell_type": "markdown",
   "id": "42e7594b-c81f-4215-ae3f-96aa6d811a5f",
   "metadata": {},
   "source": [
    "Pin files"
   ]
  },
  {
   "cell_type": "code",
   "execution_count": null,
   "id": "e2b0aefc-3d5b-4be5-8be9-4c2332e20b6d",
   "metadata": {},
   "outputs": [
    {
     "name": "stdout",
     "output_type": "stream",
     "text": [
      "{\"id\":\"8cba5496-3cd4-4edb-92d7-023c0ce9c145\",\"ipfsHash\":\"QmUUSHH2ycqciruPaRcptpUQDDeRiMV3G9PxA6KUupXTJV\",\"status\":\"prechecking\",\"name\":\"ens_airdrop\"}\n"
     ]
    }
   ],
   "source": [
    "#| ignoretest\n",
    "metadata = {\"dApp\":\"Ethereum Name Service\",\n",
    "            \"token\":\"ENS\"\n",
    "           }\n",
    "\n",
    "pin(creds,\"QmUUSHH2ycqciruPaRcptpUQDDeRiMV3G9PxA6KUupXTJV\",fn=\"ens_airdrop\",pinataMetadata=metadata)"
   ]
  },
  {
   "cell_type": "code",
   "execution_count": null,
   "id": "70d1016c-928d-435b-8d40-04c94f947c8c",
   "metadata": {},
   "outputs": [],
   "source": [
    "#| export\n",
    "def unpin(cred:str,#JWT Key\n",
    "          cid:str #IPFS CID\n",
    "):\n",
    "    \n",
    "    url = f\"https://api.pinata.cloud/pinning/unpin/{cid}\"\n",
    "\n",
    "    payload={}\n",
    "    headers = {\n",
    "      'Authorization': f'Bearer {cred}'\n",
    "    }\n",
    "\n",
    "    response = requests.request(\"DELETE\", url, headers=headers, data=payload)\n",
    "\n",
    "    print(response)"
   ]
  },
  {
   "cell_type": "markdown",
   "id": "b915e424-38ca-48d9-b2bf-d0fa300794fa",
   "metadata": {},
   "source": [
    "Unpin IPFS CID"
   ]
  },
  {
   "cell_type": "code",
   "execution_count": null,
   "id": "fe87c440-d71e-490c-9953-13704a57ba06",
   "metadata": {},
   "outputs": [
    {
     "name": "stdout",
     "output_type": "stream",
     "text": [
      "<Response [200]>\n"
     ]
    }
   ],
   "source": [
    "#| ignoretest\n",
    "unpin(creds,\"QmUUSHH2ycqciruPaRcptpUQDDeRiMV3G9PxA6KUupXTJV\")"
   ]
  },
  {
   "cell_type": "markdown",
   "id": "c4097b0c-1d57-4e72-8bfa-3e4afc1988c0",
   "metadata": {},
   "source": [
    "If IPFS CID isn't pinned. A 500 error message will be returned"
   ]
  },
  {
   "cell_type": "code",
   "execution_count": null,
   "id": "c1b9370b-c887-4046-9a0a-75ada3f4b55c",
   "metadata": {},
   "outputs": [
    {
     "name": "stdout",
     "output_type": "stream",
     "text": [
      "<Response [500]>\n"
     ]
    }
   ],
   "source": [
    "#| ignoretest\n",
    "unpin(creds,\"QmZnxARhJWsCbTxiAzoRhnxHgMtoEkNJNS8DGLCBEMvm4V\")"
   ]
  },
  {
   "cell_type": "code",
   "execution_count": null,
   "id": "3420fc0d-3614-4648-a024-3ca202a8271f",
   "metadata": {},
   "outputs": [],
   "source": [
    "#| export\n",
    "def edit_metadata(cred:str,#JWT Key\n",
    "              cid:str, #IPFS CID\n",
    "              name:str, #filename\n",
    "              metadata=None #Add keys and values associated with IPFS CID\n",
    "):\n",
    "\n",
    "    url = \"https://api.pinata.cloud/pinning/hashMetadata\"\n",
    "    \n",
    "    pinataMetadata = dict({\"name\":name,\"keyvalues\":{}})\n",
    "    pinataMetadata[\"keyvalues\"].update(metadata)\n",
    "    pinataMetadata[\"ipfsPinHash\"] = cid\n",
    "\n",
    "    payload = json.dumps(pinataMetadata)\n",
    "    headers = {\n",
    "      'Authorization': f'Bearer {cred}',\n",
    "      'Content-Type': 'application/json'\n",
    "    }\n",
    "\n",
    "    response = requests.request(\"PUT\", url, headers=headers, data=payload)\n",
    "\n",
    "    return response\n"
   ]
  },
  {
   "cell_type": "markdown",
   "id": "5cf6552c-75fd-44d0-9af2-1daca368ed1d",
   "metadata": {},
   "source": [
    "Edit metadata of already pinned IPFS CID"
   ]
  },
  {
   "cell_type": "code",
   "execution_count": null,
   "id": "ef5c4946-dd20-4e1c-af54-04700e2d7356",
   "metadata": {},
   "outputs": [
    {
     "data": {
      "text/plain": [
       "<Response [200]>"
      ]
     },
     "execution_count": null,
     "metadata": {},
     "output_type": "execute_result"
    }
   ],
   "source": [
    "#| ignoretest\n",
    "metadata = {\"type\":\"Test\"}\n",
    "\n",
    "edit_metadata(creds,\"bafybeibcsnxt2sqzsvfg4lzg3iuxkfit37l3rz5gqmdxwsgec56qalmxie\",\"name\",metadata)"
   ]
  },
  {
   "cell_type": "markdown",
   "id": "c2cde3a9-d840-47b4-90be-df39ad517420",
   "metadata": {},
   "source": [
    "If IPFS CID is not actively pinned. A 500 error message will be returned"
   ]
  },
  {
   "cell_type": "code",
   "execution_count": null,
   "id": "4c2efa50-c113-455b-97ae-eea400f226d5",
   "metadata": {},
   "outputs": [
    {
     "data": {
      "text/plain": [
       "<Response [500]>"
      ]
     },
     "execution_count": null,
     "metadata": {},
     "output_type": "execute_result"
    }
   ],
   "source": [
    "#| ignoretest\n",
    "metadata = {\"type\":\"Test\"}\n",
    "\n",
    "edit_metadata(creds,\"QmUUSHH2ycqciruPaRcptpUQDDeRiMV3G9PxA6KUupXTJV\",\"name\",metadata)"
   ]
  },
  {
   "cell_type": "code",
   "execution_count": null,
   "id": "eb1f9313-d722-4b6e-b0f8-48fcd938b2c2",
   "metadata": {},
   "outputs": [],
   "source": [
    "#| export\n",
    "\n",
    "def get_pinned_jobs(cred:str,# JWT Key\n",
    "                    params=None # filtering pinned jobs\n",
    "):\n",
    "\n",
    "    '''\n",
    "    'sort' - Sort the results by the date added to the pinning queue (see value options below)\n",
    "    'ASC' - Sort by ascending dates\n",
    "    'DESC' - Sort by descending dates\n",
    "    'status' - Filter by the status of the job in the pinning queue (see potential statuses below)\n",
    "    'prechecking' - Pinata is running preliminary validations on your pin request.\n",
    "    'searching' - Pinata is actively searching for your content on the IPFS network. This may take some time if your content is isolated.\n",
    "    'retrieving' - Pinata has located your content and is now in the process of retrieving it.\n",
    "    'expired' - Pinata wasn't able to find your content after a day of searching the IPFS network. Please make sure your content is hosted on the IPFS network before trying to pin again.\n",
    "    'over_free_limit' - Pinning this object would put you over the free tier limit. Please add a credit card to continue pinning content.\n",
    "    'over_max_size' - This object is too large of an item to pin. If you're seeing this, please contact us for a more custom solution.\n",
    "    'invalid_object' - The object you're attempting to pin isn't readable by IPFS nodes. Please contact us if you receive this, as we'd like to better understand what you're attempting to pin.\n",
    "    'bad_host_node' - You provided a host node that was either invalid or unreachable. Please make sure all provided host nodes are online and reachable.\n",
    "    'ipfs_pin_hash' - Retrieve the record for a specific IPFS hash\n",
    "    'limit' - Limit the amount of results returned per page of results (default is 5, and max is 1000)\n",
    "    'offset' - Provide the record offset for records being returned. This is how you retrieve records on additional pages (default is 0)\n",
    "    '''\n",
    "\n",
    "    base_url = 'https://api.pinata.cloud/pinning/pinJobs/'\n",
    "\n",
    "    header = {'Authorization': f'Bearer {cred}'}\n",
    "\n",
    "    response = requests.get(base_url, headers=header,params=params)\n",
    "\n",
    "    return response"
   ]
  },
  {
   "cell_type": "markdown",
   "id": "63548318-3581-457a-af5b-baaf58c824df",
   "metadata": {},
   "source": [
    "Retrieve pinned jobs. If there are pending pin jobs, they will be returned in json format."
   ]
  },
  {
   "cell_type": "code",
   "execution_count": null,
   "id": "4beaa28c-1854-44a5-9f46-444ad0896373",
   "metadata": {},
   "outputs": [
    {
     "data": {
      "text/plain": [
       "{'count': 0, 'rows': []}"
      ]
     },
     "execution_count": null,
     "metadata": {},
     "output_type": "execute_result"
    }
   ],
   "source": [
    "#| ignoretest\n",
    "get_pinned_jobs(creds).json()"
   ]
  },
  {
   "cell_type": "code",
   "execution_count": null,
   "id": "942c4e36-1726-4a7c-9f24-e5a3c9bea22a",
   "metadata": {},
   "outputs": [],
   "source": [
    "#| export\n",
    "def get_pinned_files(cred:str,# JWT Key\n",
    "                     params=None # Filter returned pinned files \n",
    "):\n",
    "\n",
    "    '''\n",
    "    Query Parameters = params\n",
    "\n",
    "    hashContains: (string) - Filter on alphanumeric characters inside of pin hashes. Hashes which do not include the characters passed in will not be returned.\n",
    "    pinStart: (must be in ISO_8601 format) - Exclude pin records that were pinned before the passed in 'pinStart' datetime.\n",
    "    pinEnd: (must be in ISO_8601 format) - Exclude pin records that were pinned after the passed in 'pinEnd' datetime.\n",
    "    unpinStart: (must be in ISO_8601 format) - Exclude pin records that were unpinned before the passed in 'unpinStart' datetime.\n",
    "    unpinEnd: (must be in ISO_8601 format) - Exclude pin records that were unpinned after the passed in 'unpinEnd' datetime.\n",
    "    pinSizeMin: (integer) - The minimum byte size that pin record you're looking for can have\n",
    "    pinSizeMax: (integer) - The maximum byte size that pin record you're looking for can have\n",
    "    status: (string) -\n",
    "        * Pass in 'all' for both pinned and unpinned records\n",
    "        * Pass in 'pinned' for just pinned records (hashes that are currently pinned)\n",
    "        * Pass in 'unpinned' for just unpinned records (previous hashes that are no longer being pinned on pinata)\n",
    "    pageLimit: (integer) - This sets the amount of records that will be returned per API response. (Max 1000)\n",
    "    pageOffset: (integer) - This tells the API how far to offset the record responses. For example,\n",
    "    if there's 30 records that match your query, and you passed in a pageLimit of 10, providing a pageOffset of 10 would return records 11-20.\n",
    "    '''\n",
    "\n",
    "    base_url = 'https://api.pinata.cloud/data/pinList?'\n",
    "\n",
    "    header = {'Authorization': f'Bearer {cred}'}\n",
    "\n",
    "    response = requests.get(base_url, headers=header,params=params)\n",
    "\n",
    "    return response"
   ]
  },
  {
   "cell_type": "markdown",
   "id": "b3e82fc0-2cbc-4a43-8b54-3c076dea1ae5",
   "metadata": {},
   "source": [
    "Retrieve pinned files and use filtering arguments such as `hashContains` and `status` to filter by IPFS CID and get only the file that is pinned. Pinata keeps a log of all the times an IPFS CID is pinned and unpinned. Therefore, without the `status` filter multiple records would be returned."
   ]
  },
  {
   "cell_type": "code",
   "execution_count": null,
   "id": "3aaaf29c-66eb-4448-a96e-6f51cec8191f",
   "metadata": {},
   "outputs": [
    {
     "data": {
      "text/plain": [
       "{'count': 1,\n",
       " 'rows': [{'id': 'a1a93991-99bc-4c12-9553-2e689046cf65',\n",
       "   'ipfs_pin_hash': 'bafybeibcsnxt2sqzsvfg4lzg3iuxkfit37l3rz5gqmdxwsgec56qalmxie',\n",
       "   'size': 3975284,\n",
       "   'user_id': 'd28f20cf-dfe0-4c8f-9272-26b9c2d8a3cd',\n",
       "   'date_pinned': '2022-06-17T22:43:08.303Z',\n",
       "   'date_unpinned': None,\n",
       "   'metadata': {'name': 'name',\n",
       "    'keyvalues': {'Type': 'Test',\n",
       "     'type': 'Test',\n",
       "     'company': 'Pinata',\n",
       "     'filetype': 'json'}},\n",
       "   'regions': [{'regionId': 'NYC1',\n",
       "     'currentReplicationCount': 1,\n",
       "     'desiredReplicationCount': 1}]}]}"
      ]
     },
     "execution_count": null,
     "metadata": {},
     "output_type": "execute_result"
    }
   ],
   "source": [
    "#| ignoretest\n",
    "get_pinned_files(creds,params={\"hashContains\":\"bafybeibcsnxt2sqzsvfg4lzg3iuxkfit37l3rz5gqmdxwsgec56qalmxie\",\"status\":\"pinned\"}).json()"
   ]
  },
  {
   "cell_type": "code",
   "execution_count": null,
   "id": "618c618a-e086-4a54-a5b7-cda3ef342893",
   "metadata": {},
   "outputs": [],
   "source": [
    "#| export\n",
    "def get_datausage(cred:str,# JWT Key\n",
    "                  params=None # Filter returned data usage statistics \n",
    "):\n",
    "\n",
    "    header = {'Authorization': f'Bearer {cred}'}\n",
    "\n",
    "    base_url = 'https://api.pinata.cloud/data/userPinnedDataTotal'\n",
    "\n",
    "    response = requests.get(base_url, headers=header,params=params)\n",
    "\n",
    "    return response"
   ]
  },
  {
   "cell_type": "markdown",
   "id": "60336b6d-7fc5-4c62-b22c-c83071fcea54",
   "metadata": {},
   "source": [
    "Retrieve data usage stats. The stats are in bytes."
   ]
  },
  {
   "cell_type": "code",
   "execution_count": null,
   "id": "476d4c97-09b5-4215-a43a-22bf62a579f5",
   "metadata": {},
   "outputs": [
    {
     "data": {
      "text/plain": [
       "{'pin_count': -223,\n",
       " 'pin_size_total': 349265187,\n",
       " 'pin_size_with_replications_total': 349265187}"
      ]
     },
     "execution_count": null,
     "metadata": {},
     "output_type": "execute_result"
    }
   ],
   "source": [
    "#| ignoretest\n",
    "get_datausage(creds).json()"
   ]
  },
  {
   "cell_type": "code",
   "execution_count": null,
   "id": "88172a7a-a95b-469e-9bb5-4f9886850b8a",
   "metadata": {},
   "outputs": [
    {
     "name": "stdout",
     "output_type": "stream",
     "text": [
      "Converted 00_utils.ipynb.\n",
      "Converted 01_ipfshttpapi.ipynb.\n",
      "Converted 02_estuaryapi.ipynb.\n",
      "Converted 03_pinataapi.ipynb.\n",
      "Converted 04_tutorial.fastai.ipynb.\n",
      "Converted index.ipynb.\n"
     ]
    }
   ],
   "source": [
    "#|hide\n",
    "from nbdev.doclinks import *\n",
    "nbdev_export()"
   ]
  },
  {
   "cell_type": "code",
   "execution_count": null,
   "id": "2b3f2712-e8e2-4672-8964-677da2c7c60e",
   "metadata": {},
   "outputs": [],
   "source": []
  }
 ],
 "metadata": {
  "kernelspec": {
   "display_name": "Python 3 (ipykernel)",
   "language": "python",
   "name": "python3"
  }
 },
 "nbformat": 4,
 "nbformat_minor": 5
}
