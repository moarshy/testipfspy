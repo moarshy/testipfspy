{
 "cells": [
  {
   "cell_type": "markdown",
   "id": "c365e82d",
   "metadata": {},
   "source": [
    "# Tutorial - IPFS + ML\n",
    "\n",
    "> A Tutorial using IPFS and ML (using fastai)"
   ]
  },
  {
   "cell_type": "markdown",
   "id": "39c59e26",
   "metadata": {},
   "source": [
    "In this tutorial, we will see how we can use IPFS as the storage for datasets and model in ML workflow. "
   ]
  },
  {
   "cell_type": "code",
   "execution_count": null,
   "id": "3407917d",
   "metadata": {},
   "outputs": [],
   "source": [
    "#| ignoretest\n",
    "from fastai.tabular.all import *\n",
    "from ipfspy.ipfshttpapi import IPFSApi"
   ]
  },
  {
   "cell_type": "markdown",
   "id": "f043f44c",
   "metadata": {},
   "source": [
    "## Add a dataset to IPFS using infura node"
   ]
  },
  {
   "cell_type": "code",
   "execution_count": null,
   "id": "c8b43302",
   "metadata": {},
   "outputs": [
    {
     "name": "stdout",
     "output_type": "stream",
     "text": [
      "Changed to local node\n"
     ]
    }
   ],
   "source": [
    "#| ignoretest\n",
    "api = IPFSApi()"
   ]
  },
  {
   "cell_type": "code",
   "execution_count": null,
   "id": "26898cc9",
   "metadata": {},
   "outputs": [
    {
     "name": "stdout",
     "output_type": "stream",
     "text": [
      "Changed to infura node\n"
     ]
    }
   ],
   "source": [
    "#| ignoretest\n",
    "api.change_gateway_type = 'infura'"
   ]
  },
  {
   "cell_type": "code",
   "execution_count": null,
   "id": "e5d4bf01",
   "metadata": {},
   "outputs": [
    {
     "data": {
      "text/plain": [
       "[{'Name': 'adult_data.csv', 'Bytes': 262144},\n",
       " {'Name': 'adult_data.csv', 'Bytes': 524288},\n",
       " {'Name': 'adult_data.csv', 'Bytes': 786432},\n",
       " {'Name': 'adult_data.csv', 'Bytes': 1048576},\n",
       " {'Name': 'adult_data.csv', 'Bytes': 1310720},\n",
       " {'Name': 'adult_data.csv', 'Bytes': 1572864},\n",
       " {'Name': 'adult_data.csv', 'Bytes': 1835008},\n",
       " {'Name': 'adult_data.csv', 'Bytes': 2097152},\n",
       " {'Name': 'adult_data.csv', 'Bytes': 2359296},\n",
       " {'Name': 'adult_data.csv', 'Bytes': 2621440},\n",
       " {'Name': 'adult_data.csv', 'Bytes': 2883584},\n",
       " {'Name': 'adult_data.csv', 'Bytes': 3145728},\n",
       " {'Name': 'adult_data.csv', 'Bytes': 3407872},\n",
       " {'Name': 'adult_data.csv', 'Bytes': 3670016},\n",
       " {'Name': 'adult_data.csv', 'Bytes': 3932160},\n",
       " {'Name': 'adult_data.csv', 'Bytes': 3974475},\n",
       " {'Name': 'adult_data.csv',\n",
       "  'Hash': 'QmZnxARhJWsCbTxiAzoRhnxHgMtoEkNJNS8DGLCBEMvm4V',\n",
       "  'Size': '3975476'}]"
      ]
     },
     "execution_count": null,
     "metadata": {},
     "output_type": "execute_result"
    }
   ],
   "source": [
    "#| ignoretest\n",
    "res, obj = api.add_items('output/adult_data.csv'); obj"
   ]
  },
  {
   "cell_type": "markdown",
   "id": "678220ef",
   "metadata": {},
   "source": [
    "## Retrieving a dataset from IPFS using public node"
   ]
  },
  {
   "cell_type": "code",
   "execution_count": null,
   "id": "ae397286",
   "metadata": {},
   "outputs": [
    {
     "name": "stdout",
     "output_type": "stream",
     "text": [
      "Changed to public node\n"
     ]
    }
   ],
   "source": [
    "#| ignoretest\n",
    "api.change_gateway_type = 'public'"
   ]
  },
  {
   "cell_type": "code",
   "execution_count": null,
   "id": "ce788f23",
   "metadata": {},
   "outputs": [],
   "source": [
    "#| ignoretest\n",
    "res, obj = api.cat_items('QmZnxARhJWsCbTxiAzoRhnxHgMtoEkNJNS8DGLCBEMvm4V')"
   ]
  },
  {
   "cell_type": "code",
   "execution_count": null,
   "id": "7015b51e",
   "metadata": {},
   "outputs": [],
   "source": [
    "#| ignoretest\n",
    "with open('output/adult_data_dl.csv', 'wb') as f:\n",
    "    f.write(res.content)"
   ]
  },
  {
   "cell_type": "code",
   "execution_count": null,
   "id": "ed1ba736",
   "metadata": {},
   "outputs": [],
   "source": [
    "#| ignoretest\n",
    "df = pd.read_csv('output/adult_data_dl.csv')"
   ]
  },
  {
   "cell_type": "code",
   "execution_count": null,
   "id": "418ba0b7",
   "metadata": {},
   "outputs": [],
   "source": [
    "#| ignoretest\n",
    "df.columns = [col.strip() for col in df.columns]"
   ]
  },
  {
   "cell_type": "markdown",
   "id": "04932f2e",
   "metadata": {},
   "source": [
    "## Building a tabular model"
   ]
  },
  {
   "cell_type": "code",
   "execution_count": null,
   "id": "f545c384",
   "metadata": {},
   "outputs": [],
   "source": [
    "#| ignoretest\n",
    "splits = RandomSplitter()(range_of(df))\n",
    "cat_names = ['workclass', 'education', 'marital-status', 'occupation', 'relationship', 'race']\n",
    "cont_names = ['age', 'fnlwgt', 'education-num']\n",
    "procs = [Categorify, FillMissing, Normalize]\n",
    "y_names = 'salary'\n",
    "y_block = CategoryBlock()"
   ]
  },
  {
   "cell_type": "code",
   "execution_count": null,
   "id": "7d9d5304",
   "metadata": {},
   "outputs": [],
   "source": [
    "#| ignoretest\n",
    "to = TabularPandas(df, procs=procs, cat_names=cat_names, cont_names=cont_names,\n",
    "                   y_names=y_names, y_block=y_block, splits=splits)\n",
    "\n",
    "dls = to.dataloaders(bs=64)"
   ]
  },
  {
   "cell_type": "code",
   "execution_count": null,
   "id": "9b1f2d3f",
   "metadata": {},
   "outputs": [],
   "source": [
    "#| ignoretest\n",
    "learn = tabular_learner(dls, [200,100], metrics=accuracy)"
   ]
  },
  {
   "cell_type": "code",
   "execution_count": null,
   "id": "afe4941a",
   "metadata": {},
   "outputs": [
    {
     "data": {
      "text/html": [
       "\n",
       "<style>\n",
       "    /* Turns off some styling */\n",
       "    progress {\n",
       "        /* gets rid of default border in Firefox and Opera. */\n",
       "        border: none;\n",
       "        /* Needs to be in here for Safari polyfill so background images work as expected. */\n",
       "        background-size: auto;\n",
       "    }\n",
       "    .progress-bar-interrupted, .progress-bar-interrupted::-webkit-progress-bar {\n",
       "        background: #F44336;\n",
       "    }\n",
       "</style>\n"
      ],
      "text/plain": [
       "<IPython.core.display.HTML object>"
      ]
     },
     "metadata": {},
     "output_type": "display_data"
    },
    {
     "data": {
      "text/html": [
       "<table border=\"1\" class=\"dataframe\">\n",
       "  <thead>\n",
       "    <tr style=\"text-align: left;\">\n",
       "      <th>epoch</th>\n",
       "      <th>train_loss</th>\n",
       "      <th>valid_loss</th>\n",
       "      <th>accuracy</th>\n",
       "      <th>time</th>\n",
       "    </tr>\n",
       "  </thead>\n",
       "  <tbody>\n",
       "    <tr>\n",
       "      <td>0</td>\n",
       "      <td>0.376169</td>\n",
       "      <td>0.351168</td>\n",
       "      <td>0.838913</td>\n",
       "      <td>00:02</td>\n",
       "    </tr>\n",
       "    <tr>\n",
       "      <td>1</td>\n",
       "      <td>0.368451</td>\n",
       "      <td>0.349306</td>\n",
       "      <td>0.836456</td>\n",
       "      <td>00:02</td>\n",
       "    </tr>\n",
       "    <tr>\n",
       "      <td>2</td>\n",
       "      <td>0.357292</td>\n",
       "      <td>0.343430</td>\n",
       "      <td>0.840756</td>\n",
       "      <td>00:02</td>\n",
       "    </tr>\n",
       "  </tbody>\n",
       "</table>"
      ],
      "text/plain": [
       "<IPython.core.display.HTML object>"
      ]
     },
     "metadata": {},
     "output_type": "display_data"
    }
   ],
   "source": [
    "#| ignoretest\n",
    "learn.fit_one_cycle(3, 1e-3)"
   ]
  },
  {
   "cell_type": "code",
   "execution_count": null,
   "id": "14e95be5",
   "metadata": {},
   "outputs": [],
   "source": [
    "#| ignoretest\n",
    "learn.export('output/testmodel.pkl')"
   ]
  },
  {
   "cell_type": "markdown",
   "id": "4ed40a0b",
   "metadata": {},
   "source": [
    "## Adding model+config_files to IPFS\n"
   ]
  },
  {
   "cell_type": "code",
   "execution_count": null,
   "id": "bd0dd853",
   "metadata": {},
   "outputs": [
    {
     "name": "stdout",
     "output_type": "stream",
     "text": [
      "Changed to infura node\n"
     ]
    }
   ],
   "source": [
    "#| ignoretest\n",
    "api.change_gateway_type = 'infura'"
   ]
  },
  {
   "cell_type": "code",
   "execution_count": null,
   "id": "2d3dd86d",
   "metadata": {},
   "outputs": [
    {
     "data": {
      "text/plain": [
       "[{'Name': 'testmodel.pkl', 'Bytes': 242379},\n",
       " {'Name': 'testmodel.pkl',\n",
       "  'Hash': 'QmR77qXp7CYEg6kHA3z77mcayTmm9hoXz7YQHFz9WjphiE',\n",
       "  'Size': '242393'}]"
      ]
     },
     "execution_count": null,
     "metadata": {},
     "output_type": "execute_result"
    }
   ],
   "source": [
    "#| ignoretest\n",
    "res, obj = api.add_items('output/testmodel.pkl'); obj"
   ]
  },
  {
   "cell_type": "markdown",
   "id": "9da57dd0",
   "metadata": {},
   "source": [
    "## Retrieving model+config_files from IPFS\n"
   ]
  },
  {
   "cell_type": "code",
   "execution_count": null,
   "id": "9b6b262a",
   "metadata": {},
   "outputs": [
    {
     "name": "stdout",
     "output_type": "stream",
     "text": [
      "Changed to public node\n"
     ]
    }
   ],
   "source": [
    "#| ignoretest\n",
    "api.change_gateway_type = 'public'"
   ]
  },
  {
   "cell_type": "code",
   "execution_count": null,
   "id": "97d2d1e5",
   "metadata": {},
   "outputs": [],
   "source": [
    "#| ignoretest\n",
    "res, obj = api.cat_items('QmR77qXp7CYEg6kHA3z77mcayTmm9hoXz7YQHFz9WjphiE')"
   ]
  },
  {
   "cell_type": "code",
   "execution_count": null,
   "id": "8fd0470f",
   "metadata": {},
   "outputs": [],
   "source": [
    "#| ignoretest\n",
    "with open('output/testmodel_dl.pkl', 'wb') as f:\n",
    "    f.write(res.content)"
   ]
  },
  {
   "cell_type": "code",
   "execution_count": null,
   "id": "c95c6227",
   "metadata": {},
   "outputs": [],
   "source": [
    "#| ignoretest\n",
    "learn = load_learner('output/testmodel_dl.pkl')"
   ]
  },
  {
   "cell_type": "code",
   "execution_count": null,
   "id": "9acaea15",
   "metadata": {},
   "outputs": [],
   "source": [
    "#| ignoretest\n",
    "dl = learn.dls.test_dl(df.iloc[:10])"
   ]
  },
  {
   "cell_type": "code",
   "execution_count": null,
   "id": "dadb96d6",
   "metadata": {},
   "outputs": [
    {
     "data": {
      "text/html": [
       "\n",
       "<style>\n",
       "    /* Turns off some styling */\n",
       "    progress {\n",
       "        /* gets rid of default border in Firefox and Opera. */\n",
       "        border: none;\n",
       "        /* Needs to be in here for Safari polyfill so background images work as expected. */\n",
       "        background-size: auto;\n",
       "    }\n",
       "    .progress-bar-interrupted, .progress-bar-interrupted::-webkit-progress-bar {\n",
       "        background: #F44336;\n",
       "    }\n",
       "</style>\n"
      ],
      "text/plain": [
       "<IPython.core.display.HTML object>"
      ]
     },
     "metadata": {},
     "output_type": "display_data"
    },
    {
     "data": {
      "text/html": [],
      "text/plain": [
       "<IPython.core.display.HTML object>"
      ]
     },
     "metadata": {},
     "output_type": "display_data"
    },
    {
     "data": {
      "text/plain": [
       "(tensor([[0.9282, 0.0718],\n",
       "         [0.3556, 0.6444],\n",
       "         [0.9667, 0.0333],\n",
       "         [0.8731, 0.1269],\n",
       "         [0.4372, 0.5628],\n",
       "         [0.1317, 0.8683],\n",
       "         [0.9819, 0.0181],\n",
       "         [0.5074, 0.4926],\n",
       "         [0.8733, 0.1267],\n",
       "         [0.1803, 0.8197]]),\n",
       " tensor([[0],\n",
       "         [0],\n",
       "         [0],\n",
       "         [0],\n",
       "         [0],\n",
       "         [0],\n",
       "         [0],\n",
       "         [1],\n",
       "         [1],\n",
       "         [1]], dtype=torch.int8))"
      ]
     },
     "execution_count": null,
     "metadata": {},
     "output_type": "execute_result"
    }
   ],
   "source": [
    "#| ignoretest\n",
    "learn.get_preds(dl=dl)"
   ]
  },
  {
   "cell_type": "code",
   "execution_count": null,
   "id": "30e8eeda",
   "metadata": {},
   "outputs": [],
   "source": []
  }
 ],
 "metadata": {
  "kernelspec": {
   "display_name": "Python 3 (ipykernel)",
   "language": "python",
   "name": "python3"
  }
 },
 "nbformat": 4,
 "nbformat_minor": 5
}
