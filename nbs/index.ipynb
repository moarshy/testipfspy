{
 "cells": [
  {
   "cell_type": "markdown",
   "metadata": {},
   "source": [
    "# Welcome to IPFSPy by Algovera\n",
    "\n",
    "> A python library by Algovera to interact with IPFS and IPFS ecosystem such as the common pinning services"
   ]
  },
  {
   "cell_type": "markdown",
   "metadata": {},
   "source": [
    "## What is IPFSPy?"
   ]
  },
  {
   "cell_type": "markdown",
   "metadata": {},
   "source": [
    "IPFSPy is a python library by Algovera to interact with IPFS and IPFS ecosystem such as the common pinning services. It is designed by data scientists for data scientists to interact with the IPFS ecosystem without leaving the comfort of python and jupyter notebook.\n",
    "\n",
    "You can learn more about IPFS [here](https://ipfs.io/#why).\n",
    "\n",
    "IPFS is built using the go-lang or javascript. With IPFSPy, you can interact with IPFS using the exposed [HTTP RPC API](https://docs.ipfs.io/reference/http/api/#getting-started). \n",
    "\n",
    "With IPFSPy, you can either use local, infura or public nodes. In order to use local node, you will need a IPFS deamon running in the form of IPFS Desktop, IPFS Campanion on IPFS CLI. As an alternative, you can connect via the [Infura](https://infura.io/product/ipfs)'s dedicated IPFS gateway. "
   ]
  },
  {
   "cell_type": "markdown",
   "metadata": {},
   "source": [
    "## Installing"
   ]
  },
  {
   "cell_type": "markdown",
   "metadata": {},
   "source": [
    "to do: instructions on how to install library goes here"
   ]
  },
  {
   "cell_type": "markdown",
   "metadata": {},
   "source": [
    "## How to use"
   ]
  },
  {
   "cell_type": "markdown",
   "metadata": {},
   "source": [
    "To adda file to IPFS, simply\n",
    "\n",
    "```python\n",
    "from ipfspy.ipfshttpapi import IPFSApi\n",
    "\n",
    "api = IPFSApi()\n",
    "response, json = api.add_items(url, \"path/to/file\")\n",
    "```"
   ]
  },
  {
   "cell_type": "code",
   "execution_count": null,
   "metadata": {},
   "outputs": [],
   "source": []
  }
 ],
 "metadata": {
  "kernelspec": {
   "display_name": "Python 3 (ipykernel)",
   "language": "python",
   "name": "python3"
  }
 },
 "nbformat": 4,
 "nbformat_minor": 2
}
