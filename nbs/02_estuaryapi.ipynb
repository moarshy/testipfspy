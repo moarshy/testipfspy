{
 "cells": [
  {
   "cell_type": "code",
   "execution_count": null,
   "metadata": {},
   "outputs": [],
   "source": [
    "#| default_exp estuaryapi"
   ]
  },
  {
   "cell_type": "markdown",
   "metadata": {},
   "source": [
    "# Estuary\n",
    "> Python API for interacting with Estuary"
   ]
  },
  {
   "cell_type": "code",
   "execution_count": null,
   "metadata": {},
   "outputs": [],
   "source": [
    "#| hide\n",
    "from nbdev.showdoc import *"
   ]
  },
  {
   "cell_type": "code",
   "execution_count": null,
   "metadata": {},
   "outputs": [],
   "source": [
    "#| hide\n",
    "#| export\n",
    "import requests\n",
    "from ipfspy.utils import parse_response"
   ]
  },
  {
   "cell_type": "code",
   "execution_count": null,
   "metadata": {},
   "outputs": [],
   "source": [
    "#| export\n",
    "def est_get_viewer(\n",
    "    api_key: str # Your Estuary API key\n",
    "):\n",
    "    \"View your Estuary account details\"\n",
    "    headers = {\n",
    "    'Authorization': f'Bearer {api_key}',\n",
    "    }\n",
    "\n",
    "    response = requests.get('https://api.estuary.tech/viewer', headers=headers)\n",
    "    return response, parse_response(response)"
   ]
  },
  {
   "cell_type": "markdown",
   "metadata": {},
   "source": [
    "## Standard IPFS Pinning API\n",
    "> Pinning to/interacting with IPFS through Estuary"
   ]
  },
  {
   "cell_type": "code",
   "execution_count": null,
   "metadata": {},
   "outputs": [],
   "source": [
    "#| export\n",
    "# list pins\n",
    "def list_pins(\n",
    "    api_key: str # Your Estuary API key\n",
    "):\n",
    "    \"List all your pins\"\n",
    "\n",
    "    headers = {\n",
    "    'Content-Type': 'application/json',\n",
    "    'Authorization': f'Bearer {api_key}',\n",
    "    }\n",
    "\n",
    "    response = requests.get('https://api.estuary.tech/pinning/pins', headers=headers)\n",
    "    return response, parse_response(response)"
   ]
  },
  {
   "cell_type": "code",
   "execution_count": null,
   "metadata": {},
   "outputs": [],
   "source": [
    "#| export\n",
    "# add pin\n",
    "def add_pin(\n",
    "    api_key: str, # Your Estuary API key\n",
    "    file_name: str, # File name to pin\n",
    "    cid: str # CID to attach\n",
    "):\n",
    "    \"Add a new pin object for the current access token.\"\n",
    "\n",
    "    headers = {\n",
    "    'Content-Type': 'application/json',\n",
    "    'Authorization': f'Bearer {api_key}',\n",
    "    }\n",
    "\n",
    "    json_data = {\n",
    "        'name': name,\n",
    "        'cid': cid,\n",
    "    }\n",
    "\n",
    "    response = requests.post('https://api.estuary.tech/pinning/pins', headers=headers, json=json_data)\n",
    "    return response, parse_response(response)"
   ]
  },
  {
   "cell_type": "code",
   "execution_count": null,
   "metadata": {},
   "outputs": [],
   "source": [
    "#| export\n",
    "# get pin by ID\n",
    "def get_pin(\n",
    "    api_key: str, # Your Estuary API key\n",
    "    pin_id: str # Unique pin ID\n",
    "):\n",
    "    \"Get a pinned object by ID\"\n",
    "    \n",
    "    headers = {\n",
    "    'Content-Type': 'application/json',\n",
    "    'Authorization': f'Bearer {api_key}',\n",
    "    }\n",
    "\n",
    "    response = requests.get(f'https://api.estuary.tech/pinning/pins/{pin_id}', headers=headers)\n",
    "    return response, parse_response(response)"
   ]
  },
  {
   "cell_type": "code",
   "execution_count": null,
   "metadata": {},
   "outputs": [],
   "source": [
    "#| export\n",
    "# replace pin by ID\n",
    "def replace_pin(\n",
    "    api_key: str, # Your Estuary API key\n",
    "    pin_id: str # Unique pin ID\n",
    "):\n",
    "    \"Replace a pinned object by ID\"\n",
    "    \n",
    "    headers = {\n",
    "    'Content-Type': 'application/json',\n",
    "    'Authorization': f'Bearer {api_key}',\n",
    "    }\n",
    "\n",
    "    response = requests.post(f'https://api.estuary.tech/pinning/pins/{pin_id}', headers=headers)\n",
    "    return response, parse_response(response)"
   ]
  },
  {
   "cell_type": "code",
   "execution_count": null,
   "metadata": {},
   "outputs": [],
   "source": [
    "#| export\n",
    "# remove pin by ID\n",
    "def remove_pin(\n",
    "    api_key: str, # Your Estuary API key\n",
    "    pin_id: str # Unique pin ID\n",
    "):\n",
    "    \"Remove a pinned object by ID\"\n",
    "    \n",
    "    headers = {\n",
    "    'Content-Type': 'application/json',\n",
    "    'Authorization': f'Bearer {api_key}',\n",
    "    }\n",
    "\n",
    "    response = requests.delete(f'https://api.estuary.tech/pinning/pins/{pin_id}', headers=headers)\n",
    "    return response, parse_response(response)"
   ]
  },
  {
   "cell_type": "markdown",
   "metadata": {},
   "source": [
    "### Collections"
   ]
  },
  {
   "cell_type": "code",
   "execution_count": null,
   "metadata": {},
   "outputs": [],
   "source": [
    "#| export\n",
    "# create new collection\n",
    "def create_coll(\n",
    "    api_key: str, # Your Estuary API key\n",
    "    name: str, # Collection name\n",
    "    description: str # Collection description\n",
    "):\n",
    "    \"Create new collection\"\n",
    "    \n",
    "    headers = {\n",
    "    'Content-Type': 'application/json',\n",
    "    'Authorization': f'Bearer {api_key}',\n",
    "    }\n",
    "\n",
    "    json_data = {\n",
    "        'name': name,\n",
    "        'description': description,\n",
    "    }\n",
    "\n",
    "    response = requests.post('https://api.estuary.tech/collections/create', headers=headers, json=json_data)\n",
    "    return response, parse_response(response)"
   ]
  },
  {
   "cell_type": "code",
   "execution_count": null,
   "metadata": {},
   "outputs": [],
   "source": [
    "#| export\n",
    "# add content\n",
    "def add_content(\n",
    "    api_key: str, # Your Estuary API key\n",
    "    collection_id: str, # Collection ID\n",
    "    data: list, # List of paths to data to be added\n",
    "    cids: list # List of respective CIDs\n",
    "    \n",
    "):\n",
    "    \"Add data to Collection\"\n",
    "    \n",
    "    headers = {\n",
    "    'Content-Type': 'application/json',\n",
    "    'Authorization': f'Bearer {api_key}',\n",
    "    }\n",
    "\n",
    "    json_data = {\n",
    "        'contents': data,\n",
    "        'cids': cids,\n",
    "        'collection': collection_id,\n",
    "    }\n",
    "\n",
    "    response = requests.post('https://api.estuary.tech/collections/add-content', headers=headers, json=json_data)\n",
    "    return response, parse_response(response)"
   ]
  },
  {
   "cell_type": "code",
   "execution_count": null,
   "metadata": {},
   "outputs": [],
   "source": [
    "#| export\n",
    "# list collections\n",
    "def list_colls(\n",
    "    api_key: str # Your Estuary API key\n",
    "):\n",
    "    \"List your collections\"\n",
    "    \n",
    "    headers = {\n",
    "    'Authorization': f'Bearer {api_key}',\n",
    "    }\n",
    "\n",
    "    response = requests.get('https://api.estuary.tech/collections/list', headers=headers)\n",
    "    return response, parse_response(response)"
   ]
  },
  {
   "cell_type": "code",
   "execution_count": null,
   "metadata": {},
   "outputs": [],
   "source": [
    "#| export\n",
    "# list collection content\n",
    "def list_coll_content(\n",
    "    api_key: str, # Your Estuary API key\n",
    "    collection_id: str # Collection ID\n",
    "):\n",
    "    \"List contents of a collection from ID\"\n",
    "    \n",
    "    headers = {\n",
    "    'Authorization': f'Bearer {api_key}',\n",
    "    }\n",
    "\n",
    "    response = requests.get(f'https://api.estuary.tech/collections/content/{collection_id}', headers=headers)\n",
    "    return response, parse_response(response)"
   ]
  },
  {
   "cell_type": "code",
   "execution_count": null,
   "metadata": {},
   "outputs": [],
   "source": [
    "#| export\n",
    "# FS list content of a path\n",
    "def list_content_path(\n",
    "    api_key: str, # Your Estuary API key\n",
    "    collection_id: str, # Collection ID\n",
    "    path: str # Path in collection to list files from\n",
    "):\n",
    "    \"List content of a path in collection\"\n",
    "    \n",
    "    headers = {\n",
    "    'Authorization': f'Bearer {api_key}',\n",
    "    }\n",
    "\n",
    "    params = {\n",
    "        'col': collection_id,\n",
    "    }\n",
    "\n",
    "    response = requests.get(f'https://api.estuary.tech/collections/fs/list?col=UUID&dir={path}', params=params, headers=headers)\n",
    "    return response, parse_response(response)"
   ]
  },
  {
   "cell_type": "code",
   "execution_count": null,
   "metadata": {},
   "outputs": [],
   "source": [
    "#| export\n",
    "# FS add content to path\n",
    "def add_content_path(\n",
    "    api_key: str, # Your Estuary API key\n",
    "    collection_id: str, # Collection ID\n",
    "    path: str # Path in collection to add files to\n",
    "):\n",
    "    \"Add content to a specific file system path in an IPFS collection\"\n",
    "    \n",
    "    headers = {\n",
    "    'Content-Type': 'application/json',\n",
    "    'Authorization': f'Bearer {api_key}',\n",
    "    }\n",
    "\n",
    "    params = {\n",
    "        'col': collection_id,\n",
    "    }\n",
    "\n",
    "    response = requests.post(f'https://api.estuary.tech/collections/fs/add?col=UUID&content=LOCAL_ID&path={path}', params=params, headers=headers)\n",
    "    return response, parse_response(response)"
   ]
  },
  {
   "cell_type": "markdown",
   "metadata": {},
   "source": [
    "### Estuary base API"
   ]
  },
  {
   "cell_type": "code",
   "execution_count": null,
   "metadata": {},
   "outputs": [],
   "source": [
    "#| export\n",
    "# add client safe upload key\n",
    "def add_key(\n",
    "    api_key, # Your Estuary API key\n",
    "    expiry='24h' # Expiry of upload key\n",
    "):\n",
    "    \"Add client safe upload key\"\n",
    "    \n",
    "    headers = {\n",
    "    'Authorization': f'Bearer {api_key}',\n",
    "    'Accept': 'application/json',\n",
    "    }\n",
    "\n",
    "    params = {\n",
    "        'perms': 'upload',\n",
    "        'expiry': expiry,\n",
    "    }\n",
    "\n",
    "    response = requests.post('https://api.estuary.tech/user/api-keys', params=params, headers=headers)\n",
    "    return response, parse_response(response)"
   ]
  },
  {
   "cell_type": "code",
   "execution_count": null,
   "metadata": {},
   "outputs": [],
   "source": [
    "#| export\n",
    "def add_data(\n",
    "    api_key: str, # Your Estuary API key\n",
    "    path_to_file: str # Path to file you want to upload\n",
    "):\n",
    "    \"Upload file to Estuary\"\n",
    "\n",
    "    headers = {\n",
    "    'Authorization': f'Bearer {api_key}',\n",
    "    'Accept': 'application/json',\n",
    "    }\n",
    "\n",
    "    files = {\n",
    "        'data': open(path_to_file, 'rb'),\n",
    "    }\n",
    "\n",
    "    response = requests.post('https://api.estuary.tech/content/add', headers=headers, files=files)\n",
    "    return response, parse_response(response)"
   ]
  },
  {
   "cell_type": "code",
   "execution_count": null,
   "metadata": {},
   "outputs": [],
   "source": [
    "#| export\n",
    "# add CID\n",
    "def add_cid(\n",
    "    api_key: str, # Your Estuary API key\n",
    "    file_name: str, # File name to add to CID\n",
    "    cid: str # CID for file\n",
    "):\n",
    "    \"Use an existing IPFS CID to make storage deals.\"\n",
    "    \n",
    "    headers = {\n",
    "    'Content-Type': 'application/json',\n",
    "    'Authorization': f'Bearer {api_key}',\n",
    "    }\n",
    "\n",
    "    json_data = {\n",
    "        'name': file_name,\n",
    "        'root': cid,\n",
    "    }\n",
    "\n",
    "    response = requests.post('https://api.estuary.tech/content/add-ipfs', headers=headers, json=json_data)\n",
    "    return response, parse_response(response)"
   ]
  },
  {
   "cell_type": "code",
   "execution_count": null,
   "metadata": {},
   "outputs": [],
   "source": [
    "#| export\n",
    "# add CAR\n",
    "def add_car(\n",
    "    api_key: str, # Your Estuary API key\n",
    "    path_to_file: str # Path to file to store\n",
    "):\n",
    "    \"Write a Content-Addressable Archive (CAR) file, and make storage deals for its contents.\"\n",
    "    \n",
    "    headers = {\n",
    "    'Authorization': f'Bearer {api_key}',\n",
    "    'Accept': 'application/json',\n",
    "    }\n",
    "\n",
    "    with open(path_to_file, 'rb') as f:\n",
    "        data = f.read()\n",
    "\n",
    "    response = requests.post('https://api.estuary.tech/content/add-car', headers=headers, data=data)\n",
    "    return response, parse_response(response)"
   ]
  },
  {
   "cell_type": "code",
   "execution_count": null,
   "metadata": {},
   "outputs": [],
   "source": [
    "#| export\n",
    "# make deal with specific provider\n",
    "def make_deal(\n",
    "    api_key: str, # Your Estuary API key\n",
    "    content_id: str, # Content ID on Estuary\n",
    "    provider_id: str, # Provider ID\n",
    "):\n",
    "    \"Make a deal with a storage provider and a file you have already uploaded to Estuary\"\n",
    "    \n",
    "    headers = {\n",
    "    'Authorization': f'Bearer {api_key}',\n",
    "    }\n",
    "\n",
    "    json_data = {\n",
    "        'content': content_id,\n",
    "    }\n",
    "\n",
    "    response = requests.post(f'https://api.estuary.tech/deals/make/{provider_id}', headers=headers, json=json_data)\n",
    "    return response, parse_response(response)"
   ]
  },
  {
   "cell_type": "code",
   "execution_count": null,
   "metadata": {},
   "outputs": [],
   "source": [
    "#| export\n",
    "# data by CID\n",
    "def view_data_cid(\n",
    "    api_key: str, # Your Estuary API key\n",
    "    cid: str # CID\n",
    "):\n",
    "    \"View CID information\"\n",
    "    \n",
    "    headers = {\n",
    "    'Authorization': f'Bearer {api_key}',\n",
    "    }\n",
    "    \n",
    "    response = requests.get(f'https://api.estuary.tech/content/by-cid/{cid}', headers=headers)\n",
    "    return response, parse_response(response)"
   ]
  },
  {
   "cell_type": "code",
   "execution_count": null,
   "metadata": {},
   "outputs": [],
   "source": [
    "#| export\n",
    "# list data\n",
    "def list_data(\n",
    "    api_key: str # Your Estuary API key\n",
    "):\n",
    "    headers = {\n",
    "    'Authorization': f'Bearer {api_key}',\n",
    "    }\n",
    "    \n",
    "    response = requests.get('https://api.estuary.tech/content/stats', headers=headers)\n",
    "    return response, parse_response(response)"
   ]
  },
  {
   "cell_type": "code",
   "execution_count": null,
   "metadata": {},
   "outputs": [],
   "source": [
    "#| export\n",
    "# list deals\n",
    "def list_deals(\n",
    "    api_key: str # Your Estuary API key\n",
    "):\n",
    "    headers = {\n",
    "    'Authorization': f'Bearer {api_key}',\n",
    "    }\n",
    "    \n",
    "    response = requests.get('https://api.estuary.tech/content/deals', headers=headers)\n",
    "    return response, parse_response(response)"
   ]
  },
  {
   "cell_type": "code",
   "execution_count": null,
   "metadata": {},
   "outputs": [],
   "source": [
    "#| export\n",
    "# get deal status by id\n",
    "def get_deal_status(\n",
    "    api_key: str, # Your Estuary API key\n",
    "    deal_id: str # Deal ID\n",
    "):\n",
    "    \"Get deal status by id\"\n",
    "    \n",
    "    headers = {\n",
    "    'Authorization': f'Bearer {api_key}',\n",
    "    }\n",
    "    \n",
    "    response = requests.get(f'https://api.estuary.tech/content/status/{deal_id}', headers=headers)\n",
    "    return response, parse_response(response)"
   ]
  },
  {
   "cell_type": "code",
   "execution_count": null,
   "metadata": {},
   "outputs": [],
   "source": [
    "#| export\n",
    "# get Estuary node stats\n",
    "def get_node_stats():\n",
    "    \"Get Estuary node stats\"\n",
    "\n",
    "    response = requests.get('https://api.estuary.tech/public/stats')\n",
    "    return response, parse_response(response)"
   ]
  },
  {
   "cell_type": "code",
   "execution_count": null,
   "metadata": {},
   "outputs": [],
   "source": [
    "#| export\n",
    "# get on chain deal data\n",
    "def get_deal_data():\n",
    "    \"Get on-chain deal data\"\n",
    "\n",
    "    response = requests.get('https://api.estuary.tech/public/metrics/deals-on-chain')\n",
    "    return response, parse_response(response)"
   ]
  },
  {
   "cell_type": "code",
   "execution_count": null,
   "metadata": {},
   "outputs": [],
   "source": [
    "#| export\n",
    "# get miner query ask\n",
    "def get_miner_ask(\n",
    "    miner_id: str # Miner ID\n",
    "):\n",
    "    \"Get the query ask and verified ask for any miner\"\n",
    "    \n",
    "    response = requests.get(f'https://api.estuary.tech/public/miners/storage/query/{miner_id}')\n",
    "    return response, parse_response(response)"
   ]
  },
  {
   "cell_type": "code",
   "execution_count": null,
   "metadata": {},
   "outputs": [],
   "source": [
    "#| export\n",
    "# get failure logs by provider\n",
    "def get_failure_logs(\n",
    "    miner_id: str # Miner ID\n",
    "):\n",
    "    \"Get all of the failure logs for a specific miner\"\n",
    "    \n",
    "    response = requests.get(f'https://api.estuary.tech/public/miners/failures/{miner_id}')\n",
    "    return response, parse_response(response)"
   ]
  },
  {
   "cell_type": "code",
   "execution_count": null,
   "metadata": {},
   "outputs": [],
   "source": [
    "#| export\n",
    "# get deal logs by provider\n",
    "def get_deal_logs(\n",
    "    provider_id: str # Provider ID\n",
    "):\n",
    "    \"Get deal logs by provider\"\n",
    "    \n",
    "    response = requests.get(f'https://api.estuary.tech/public/miners/deals/{provider_id}')\n",
    "    return response, parse_response(response)"
   ]
  },
  {
   "cell_type": "code",
   "execution_count": null,
   "metadata": {},
   "outputs": [],
   "source": [
    "#| export\n",
    "# get provider stats\n",
    "def get_provider_stats(\n",
    "    provider_id: str # Provider ID\n",
    "):\n",
    "    \"Get provider stats\"\n",
    "    \n",
    "    response = requests.get(f'https://api.estuary.tech/public/miners/stats/{provider_id}')\n",
    "    return response, parse_response(response)"
   ]
  },
  {
   "cell_type": "code",
   "execution_count": null,
   "metadata": {},
   "outputs": [],
   "source": [
    "#| export\n",
    "# list providers\n",
    "def list_providers():\n",
    "    \"List Estuary providers\"\n",
    "    \n",
    "    response = requests.get('https://api.estuary.tech/public/miners')\n",
    "    return response, parse_response(response)"
   ]
  },
  {
   "cell_type": "markdown",
   "metadata": {},
   "source": [
    "### Downloading data"
   ]
  },
  {
   "cell_type": "code",
   "execution_count": null,
   "metadata": {},
   "outputs": [],
   "source": [
    "#| export\n",
    "def get_data(\n",
    "    cid: str, # Data CID\n",
    "    path_name: str # Path and filename to store the file at\n",
    "):\n",
    "    \"Download data from Estuary CID\"\n",
    "    \n",
    "    url = f'https://dweb.link/ipfs/{cid}'\n",
    "    response = requests.get(url, allow_redirects=True)  # to get content\n",
    "    with open(path_name, 'wb') as f:\n",
    "        f.write(response.content)\n",
    "    return response, parse_response(response)"
   ]
  },
  {
   "cell_type": "code",
   "execution_count": null,
   "metadata": {},
   "outputs": [
    {
     "name": "stdout",
     "output_type": "stream",
     "text": [
      "Converted 00_utils.ipynb.\n",
      "Converted 01_httpapi.ipynb.\n",
      "Converted 02_estuaryapi.ipynb.\n",
      "Converted index.ipynb.\n"
     ]
    }
   ],
   "source": [
    "#|hide\n",
    "from nbdev.doclinks import *\n",
    "nbdev_export()"
   ]
  },
  {
   "cell_type": "code",
   "execution_count": null,
   "metadata": {},
   "outputs": [],
   "source": []
  }
 ],
 "metadata": {
  "kernelspec": {
   "display_name": "Python 3 (ipykernel)",
   "language": "python",
   "name": "python3"
  }
 },
 "nbformat": 4,
 "nbformat_minor": 4
}
