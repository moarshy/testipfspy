{
 "cells": [
  {
   "cell_type": "code",
   "execution_count": null,
   "metadata": {},
   "outputs": [],
   "source": [
    "#| default_exp ipfshttpapi"
   ]
  },
  {
   "cell_type": "code",
   "execution_count": null,
   "metadata": {},
   "outputs": [],
   "source": [
    "#| hide\n",
    "%load_ext autoreload\n",
    "%autoreload 2"
   ]
  },
  {
   "cell_type": "markdown",
   "metadata": {},
   "source": [
    "# IPFS HTTP API\n",
    "\n",
    "> IPFS HTTP API based Python functions to interact with IPFS"
   ]
  },
  {
   "cell_type": "code",
   "execution_count": null,
   "metadata": {},
   "outputs": [],
   "source": [
    "#| hide\n",
    "from nbdev.showdoc import *"
   ]
  },
  {
   "cell_type": "code",
   "execution_count": null,
   "metadata": {},
   "outputs": [],
   "source": [
    "#| export\n",
    "#| hide\n",
    "from typing import Union, List\n",
    "\n",
    "import requests\n",
    "import json\n",
    "from fastcore.all import *\n",
    "import pandas as pd\n",
    "import dag_cbor\n",
    "from requests.exceptions import HTTPError\n",
    "import time\n",
    "\n",
    "from testipfspy.utils import parse_error_message, parse_response, IPFSGateway, GATEWAY_MAP\n",
    "\n",
    "from ipfshttpclient.multipart import stream_files, stream_directory"
   ]
  },
  {
   "cell_type": "code",
   "execution_count": null,
   "metadata": {},
   "outputs": [],
   "source": [
    "#| export\n",
    "class IPFSApi():\n",
    "    def __init__(self,\n",
    "        gateway_type='local', # Gateway to use - `public`, `infura`, `local` \n",
    "        timeout=10, # \n",
    "        **kwargs\n",
    "    ):\n",
    "        \n",
    "        self.gateway = None\n",
    "        self._gateways = None\n",
    "\n",
    "        self.change_gateway_type = gateway_type\n",
    "        self.timeout = timeout\n",
    "        self.full_structure = None\n",
    "    \n",
    "    @property\n",
    "    def change_gateway_type(self):\n",
    "        return self.gateway_type\n",
    "\n",
    "    @change_gateway_type.setter    \n",
    "    def change_gateway_type(self, \n",
    "        value, \n",
    "        ):\n",
    "        self.gateway_type = value\n",
    "        self._gateways = [IPFSGateway(g) for g in GATEWAY_MAP[self.gateway_type]] \n",
    "        print(f\"Changed to {self.gateway_type} node\")\n",
    "    \n",
    "    def _find_gateway(self):\n",
    "        backoff_list = []\n",
    "        for gw in self._gateways:\n",
    "            state, wait_time = gw.get_state()\n",
    "            if state == \"online\":\n",
    "                return gw, 0\n",
    "            if state == \"backoff\":\n",
    "                backoff_list.append((wait_time, gw))\n",
    "        if len(backoff_list) > 0:\n",
    "            return sorted(backoff_list)[0][::-1]\n",
    "        else:\n",
    "            raise RuntimeError(\"no working gateways could be found\")\n",
    "\n",
    "    def _run_on_any_gateway(self, f):\n",
    "        timeout = time.monotonic() + self.timeout\n",
    "        while time.monotonic() <= timeout:\n",
    "            gw, wait_time = self._find_gateway()\n",
    "            if wait_time > 0:\n",
    "                time.sleep(wait_time)\n",
    "            res = f(gw)\n",
    "            if res is not None:\n",
    "                break\n",
    "        return res\n",
    "        \n",
    "    def _gw_get(self, path):\n",
    "        return self._run_on_any_gateway(lambda gw: gw.get(path))\n",
    "\n",
    "    def _gw_head(self, path, headers=None):\n",
    "        return self._run_on_any_gateway(lambda gw: gw.head(path, headers))\n",
    "\n",
    "    def _gw_apipost(self, call, **kwargs): \n",
    "        return self._run_on_any_gateway(lambda gw: gw.apipost(call, **kwargs))\n",
    "    \n",
    "    def add_items(self,\n",
    "        filepath:Union[str, List[str]], # Path to the file/directory to be added to IPFS\n",
    "        directory:bool=False, # Is filepath a directory\n",
    "        wrap_with_directory:bool=False, # True if path is a directory\n",
    "        chunker:str='size-262144', # Chunking algorithm, size-[bytes], rabin-[min]-[avg]-[max] or buzhash\n",
    "        pin:bool=True, # Pin this object when adding\n",
    "        hash_:str='sha2-256', # Hash function to use. Implies CIDv1 if not sha2-256\n",
    "        progress:str='true', # Stream progress data\n",
    "        silent:str='false', # Write no output\n",
    "        cid_version:int=0, # CID version\n",
    "        **kwargs,\n",
    "        ):\n",
    "        \"add file/directory to ipfs\"\n",
    "\n",
    "        params = {}\n",
    "        params['wrap-with-directory'] = 'true' if wrap_with_directory else 'false'\n",
    "        params['chunker'] = chunker\n",
    "        params['pin'] = 'true' if pin else 'false'\n",
    "        params['hash'] = hash_\n",
    "        params['progress'] = progress\n",
    "        params['silent'] = silent\n",
    "        params['cid-version'] = cid_version\n",
    "        params.update(kwargs)\n",
    "        \n",
    "        chunk_size = int(chunker.split('-')[1])\n",
    "\n",
    "        if not directory:\n",
    "            data, headers = stream_files(filepath, chunk_size=chunk_size)\n",
    "\n",
    "        else:\n",
    "            data, headers = stream_directory(filepath, chunk_size=chunk_size, recursive=True)\n",
    "\n",
    "        response = self._gw_apipost('add', \n",
    "                                    params=params, \n",
    "                                    data=data,\n",
    "                                    headers=headers)\n",
    "\n",
    "        if response.status_code == 200:\n",
    "            return response, parse_response(response)\n",
    "\n",
    "        else:\n",
    "            raise HTTPError (parse_error_message(response))\n",
    "\n",
    "    def ls_items(self,\n",
    "        cid:str, # The path to the IPFS object(s) to list links from\n",
    "        resolve_type:bool=True, # Resolve linked objects to find out their types\n",
    "        size:bool=True, # Resolve linked objects to find out their file size\n",
    "        **kwargs,\n",
    "    ):\n",
    "        'List directory contents for Unix filesystem objects'\n",
    "\n",
    "        params = {}\n",
    "        params['arg'] = cid\n",
    "        params['resolve-type'] = 'true' if resolve_type else 'false'\n",
    "        params['size'] = 'true' if size else 'false'\n",
    "        params.update(kwargs)\n",
    "\n",
    "        response = self._gw_apipost('ls', params=params)\n",
    "\n",
    "        if response.status_code == 200:\n",
    "            return response, parse_response(response)\n",
    "\n",
    "        else:\n",
    "            raise HTTPError (parse_error_message(response))\n",
    "\n",
    "    def get_items(self,\n",
    "        cid:str, # The path to the IPFS object(s) to be outputted\n",
    "        output:str='', # The path where the output should be stored\n",
    "        **kwargs\n",
    "    ):\n",
    "        'Download IPFS objects'\n",
    "\n",
    "        params = {}\n",
    "        params['arg'] = cid\n",
    "        params['output'] = output\n",
    "        params.update(kwargs)\n",
    "\n",
    "        response = self._gw_apipost('get', params=params)\n",
    "\n",
    "        if response.status_code == 200:\n",
    "            return response, parse_response(response)\n",
    "\n",
    "        else:\n",
    "            raise HTTPError (parse_error_message(response))\n",
    "\n",
    "    def cat_items(self,\n",
    "        cid:str, # The path to the IPFS object(s) to be output\n",
    "        **kwargs\n",
    "    ):\n",
    "        'Show IPFS object data'\n",
    "\n",
    "        params = {}\n",
    "        params['arg'] = cid\n",
    "        params.update(kwargs)\n",
    "\n",
    "        response = self._gw_apipost('cat', params=params)\n",
    "\n",
    "        if response.status_code == 200:\n",
    "            return response, parse_response(response)\n",
    "\n",
    "        else:\n",
    "            raise HTTPError (parse_error_message(response))\n",
    "    \n",
    "    def dag_export(self,\n",
    "        cid:str, #The path to the IPFS DAG node\n",
    "        **kwargs,\n",
    "    ):\n",
    "        'Streams the selected DAG as a .car stream on stdout.'\n",
    "\n",
    "        params = {}\n",
    "        params['arg'] = cid\n",
    "        params.update(kwargs)\n",
    "\n",
    "        response = self._gw_apipost('dag/export', params=params)\n",
    "\n",
    "        if response.status_code == 200:\n",
    "            return response, parse_response(response)\n",
    "\n",
    "        else:\n",
    "            raise HTTPError (parse_error_message(response))\n",
    "\n",
    "    def dag_get(self,\n",
    "        cid:str, #The path to the IPFS DAG node\n",
    "        output_codec:str='dag-json',\n",
    "    ):\n",
    "        'Get a DAG node from IPFS.'\n",
    "\n",
    "        params = {}\n",
    "        params['arg'] = cid\n",
    "        params['output-codec'] = output_codec\n",
    "\n",
    "        response = self._gw_apipost('dag/get', params=params)\n",
    "\n",
    "        if response.status_code == 200:\n",
    "            return response, parse_response(response)\n",
    "\n",
    "        else:\n",
    "            raise HTTPError (parse_error_message(response))\n",
    "\n",
    "    def dag_stat(self,\n",
    "        cid:str, #The path to the IPFS DAG node \n",
    "        **kwargs, \n",
    "    ):\n",
    "        'Gets stats for a DAG.'\n",
    "\n",
    "        params = {}\n",
    "        params['arg'] = cid\n",
    "        params.update(kwargs)\n",
    "\n",
    "        response = self._gw_apipost('dag/stat', params=params)\n",
    "\n",
    "        if response.status_code == 200:\n",
    "            return response, parse_response(response)\n",
    "\n",
    "        else:\n",
    "            raise HTTPError (parse_error_message(response))\n",
    "    \n",
    "    def pin_add(self,\n",
    "        cid:str, # Path to IPFS object(s) to be pinned\n",
    "        recursive:str='true', # Recursively pin the object linked to by the specified object(s)\n",
    "    ):\n",
    "        'Pin objects to local storage.'\n",
    "\n",
    "        params = {}\n",
    "        params['arg'] = cid\n",
    "        params['recursive'] = recursive\n",
    "\n",
    "        response = self._gw_apipost('pin/add', params=params)\n",
    "        \n",
    "        if response.status_code == 200:\n",
    "            return response, parse_response(response)\n",
    "\n",
    "        else:\n",
    "            raise HTTPError (parse_error_message(response))\n",
    "\n",
    "    def pin_ls(self,\n",
    "        type_:str='all', # The type of pinned keys to list. Can be \"direct\", \"indirect\", \"recursive\", or \"all\"\n",
    "        **kwargs,\n",
    "    ):\n",
    "        'List objects pinned to local storage.'    \n",
    "\n",
    "        params = {}\n",
    "        params['type'] = type_\n",
    "        params.update(kwargs)\n",
    "\n",
    "        response = self._gw_apipost('pin/ls', params=params)\n",
    "\n",
    "        if response.status_code == 200:\n",
    "            return response, parse_response(response)\n",
    "\n",
    "        else:\n",
    "            raise HTTPError (parse_error_message(response))\n",
    "\n",
    "    def pin_rm(self,\n",
    "        cid:str, # Path to object(s) to be unpinned\n",
    "        recursive:str='true', #  Recursively unpin the object linked to by the specified object(s)\n",
    "        **kwargs,\n",
    "    ):\n",
    "        'List objects pinned to local storage.'    \n",
    "\n",
    "        params = {}\n",
    "        params['arg'] = cid\n",
    "        params['recursive'] = recursive\n",
    "        params.update(kwargs)\n",
    "\n",
    "        response = self._gw_apipost('pin/rm', params=params)\n",
    "\n",
    "        if response.status_code == 200:\n",
    "            return response, parse_response(response)\n",
    "\n",
    "        else:\n",
    "            raise HTTPError (parse_error_message(response))\n",
    "\n",
    "    def rspin_add(self,\n",
    "        service_name:str, # Name of the remote pinning service to use\n",
    "        service_edpt:str, # Service endpoint\n",
    "        service_key:str, # Service key\n",
    "    ):\n",
    "        'Pin object to remote pinning service.'\n",
    "\n",
    "        params = {}\n",
    "        params['arg'] = [service_name, service_edpt, service_key]\n",
    "\n",
    "        response = self._gw_apipost('pin/remote/service/add', params=params)\n",
    "\n",
    "        if response.status_code == 200:\n",
    "            return response, parse_response(response)\n",
    "\n",
    "        else:\n",
    "            raise HTTPError (parse_error_message(response))\n",
    "\n",
    "    def rspin_ls(self,\n",
    "        **kwargs\n",
    "    ):\n",
    "        'List remote pinning services.'\n",
    "\n",
    "        params = {}\n",
    "        params.update(kwargs)\n",
    "\n",
    "        response = self._gw_apipost('pin/remote/service/ls', params=params)\n",
    "\n",
    "        if response.status_code == 200:\n",
    "            return response, parse_response(response)\n",
    "\n",
    "        else:\n",
    "            raise HTTPError (parse_error_message(response))\n",
    "\n",
    "\n",
    "    def rspin_rm(self,\n",
    "        service_name:str, # Name of pinning service to remove\n",
    "    ):\n",
    "        'Remove remote pinning service.'\n",
    "\n",
    "        params = {}\n",
    "        params['arg'] = service_name\n",
    "\n",
    "        response = self._gw_apipost('pin/remote/service/rm', params=params)\n",
    "\n",
    "        if response.status_code == 200:\n",
    "            return response, parse_response(response)\n",
    "\n",
    "        else:\n",
    "            raise HTTPError (parse_error_message(response))\n",
    "    \n",
    "    def rpin_add(self,\n",
    "        cid:str, #  Path to IPFS object(s) to be pinned\n",
    "        service:str, # Name of the remote pinning service to use\n",
    "        background:str='false', # Add to the queue on the remote service and return immediately (does not wait for pinned status)\n",
    "        **kwargs,\n",
    "    ):\n",
    "        'Pin object to remote pinning service.'\n",
    "\n",
    "        params = {}\n",
    "        params['arg'] = cid\n",
    "        params['service'] = service\n",
    "        params['background'] = background\n",
    "        params.update(kwargs)\n",
    "\n",
    "        response = self._gw_apipost('pin/remote/add', params=params)\n",
    "\n",
    "        if response.status_code == 200:\n",
    "            return response, parse_response(response)\n",
    "\n",
    "        else:\n",
    "            raise HTTPError (parse_error_message(response))\n",
    "\n",
    "\n",
    "    def rpin_ls(self,\n",
    "        service:str, # Name of the remote pinning service to use\n",
    "        **kwargs, \n",
    "    ):\n",
    "        'List objects pinned to remote pinning service.'\n",
    "\n",
    "        params = {}\n",
    "        params['service'] = service\n",
    "        params.update(kwargs)\n",
    "\n",
    "        response = self._gw_apipost('pin/remote/ls', params=params)\n",
    "\n",
    "        if response.status_code == 200:\n",
    "            return response, parse_response(response)\n",
    "\n",
    "        else:\n",
    "            raise HTTPError (parse_error_message(response))\n",
    "\n",
    "    def rpin_rm(self,\n",
    "        service:str, # Name of the remote pinning service to use\n",
    "        **kwargs, \n",
    "    ):\n",
    "        'Remove pins from remote pinning service.'    \n",
    "\n",
    "        params = {}\n",
    "        params['service'] = service\n",
    "        params.update(kwargs)\n",
    "\n",
    "        response = self._gw_apipost('pin/remote/rm', params=params)\n",
    "\n",
    "        if response.status_code == 200:\n",
    "            return response, parse_response(response)\n",
    "\n",
    "        else:\n",
    "            raise HTTPError (parse_error_message(response))\n",
    "            \n",
    "    def block_get(self,\n",
    "        cid:str, # The base58 multihash of an existing block to get\n",
    "\n",
    "    ):\n",
    "        'Get a raw IPFS block.'\n",
    "\n",
    "        params = {}\n",
    "        params['arg'] = cid\n",
    "\n",
    "        response = self._gw_apipost('block/get', params=params)\n",
    "\n",
    "        if response.status_code == 200:\n",
    "            return response, parse_response(response)\n",
    "\n",
    "        else:\n",
    "            raise HTTPError (parse_error_message(response))\n",
    "\n",
    "    def block_put(self,\n",
    "        filepath:str, # Path to file\n",
    "        mhtype:str='sha2-256', # multihash hash function.\n",
    "        mhlen:int=-1, # Multihash hash length\n",
    "        pin:str=False, #  pin added blocks recursively\n",
    "        **kwargs,\n",
    "    ):\n",
    "        'Store input as an IPFS block.'\n",
    "\n",
    "        params = {}\n",
    "        params['mhtype'] = mhtype\n",
    "        params['mhlen'] = mhlen\n",
    "        params['pin'] = 'true' if pin else 'false'\n",
    "        params.update(kwargs)\n",
    "\n",
    "        response = self._gw_apipost('block/put', params=params, files={'files':open(filepath, 'rb')})\n",
    "\n",
    "        if response.status_code == 200:\n",
    "            return response, parse_response(response)\n",
    "\n",
    "        else:\n",
    "            raise HTTPError (parse_error_message(response))\n",
    "            \n",
    "    def block_rm(self,\n",
    "        cid:str, # Bash58 encoded multihash of block(s) to remove\n",
    "        force:str='false', # Ignore nonexistent blocks.\n",
    "        quiet:str='false', # Write minimal output.\n",
    "    ):\n",
    "        'Remove IPFS block(s).'\n",
    "\n",
    "        params = {}\n",
    "        params['arg'] = cid\n",
    "        params['force'] = force\n",
    "        params['quiet'] = quiet\n",
    "\n",
    "        response = self._gw_apipost('block/rm', params=params)\n",
    "\n",
    "        if response.status_code == 200:\n",
    "            return response, parse_response(response)\n",
    "\n",
    "        else:\n",
    "            raise HTTPError (parse_error_message(response))\n",
    "\n",
    "    def block_stat(self,\n",
    "        cid:str, # Bash58 encoded multihash of block(s) to remove\n",
    "\n",
    "    ):\n",
    "        'Print information of a raw IPFS block.'\n",
    "\n",
    "        params = {}\n",
    "        params['arg'] = cid\n",
    "\n",
    "        response = self._gw_apipost('block/stat', params=params)\n",
    "\n",
    "        if response.status_code == 200:\n",
    "            return response, parse_response(response)\n",
    "\n",
    "        else:\n",
    "            raise HTTPError (parse_error_message(response))\n",
    "            \n",
    "    def mfs_chcid(self,\n",
    "        path:str='/', # Path to change\n",
    "        cid_version:int=0, # Cid version to use\n",
    "        **kwargs,\n",
    "    ):\n",
    "        'Change the CID version or hash function of the root node of a given path.'\n",
    "\n",
    "        params = {}\n",
    "        params['arg'] = path\n",
    "        params['cid-version'] = cid_version\n",
    "        params.update(kwargs)\n",
    "\n",
    "        response = self._gw_apipost(\"files/chcid\", params=params)\n",
    "\n",
    "        if response.status_code == 200:\n",
    "            return response, parse_response(response)\n",
    "\n",
    "        else:\n",
    "            raise HTTPError (parse_error_message(response))\n",
    "\n",
    "    def mfs_cp(self,\n",
    "        source_path:str, # Source IPFS or MFS path to copy\n",
    "        dest_path:str, # Destination within MFS\n",
    "        **kwargs\n",
    "    ):\n",
    "        'Add references to IPFS files and directories in MFS (or copy within MFS).'\n",
    "\n",
    "        params = {}\n",
    "        params['arg'] = [source_path, dest_path]\n",
    "        params.update(kwargs)\n",
    "\n",
    "        response = self._gw_apipost('files/cp', params=params)\n",
    "\n",
    "        if response.status_code == 200:\n",
    "            return response, parse_response(response)\n",
    "\n",
    "        else:\n",
    "            raise HTTPError (parse_error_message(response))\n",
    "\n",
    "    def mfs_flush(self,\n",
    "        path:str='/', # Path to flush\n",
    "    ):\n",
    "        \"Flush a given path's data to disk\"\n",
    "\n",
    "        params['arg'] = path\n",
    "\n",
    "        response = self._gw_apipost('files/flush',params=params)\n",
    "\n",
    "        if response.status_code == 200:\n",
    "            return response, parse_response(response)\n",
    "\n",
    "        else:\n",
    "            raise HTTPError (parse_error_message(response))\n",
    "\n",
    "    def mfs_ls(self, \n",
    "        path:str='/', # Path to show listing for \n",
    "        **kwargs\n",
    "    ):\n",
    "        \"List directories in the local mutable namespace.\"\n",
    "\n",
    "        params = {}\n",
    "        params['arg'] = path\n",
    "        params.update(kwargs)\n",
    "\n",
    "        response = self._gw_apipost('files/ls', params=params)\n",
    "\n",
    "        if response.status_code == 200:\n",
    "            return response, parse_response(response)\n",
    "\n",
    "        else:\n",
    "            raise HTTPError (parse_error_message(response))\n",
    "\n",
    "    def mfs_mkdir(self,\n",
    "        path:str, # Path to dir to make\n",
    "        **kwargs,\n",
    "    ):\n",
    "        \"Make directories.\"\n",
    "\n",
    "        params = {}\n",
    "        params['arg'] = path\n",
    "        params.update(kwargs)\n",
    "\n",
    "        response = self._gw_apipost(\"files/mkdir\", params=params)\n",
    "\n",
    "        if response.status_code == 200:\n",
    "            return response, parse_response(response)\n",
    "\n",
    "        else:\n",
    "            raise HTTPError (parse_error_message(response))\n",
    "\n",
    "    def mfs_mv(self,\n",
    "        source_path:str, # Source file to move\n",
    "        dest_path:str,  # Destination path for file to be moved to\n",
    "    ):\n",
    "        \"Move files.\"\n",
    "\n",
    "        params = {}\n",
    "        params['arg'] = [source_path, dest_path]\n",
    "\n",
    "        response = self._gw_apipost(\"files/mv\", params=params)\n",
    "\n",
    "        if response.status_code == 200:\n",
    "            return response, parse_response(response)\n",
    "\n",
    "        else:\n",
    "            raise HTTPError (parse_error_message(response))\n",
    "\n",
    "    def mfs_read(self,\n",
    "        path, # Path to file to be read\n",
    "        **kwargs,\n",
    "    ):\n",
    "        \"Read a file in a given MFS.\"\n",
    "\n",
    "        params = {}\n",
    "        params['arg'] = path\n",
    "        params.update(kwargs)\n",
    "\n",
    "        response = self._gw_apipost(\"files/read\",params=params)\n",
    "\n",
    "        if response.status_code == 200:\n",
    "            return response, parse_response(response)\n",
    "\n",
    "        else:\n",
    "            raise HTTPError (parse_error_message(response))\n",
    "            \n",
    "    def mfs_rm(self,\n",
    "        path, # File to remove\n",
    "        **kwargs,\n",
    "    ):\n",
    "        \"Read a file in a given MFS.\"\n",
    "\n",
    "        params = {}\n",
    "        params['arg'] = path\n",
    "        params.update(kwargs)\n",
    "\n",
    "        response = self._gw_apipost(\"files/rm\", params=params)\n",
    "\n",
    "        if response.status_code == 200:\n",
    "            return response, parse_response(response)\n",
    "\n",
    "        else:\n",
    "            raise HTTPError (parse_error_message(response))\n",
    "\n",
    "    def mfs_stat(self,\n",
    "        path, # Path to node to stat\n",
    "        **kwargs,\n",
    "    ):\n",
    "        \"Display file status.\"    \n",
    "\n",
    "        params = {}\n",
    "        params['arg'] = path\n",
    "        params.update(kwargs)\n",
    "\n",
    "        response = self._gw_apipost(\"files/stat\", params=params)\n",
    "\n",
    "        if response.status_code == 200:\n",
    "            return response, parse_response(response)\n",
    "\n",
    "        else:\n",
    "            raise HTTPError (parse_error_message(response))\n",
    "\n",
    "    def mfs_write(self,\n",
    "        path, # Path to write to\n",
    "        filepath, # File to add\n",
    "        create=True, # Create the file if it does not exist\n",
    "        **kwargs,\n",
    "    ):\n",
    "        \"Display file status.\"    \n",
    "\n",
    "        files = {\n",
    "            'file': open(filepath, 'rb')\n",
    "        }\n",
    "\n",
    "        params = {}\n",
    "        params['arg'] = path\n",
    "        params['create'] = 'true' if create else 'false'\n",
    "        params.update(kwargs)\n",
    "\n",
    "        response = self._gw_apipost(\"files/write\", params=params, files=files)\n",
    "\n",
    "        if response.status_code == 200:\n",
    "            return response, parse_response(response)\n",
    "\n",
    "        else:\n",
    "            raise HTTPError (parse_error_message(response))"
   ]
  },
  {
   "cell_type": "markdown",
   "metadata": {},
   "source": [
    "## Choosing your gateway"
   ]
  },
  {
   "cell_type": "markdown",
   "metadata": {},
   "source": [
    "By default, the `IPFSApi` uses the `local` node."
   ]
  },
  {
   "cell_type": "code",
   "execution_count": null,
   "metadata": {},
   "outputs": [
    {
     "name": "stdout",
     "output_type": "stream",
     "text": [
      "Changed to local node\n"
     ]
    }
   ],
   "source": [
    "#| ignoretest\n",
    "api = IPFSApi()"
   ]
  },
  {
   "cell_type": "markdown",
   "metadata": {},
   "source": [
    "To change to `infura` or `public` use the `change_gateway_type` method"
   ]
  },
  {
   "cell_type": "code",
   "execution_count": null,
   "metadata": {},
   "outputs": [
    {
     "name": "stdout",
     "output_type": "stream",
     "text": [
      "Changed to infura node\n"
     ]
    }
   ],
   "source": [
    "#| ignoretest\n",
    "api.change_gateway_type = 'infura'"
   ]
  },
  {
   "cell_type": "code",
   "execution_count": null,
   "metadata": {},
   "outputs": [
    {
     "name": "stdout",
     "output_type": "stream",
     "text": [
      "Changed to public node\n"
     ]
    }
   ],
   "source": [
    "#| ignoretest\n",
    "api.change_gateway_type = 'public'"
   ]
  },
  {
   "cell_type": "code",
   "execution_count": null,
   "metadata": {},
   "outputs": [
    {
     "name": "stdout",
     "output_type": "stream",
     "text": [
      "Changed to local node\n"
     ]
    }
   ],
   "source": [
    "#| ignoretest\n",
    "api.change_gateway_type = 'local'"
   ]
  },
  {
   "cell_type": "markdown",
   "metadata": {},
   "source": [
    "## UnixFS"
   ]
  },
  {
   "cell_type": "markdown",
   "metadata": {},
   "source": [
    "### add_items\n",
    "\n",
    "- only available on `local` and `infura` nodes"
   ]
  },
  {
   "cell_type": "code",
   "execution_count": null,
   "metadata": {},
   "outputs": [
    {
     "data": {
      "text/markdown": [
       "<h4 id=\"IPFSApi.add_items\" class=\"doc_header\"><code>IPFSApi.add_items</code><a href=\"__main__.py#L61\" class=\"source_link\" style=\"float:right\">[source]</a></h4>\n",
       "\n",
       "> <code>IPFSApi.add_items</code>(**`filepath`**:`Union`\\[`str`, `typing.List[str]`\\], **`directory`**:`bool`=*`False`*, **`wrap_with_directory`**:`bool`=*`False`*, **`chunker`**:`str`=*`'size-262144'`*, **`pin`**:`bool`=*`True`*, **`hash_`**:`str`=*`'sha2-256'`*, **`progress`**:`str`=*`'true'`*, **`silent`**:`str`=*`'false'`*, **`cid_version`**:`int`=*`0`*, **\\*\\*`kwargs`**)\n",
       "\n",
       "add file/directory to ipfs\n",
       "\n",
       "||Type|Default|Details|\n",
       "|---|---|---|---|\n",
       "|**`filepath`**|`typing.Union[str, typing.List[str]]`||Path to the file/directory to be added to IPFS|\n",
       "|**`directory`**|`bool`|`False`|Is filepath a directory|\n",
       "|**`wrap_with_directory`**|`bool`|`False`|True if path is a directory|\n",
       "|**`chunker`**|`str`|`size-262144`|Chunking algorithm, size-[bytes], rabin-[min]-[avg]-[max] or buzhash|\n",
       "|**`pin`**|`bool`|`True`|Pin this object when adding|\n",
       "|**`hash_`**|`str`|`sha2-256`|Hash function to use. Implies CIDv1 if not sha2-256|\n",
       "|**`progress`**|`str`|`true`|Stream progress data|\n",
       "|**`silent`**|`str`|`false`|Write no output|\n",
       "|**`cid_version`**|`int`|`0`|CID version|\n",
       "|**`kwargs`**|||*No Content*|\n"
      ],
      "text/plain": [
       "<IPython.core.display.Markdown object>"
      ]
     },
     "metadata": {},
     "output_type": "display_data"
    }
   ],
   "source": [
    "show_doc(IPFSApi.add_items)"
   ]
  },
  {
   "cell_type": "markdown",
   "metadata": {},
   "source": [
    "#### Using local IPFS Node\n",
    "\n",
    "> Important: This requires a local IPFS Node to be run. Set up your local node using info [here](https://ipfs.io/#install). \n",
    "\n",
    "\n",
    "> Note: Full list of available `params` on `add` function can be found [here](https://docs.ipfs.io/reference/http/api/#api-v0-add)\n"
   ]
  },
  {
   "cell_type": "markdown",
   "metadata": {},
   "source": [
    "Upload a file"
   ]
  },
  {
   "cell_type": "code",
   "execution_count": null,
   "metadata": {},
   "outputs": [
    {
     "data": {
      "text/plain": [
       "[{'Name': 'README.md', 'Bytes': 1179},\n",
       " {'Name': 'README.md',\n",
       "  'Hash': 'QmUfwG4P6EA5xbD3De5bS7XKcBion8ReQj7m9ZjxaPvq3B',\n",
       "  'Size': '1190'}]"
      ]
     },
     "execution_count": null,
     "metadata": {},
     "output_type": "execute_result"
    }
   ],
   "source": [
    "#| ignoretest\n",
    "response, jsonobject = api.add_items(filepath=\"../README.md\"); jsonobject"
   ]
  },
  {
   "cell_type": "markdown",
   "metadata": {},
   "source": [
    "Upload multiple files"
   ]
  },
  {
   "cell_type": "code",
   "execution_count": null,
   "metadata": {},
   "outputs": [
    {
     "data": {
      "text/plain": [
       "[{'Name': 'README.md', 'Bytes': 1179},\n",
       " {'Name': 'README.md',\n",
       "  'Hash': 'QmUfwG4P6EA5xbD3De5bS7XKcBion8ReQj7m9ZjxaPvq3B',\n",
       "  'Size': '1190'},\n",
       " {'Name': 'test.txt', 'Bytes': 24},\n",
       " {'Name': 'test.txt',\n",
       "  'Hash': 'QmTT8vwdbnP9Ls8bSY1LMyW4a8bEwTYZa5izEoJMBtTPfb',\n",
       "  'Size': '32'}]"
      ]
     },
     "execution_count": null,
     "metadata": {},
     "output_type": "execute_result"
    }
   ],
   "source": [
    "#| ignoretest\n",
    "response, jsonobject = api.add_items(filepath=[\"../README.md\", 'output/test.txt']); jsonobject"
   ]
  },
  {
   "cell_type": "markdown",
   "metadata": {},
   "source": [
    "You can view the added file on [ipfs.io](https://ipfs.io/ipfs/QmfQ5hFqZ2DFUwTfnaPEuVXXSXsq552AXMvjrQtbkQKWLZ)\n",
    "\n",
    "To view any CID on ipfs.io `https://ipfs.io/ipfs/CID`"
   ]
  },
  {
   "cell_type": "markdown",
   "metadata": {},
   "source": [
    "Upload multiple file wrapped in a directory"
   ]
  },
  {
   "cell_type": "code",
   "execution_count": null,
   "metadata": {},
   "outputs": [
    {
     "data": {
      "text/plain": [
       "[{'Name': 'README.md', 'Bytes': 1179},\n",
       " {'Name': 'README.md',\n",
       "  'Hash': 'QmUfwG4P6EA5xbD3De5bS7XKcBion8ReQj7m9ZjxaPvq3B',\n",
       "  'Size': '1190'},\n",
       " {'Name': 'test.txt', 'Bytes': 24},\n",
       " {'Name': 'test.txt',\n",
       "  'Hash': 'QmTT8vwdbnP9Ls8bSY1LMyW4a8bEwTYZa5izEoJMBtTPfb',\n",
       "  'Size': '32'},\n",
       " {'Name': '',\n",
       "  'Hash': 'Qmbu99JbYDXGCf9bprV355A5hLLE6ogHe5FM4BVAZmqU9i',\n",
       "  'Size': '1328'}]"
      ]
     },
     "execution_count": null,
     "metadata": {},
     "output_type": "execute_result"
    }
   ],
   "source": [
    "#| ignoretest\n",
    "response, jsonobject = api.add_items(filepath=[\"../README.md\", 'output/test.txt'], wrap_with_directory='true'); jsonobject"
   ]
  },
  {
   "cell_type": "markdown",
   "metadata": {},
   "source": [
    "Upload a directory"
   ]
  },
  {
   "cell_type": "code",
   "execution_count": null,
   "metadata": {},
   "outputs": [
    {
     "data": {
      "text/plain": [
       "[{'Name': 'output/fol1/fol2/test3.txt',\n",
       "  'Hash': 'Qmb6W6nVPYd5CJKFpC1zGGuoD7TYQLE5PGG1RHkHm2W3m9',\n",
       "  'Size': '40'},\n",
       " {'Name': 'output/fol1/fol2',\n",
       "  'Hash': 'QmRGeFLyf3ZANQFVdVvo8RzSrBcs7BGGqN6wn764xmwopA',\n",
       "  'Size': '3975794'},\n",
       " {'Name': 'output/fol1',\n",
       "  'Hash': 'QmdK9agin1q8YdTaUQ6v81pWBu8TencfijyPGVZ5epFxvR',\n",
       "  'Size': '7951637'},\n",
       " {'Name': 'output',\n",
       "  'Hash': 'QmWJvSt7QGY2yhr9mrfAm76vRvxXA5ygB4zd2SmfD43vtX',\n",
       "  'Size': '11927480'}]"
      ]
     },
     "execution_count": null,
     "metadata": {},
     "output_type": "execute_result"
    }
   ],
   "source": [
    "#| ignoretest\n",
    "response, jsonobject = api.add_items(filepath='output', directory=True); jsonobject[-4:]"
   ]
  },
  {
   "cell_type": "markdown",
   "metadata": {},
   "source": [
    "#### Using infura.io gateway\n",
    "\n",
    "This works without a local IPFS node running"
   ]
  },
  {
   "cell_type": "code",
   "execution_count": null,
   "metadata": {},
   "outputs": [
    {
     "name": "stdout",
     "output_type": "stream",
     "text": [
      "Changed to infura node\n"
     ]
    }
   ],
   "source": [
    "#| ignoretest\n",
    "api.change_gateway_type = 'infura'"
   ]
  },
  {
   "cell_type": "code",
   "execution_count": null,
   "metadata": {},
   "outputs": [
    {
     "data": {
      "text/plain": [
       "[{'Name': 'README.md', 'Bytes': 1179},\n",
       " {'Name': 'README.md',\n",
       "  'Hash': 'QmUfwG4P6EA5xbD3De5bS7XKcBion8ReQj7m9ZjxaPvq3B',\n",
       "  'Size': '1190'}]"
      ]
     },
     "execution_count": null,
     "metadata": {},
     "output_type": "execute_result"
    }
   ],
   "source": [
    "#| ignoretest\n",
    "response, jsonobject = api.add_items(\"../README.md\"); jsonobject"
   ]
  },
  {
   "cell_type": "code",
   "execution_count": null,
   "metadata": {},
   "outputs": [
    {
     "data": {
      "text/plain": [
       "[{'Name': 'output/fol1/fol2/test3.txt',\n",
       "  'Hash': 'Qmb6W6nVPYd5CJKFpC1zGGuoD7TYQLE5PGG1RHkHm2W3m9',\n",
       "  'Size': '40'},\n",
       " {'Name': 'output/fol1/fol2',\n",
       "  'Hash': 'QmRGeFLyf3ZANQFVdVvo8RzSrBcs7BGGqN6wn764xmwopA',\n",
       "  'Size': '3975794'},\n",
       " {'Name': 'output/fol1',\n",
       "  'Hash': 'QmdK9agin1q8YdTaUQ6v81pWBu8TencfijyPGVZ5epFxvR',\n",
       "  'Size': '7951637'},\n",
       " {'Name': 'output',\n",
       "  'Hash': 'QmWJvSt7QGY2yhr9mrfAm76vRvxXA5ygB4zd2SmfD43vtX',\n",
       "  'Size': '11927480'}]"
      ]
     },
     "execution_count": null,
     "metadata": {},
     "output_type": "execute_result"
    }
   ],
   "source": [
    "#| ignoretest\n",
    "response, jsonobject = api.add_items(filepath='output', directory=True); jsonobject[-4:]"
   ]
  },
  {
   "cell_type": "markdown",
   "metadata": {},
   "source": [
    "You can view the added file on [infura.io](https://ipfs.infura.io/ipfs/QmfQ5hFqZ2DFUwTfnaPEuVXXSXsq552AXMvjrQtbkQKWLZ)\n",
    "\n",
    "To view any CID on infura `https://ipfs.infura.io/ipfs/CID`"
   ]
  },
  {
   "cell_type": "markdown",
   "metadata": {},
   "source": [
    "### ls_items\n",
    "\n",
    "- only available on `local` and `public` nodes. `ls` not implemented on `infura`"
   ]
  },
  {
   "cell_type": "code",
   "execution_count": null,
   "metadata": {},
   "outputs": [
    {
     "data": {
      "text/markdown": [
       "<h4 id=\"IPFSApi.ls_items\" class=\"doc_header\"><code>IPFSApi.ls_items</code><a href=\"__main__.py#L104\" class=\"source_link\" style=\"float:right\">[source]</a></h4>\n",
       "\n",
       "> <code>IPFSApi.ls_items</code>(**`cid`**:`str`, **`resolve_type`**:`bool`=*`True`*, **`size`**:`bool`=*`True`*, **\\*\\*`kwargs`**)\n",
       "\n",
       "List directory contents for Unix filesystem objects\n",
       "\n",
       "||Type|Default|Details|\n",
       "|---|---|---|---|\n",
       "|**`cid`**|`str`||The path to the IPFS object(s) to list links from|\n",
       "|**`resolve_type`**|`bool`|`True`|Resolve linked objects to find out their types|\n",
       "|**`size`**|`bool`|`True`|Resolve linked objects to find out their file size|\n",
       "|**`kwargs`**|||*No Content*|\n"
      ],
      "text/plain": [
       "<IPython.core.display.Markdown object>"
      ]
     },
     "metadata": {},
     "output_type": "display_data"
    }
   ],
   "source": [
    "#| ignoretest\n",
    "show_doc(IPFSApi.ls_items)"
   ]
  },
  {
   "cell_type": "code",
   "execution_count": null,
   "metadata": {},
   "outputs": [
    {
     "name": "stdout",
     "output_type": "stream",
     "text": [
      "Changed to local node\n"
     ]
    }
   ],
   "source": [
    "#| ignoretest\n",
    "api.change_gateway_type = 'local'"
   ]
  },
  {
   "cell_type": "code",
   "execution_count": null,
   "metadata": {},
   "outputs": [
    {
     "data": {
      "text/plain": [
       "[{'Objects': [{'Hash': 'QmeyTiqrD6oo4eQXbAt7hZn3ASzpcP3Kvb1rc9qznEowEw',\n",
       "    'Links': [{'Name': 'adult_data.csv',\n",
       "      'Hash': 'QmZnxARhJWsCbTxiAzoRhnxHgMtoEkNJNS8DGLCBEMvm4V',\n",
       "      'Size': 3974475,\n",
       "      'Type': 2,\n",
       "      'Target': ''},\n",
       "     {'Name': 'fol1',\n",
       "      'Hash': 'QmUNLLsPACCz1vLxQVkXqqLX5R1X345qqfHbsf67hvA3Nn',\n",
       "      'Size': 0,\n",
       "      'Type': 1,\n",
       "      'Target': ''},\n",
       "     {'Name': 'test.txt',\n",
       "      'Hash': 'QmTT8vwdbnP9Ls8bSY1LMyW4a8bEwTYZa5izEoJMBtTPfb',\n",
       "      'Size': 24,\n",
       "      'Type': 2,\n",
       "      'Target': ''},\n",
       "     {'Name': 'test2.txt',\n",
       "      'Hash': 'QmWa7aPQWCkLAmV2pt1Wjj3uE7V3CG3KYMKBKsVAvWG649',\n",
       "      'Size': 23,\n",
       "      'Type': 2,\n",
       "      'Target': ''},\n",
       "     {'Name': 'test3.txt',\n",
       "      'Hash': 'Qmb6W6nVPYd5CJKFpC1zGGuoD7TYQLE5PGG1RHkHm2W3m9',\n",
       "      'Size': 32,\n",
       "      'Type': 2,\n",
       "      'Target': ''}]}]}]"
      ]
     },
     "execution_count": null,
     "metadata": {},
     "output_type": "execute_result"
    }
   ],
   "source": [
    "#| ignoretest\n",
    "response, content = api.ls_items('QmeyTiqrD6oo4eQXbAt7hZn3ASzpcP3Kvb1rc9qznEowEw'); content"
   ]
  },
  {
   "cell_type": "code",
   "execution_count": null,
   "metadata": {},
   "outputs": [
    {
     "name": "stdout",
     "output_type": "stream",
     "text": [
      "Changed to public node\n"
     ]
    }
   ],
   "source": [
    "#| ignoretest\n",
    "api.change_gateway_type = 'public'"
   ]
  },
  {
   "cell_type": "code",
   "execution_count": null,
   "metadata": {},
   "outputs": [
    {
     "data": {
      "text/plain": [
       "[{'Objects': [{'Hash': 'QmeyTiqrD6oo4eQXbAt7hZn3ASzpcP3Kvb1rc9qznEowEw',\n",
       "    'Links': [{'Name': 'adult_data.csv',\n",
       "      'Hash': 'QmZnxARhJWsCbTxiAzoRhnxHgMtoEkNJNS8DGLCBEMvm4V',\n",
       "      'Size': 3974475,\n",
       "      'Type': 2,\n",
       "      'Target': ''},\n",
       "     {'Name': 'fol1',\n",
       "      'Hash': 'QmUNLLsPACCz1vLxQVkXqqLX5R1X345qqfHbsf67hvA3Nn',\n",
       "      'Size': 0,\n",
       "      'Type': 1,\n",
       "      'Target': ''},\n",
       "     {'Name': 'test.txt',\n",
       "      'Hash': 'QmTT8vwdbnP9Ls8bSY1LMyW4a8bEwTYZa5izEoJMBtTPfb',\n",
       "      'Size': 24,\n",
       "      'Type': 2,\n",
       "      'Target': ''},\n",
       "     {'Name': 'test2.txt',\n",
       "      'Hash': 'QmWa7aPQWCkLAmV2pt1Wjj3uE7V3CG3KYMKBKsVAvWG649',\n",
       "      'Size': 23,\n",
       "      'Type': 2,\n",
       "      'Target': ''},\n",
       "     {'Name': 'test3.txt',\n",
       "      'Hash': 'Qmb6W6nVPYd5CJKFpC1zGGuoD7TYQLE5PGG1RHkHm2W3m9',\n",
       "      'Size': 32,\n",
       "      'Type': 2,\n",
       "      'Target': ''}]}]}]"
      ]
     },
     "execution_count": null,
     "metadata": {},
     "output_type": "execute_result"
    }
   ],
   "source": [
    "#| ignoretest\n",
    "response, content = api.ls_items('QmeyTiqrD6oo4eQXbAt7hZn3ASzpcP3Kvb1rc9qznEowEw'); content"
   ]
  },
  {
   "cell_type": "markdown",
   "metadata": {},
   "source": [
    "### cat_items"
   ]
  },
  {
   "cell_type": "code",
   "execution_count": null,
   "metadata": {},
   "outputs": [
    {
     "data": {
      "text/markdown": [
       "<h4 id=\"IPFSApi.cat_items\" class=\"doc_header\"><code>IPFSApi.cat_items</code><a href=\"__main__.py#L146\" class=\"source_link\" style=\"float:right\">[source]</a></h4>\n",
       "\n",
       "> <code>IPFSApi.cat_items</code>(**`cid`**:`str`, **\\*\\*`kwargs`**)\n",
       "\n",
       "Show IPFS object data\n",
       "\n",
       "||Type|Default|Details|\n",
       "|---|---|---|---|\n",
       "|**`cid`**|`str`||The path to the IPFS object(s) to be output|\n",
       "|**`kwargs`**|||*No Content*|\n"
      ],
      "text/plain": [
       "<IPython.core.display.Markdown object>"
      ]
     },
     "metadata": {},
     "output_type": "display_data"
    }
   ],
   "source": [
    "#| ignoretest\n",
    "show_doc(IPFSApi.cat_items)"
   ]
  },
  {
   "cell_type": "markdown",
   "metadata": {},
   "source": [
    "When given a file CID"
   ]
  },
  {
   "cell_type": "code",
   "execution_count": null,
   "metadata": {},
   "outputs": [
    {
     "name": "stdout",
     "output_type": "stream",
     "text": [
      "Changed to local node\n"
     ]
    }
   ],
   "source": [
    "#| ignoretest\n",
    "api.change_gateway_type = 'local'"
   ]
  },
  {
   "cell_type": "code",
   "execution_count": null,
   "metadata": {},
   "outputs": [
    {
     "data": {
      "text/plain": [
       "'# Welcome to Immerse by Algovera\\r\\n> A python library by Algovera to interact with IPFS and IPFS ecosystem such as the common pinning services\\r\\n\\r\\n\\r\\n## What is Immerse?\\r\\n\\r\\nImmerse is a python library by Algovera to interact with IPFS and IPFS ecosystem such as the common pinning services. It is designed by data scientists for data scientists to interact with the IPFS ecosystem without leaving the comfort of python and jupyter notebook.\\r\\n\\r\\nYou can learn more about IPFS [here](https://ipfs.io/#why)\\r\\n\\r\\nIPFS is built using the go-lang and javascript. With Immerse, you can interact with IPFS using the exposed [HTTP RPC API](https://docs.ipfs.io/reference/http/api/#getting-started). \\r\\n\\r\\nYou will need a local IPFS Node running to use the HTTP API (even when using Immerse). As an alternative, you can connect via the [Infura](https://infura.io/product/ipfs)\\'s dedicated IPFS gateway. Immerse provide both ways to interact with IPFS.\\r\\n\\r\\n## Installing\\r\\n\\r\\nto do: instructions on how to install library goes here\\r\\n\\r\\n## How to use\\r\\n\\r\\nTo adda file to IPFS, simply\\r\\n\\r\\n```python\\r\\nfrom immerse import httpapi\\r\\n\\r\\nurl = get_coreurl()\\r\\nresponse, json = add_items(url, \"path/to/file\")\\r\\n```\\r\\n'"
      ]
     },
     "execution_count": null,
     "metadata": {},
     "output_type": "execute_result"
    }
   ],
   "source": [
    "#| ignoretest\n",
    "response, content = api.cat_items(cid='QmUfwG4P6EA5xbD3De5bS7XKcBion8ReQj7m9ZjxaPvq3B'); content"
   ]
  },
  {
   "cell_type": "markdown",
   "metadata": {},
   "source": [
    "When given a directory CID (this will throw an error)"
   ]
  },
  {
   "cell_type": "code",
   "execution_count": null,
   "metadata": {},
   "outputs": [
    {
     "ename": "HTTPError",
     "evalue": "Response Status Code: 500; Error Message: this dag node is a directory",
     "output_type": "error",
     "traceback": [
      "\u001b[1;31m---------------------------------------------------------------------------\u001b[0m",
      "\u001b[1;31mHTTPError\u001b[0m                                 Traceback (most recent call last)",
      "Input \u001b[1;32mIn [54]\u001b[0m, in \u001b[0;36m<cell line: 2>\u001b[1;34m()\u001b[0m\n\u001b[0;32m      1\u001b[0m \u001b[38;5;66;03m#ignoretest\u001b[39;00m\n\u001b[1;32m----> 2\u001b[0m response, content \u001b[38;5;241m=\u001b[39m \u001b[43mapi\u001b[49m\u001b[38;5;241;43m.\u001b[39;49m\u001b[43mcat_items\u001b[49m\u001b[43m(\u001b[49m\u001b[43mcid\u001b[49m\u001b[38;5;241;43m=\u001b[39;49m\u001b[38;5;124;43m'\u001b[39;49m\u001b[38;5;124;43mQmeyTiqrD6oo4eQXbAt7hZn3ASzpcP3Kvb1rc9qznEowEw\u001b[39;49m\u001b[38;5;124;43m'\u001b[39;49m\u001b[43m)\u001b[49m; content\n",
      "Input \u001b[1;32mIn [16]\u001b[0m, in \u001b[0;36mIPFSApi.cat_items\u001b[1;34m(self, cid, **kwargs)\u001b[0m\n\u001b[0;32m    159\u001b[0m     \u001b[38;5;28;01mreturn\u001b[39;00m response, parse_response(response)\n\u001b[0;32m    161\u001b[0m \u001b[38;5;28;01melse\u001b[39;00m:\n\u001b[1;32m--> 162\u001b[0m     \u001b[38;5;28;01mraise\u001b[39;00m HTTPError (parse_error_message(response))\n",
      "\u001b[1;31mHTTPError\u001b[0m: Response Status Code: 500; Error Message: this dag node is a directory"
     ]
    }
   ],
   "source": [
    "#| ignoretest\n",
    "response, content = api.cat_items(cid='QmeyTiqrD6oo4eQXbAt7hZn3ASzpcP3Kvb1rc9qznEowEw'); content"
   ]
  },
  {
   "cell_type": "code",
   "execution_count": null,
   "metadata": {},
   "outputs": [
    {
     "name": "stdout",
     "output_type": "stream",
     "text": [
      "Changed to public node\n"
     ]
    }
   ],
   "source": [
    "#| ignoretest\n",
    "api.change_gateway_type = 'public'"
   ]
  },
  {
   "cell_type": "code",
   "execution_count": null,
   "metadata": {},
   "outputs": [
    {
     "data": {
      "text/plain": [
       "'# Welcome to Immerse by Algovera\\r\\n> A python library by Algovera to interact with IPFS and IPFS ecosystem such as the common pinning services\\r\\n\\r\\n\\r\\n## What is Immerse?\\r\\n\\r\\nImmerse is a python library by Algovera to interact with IPFS and IPFS ecosystem such as the common pinning services. It is designed by data scientists for data scientists to interact with the IPFS ecosystem without leaving the comfort of python and jupyter notebook.\\r\\n\\r\\nYou can learn more about IPFS [here](https://ipfs.io/#why)\\r\\n\\r\\nIPFS is built using the go-lang and javascript. With Immerse, you can interact with IPFS using the exposed [HTTP RPC API](https://docs.ipfs.io/reference/http/api/#getting-started). \\r\\n\\r\\nYou will need a local IPFS Node running to use the HTTP API (even when using Immerse). As an alternative, you can connect via the [Infura](https://infura.io/product/ipfs)\\'s dedicated IPFS gateway. Immerse provide both ways to interact with IPFS.\\r\\n\\r\\n## Installing\\r\\n\\r\\nto do: instructions on how to install library goes here\\r\\n\\r\\n## How to use\\r\\n\\r\\nTo adda file to IPFS, simply\\r\\n\\r\\n```python\\r\\nfrom immerse import httpapi\\r\\n\\r\\nurl = get_coreurl()\\r\\nresponse, json = add_items(url, \"path/to/file\")\\r\\n```\\r\\n'"
      ]
     },
     "execution_count": null,
     "metadata": {},
     "output_type": "execute_result"
    }
   ],
   "source": [
    "#| ignoretest\n",
    "response, content = api.cat_items(cid='QmUfwG4P6EA5xbD3De5bS7XKcBion8ReQj7m9ZjxaPvq3B'); content"
   ]
  },
  {
   "cell_type": "code",
   "execution_count": null,
   "metadata": {},
   "outputs": [
    {
     "name": "stdout",
     "output_type": "stream",
     "text": [
      "Changed to infura node\n"
     ]
    }
   ],
   "source": [
    "#| ignoretest\n",
    "api.change_gateway_type = 'infura'"
   ]
  },
  {
   "cell_type": "code",
   "execution_count": null,
   "metadata": {},
   "outputs": [
    {
     "data": {
      "text/plain": [
       "'# Welcome to Immerse by Algovera\\r\\n> A python library by Algovera to interact with IPFS and IPFS ecosystem such as the common pinning services\\r\\n\\r\\n\\r\\n## What is Immerse?\\r\\n\\r\\nImmerse is a python library by Algovera to interact with IPFS and IPFS ecosystem such as the common pinning services. It is designed by data scientists for data scientists to interact with the IPFS ecosystem without leaving the comfort of python and jupyter notebook.\\r\\n\\r\\nYou can learn more about IPFS [here](https://ipfs.io/#why)\\r\\n\\r\\nIPFS is built using the go-lang and javascript. With Immerse, you can interact with IPFS using the exposed [HTTP RPC API](https://docs.ipfs.io/reference/http/api/#getting-started). \\r\\n\\r\\nYou will need a local IPFS Node running to use the HTTP API (even when using Immerse). As an alternative, you can connect via the [Infura](https://infura.io/product/ipfs)\\'s dedicated IPFS gateway. Immerse provide both ways to interact with IPFS.\\r\\n\\r\\n## Installing\\r\\n\\r\\nto do: instructions on how to install library goes here\\r\\n\\r\\n## How to use\\r\\n\\r\\nTo adda file to IPFS, simply\\r\\n\\r\\n```python\\r\\nfrom immerse import httpapi\\r\\n\\r\\nurl = get_coreurl()\\r\\nresponse, json = add_items(url, \"path/to/file\")\\r\\n```\\r\\n'"
      ]
     },
     "execution_count": null,
     "metadata": {},
     "output_type": "execute_result"
    }
   ],
   "source": [
    "#| ignoretest\n",
    "response, content = api.cat_items(cid='QmUfwG4P6EA5xbD3De5bS7XKcBion8ReQj7m9ZjxaPvq3B'); content"
   ]
  },
  {
   "cell_type": "markdown",
   "metadata": {},
   "source": [
    "### get_items"
   ]
  },
  {
   "cell_type": "code",
   "execution_count": null,
   "metadata": {},
   "outputs": [
    {
     "name": "stdout",
     "output_type": "stream",
     "text": [
      "Changed to local node\n"
     ]
    }
   ],
   "source": [
    "#| hide\n",
    "#| ignoretest\n",
    "api.change_gateway_type = 'local'"
   ]
  },
  {
   "cell_type": "code",
   "execution_count": null,
   "metadata": {},
   "outputs": [
    {
     "data": {
      "text/plain": [
       "'QmUfwG4P6EA5xbD3De5bS7XKcBion8ReQj7m9ZjxaPvq3B\\x00\\x00\\x00\\x00\\x00\\x00\\x00\\x00\\x00\\x00\\x00\\x00\\x00\\x00\\x00\\x00\\x00\\x00\\x00\\x00\\x00\\x00\\x00\\x00\\x00\\x00\\x00\\x00\\x00\\x00\\x00\\x00\\x00\\x00\\x00\\x00\\x00\\x00\\x00\\x00\\x00\\x00\\x00\\x00\\x00\\x00\\x00\\x00\\x00\\x00\\x00\\x00\\x00\\x000000644\\x000000000\\x000000000\\x0000000002233\\x0014265706026\\x00016723\\x00 0\\x00\\x00\\x00\\x00\\x00\\x00\\x00\\x00\\x00\\x00\\x00\\x00\\x00\\x00\\x00\\x00\\x00\\x00\\x00\\x00\\x00\\x00\\x00\\x00\\x00\\x00\\x00\\x00\\x00\\x00\\x00\\x00\\x00\\x00\\x00\\x00\\x00\\x00\\x00\\x00\\x00\\x00\\x00\\x00\\x00\\x00\\x00\\x00\\x00\\x00\\x00\\x00\\x00\\x00\\x00\\x00\\x00\\x00\\x00\\x00\\x00\\x00\\x00\\x00\\x00\\x00\\x00\\x00\\x00\\x00\\x00\\x00\\x00\\x00\\x00\\x00\\x00\\x00\\x00\\x00\\x00\\x00\\x00\\x00\\x00\\x00\\x00\\x00\\x00\\x00\\x00\\x00\\x00\\x00\\x00\\x00\\x00\\x00\\x00\\x00ustar\\x0000\\x00\\x00\\x00\\x00\\x00\\x00\\x00\\x00\\x00\\x00\\x00\\x00\\x00\\x00\\x00\\x00\\x00\\x00\\x00\\x00\\x00\\x00\\x00\\x00\\x00\\x00\\x00\\x00\\x00\\x00\\x00\\x00\\x00\\x00\\x00\\x00\\x00\\x00\\x00\\x00\\x00\\x00\\x00\\x00\\x00\\x00\\x00\\x00\\x00\\x00\\x00\\x00\\x00\\x00\\x00\\x00\\x00\\x00\\x00\\x00\\x00\\x00\\x00\\x000000000\\x000000000\\x00\\x00\\x00\\x00\\x00\\x00\\x00\\x00\\x00\\x00\\x00\\x00\\x00\\x00\\x00\\x00\\x00\\x00\\x00\\x00\\x00\\x00\\x00\\x00\\x00\\x00\\x00\\x00\\x00\\x00\\x00\\x00\\x00\\x00\\x00\\x00\\x00\\x00\\x00\\x00\\x00\\x00\\x00\\x00\\x00\\x00\\x00\\x00\\x00\\x00\\x00\\x00\\x00\\x00\\x00\\x00\\x00\\x00\\x00\\x00\\x00\\x00\\x00\\x00\\x00\\x00\\x00\\x00\\x00\\x00\\x00\\x00\\x00\\x00\\x00\\x00\\x00\\x00\\x00\\x00\\x00\\x00\\x00\\x00\\x00\\x00\\x00\\x00\\x00\\x00\\x00\\x00\\x00\\x00\\x00\\x00\\x00\\x00\\x00\\x00\\x00\\x00\\x00\\x00\\x00\\x00\\x00\\x00\\x00\\x00\\x00\\x00\\x00\\x00\\x00\\x00\\x00\\x00\\x00\\x00\\x00\\x00\\x00\\x00\\x00\\x00\\x00\\x00\\x00\\x00\\x00\\x00\\x00\\x00\\x00\\x00\\x00\\x00\\x00\\x00\\x00\\x00\\x00\\x00\\x00\\x00\\x00\\x00\\x00\\x00\\x00\\x00\\x00\\x00\\x00\\x00\\x00\\x00\\x00\\x00\\x00\\x00\\x00\\x00\\x00\\x00\\x00\\x00# Welcome to Immerse by Algovera\\r\\n> A python library by Algovera to interact with IPFS and IPFS ecosystem such as the common pinning services\\r\\n\\r\\n\\r\\n## What is Immerse?\\r\\n\\r\\nImmerse is a python library by Algovera to interact with IPFS and IPFS ecosystem such as the common pinning services. It is designed by data scientists for data scientists to interact with the IPFS ecosystem without leaving the comfort of python and jupyter notebook.\\r\\n\\r\\nYou can learn more about IPFS [here](https://ipfs.io/#why)\\r\\n\\r\\nIPFS is built using the go-lang and javascript. With Immerse, you can interact with IPFS using the exposed [HTTP RPC API](https://docs.ipfs.io/reference/http/api/#getting-started). \\r\\n\\r\\nYou will need a local IPFS Node running to use the HTTP API (even when using Immerse). As an alternative, you can connect via the [Infura](https://infura.io/product/ipfs)\\'s dedicated IPFS gateway. Immerse provide both ways to interact with IPFS.\\r\\n\\r\\n## Installing\\r\\n\\r\\nto do: instructions on how to install library goes here\\r\\n\\r\\n## How to use\\r\\n\\r\\nTo adda file to IPFS, simply\\r\\n\\r\\n```python\\r\\nfrom immerse import httpapi\\r\\n\\r\\nurl = get_coreurl()\\r\\nresponse, json = add_items(url, \"path/to/file\")\\r\\n```\\r\\n\\x00\\x00\\x00\\x00\\x00\\x00\\x00\\x00\\x00\\x00\\x00\\x00\\x00\\x00\\x00\\x00\\x00\\x00\\x00\\x00\\x00\\x00\\x00\\x00\\x00\\x00\\x00\\x00\\x00\\x00\\x00\\x00\\x00\\x00\\x00\\x00\\x00\\x00\\x00\\x00\\x00\\x00\\x00\\x00\\x00\\x00\\x00\\x00\\x00\\x00\\x00\\x00\\x00\\x00\\x00\\x00\\x00\\x00\\x00\\x00\\x00\\x00\\x00\\x00\\x00\\x00\\x00\\x00\\x00\\x00\\x00\\x00\\x00\\x00\\x00\\x00\\x00\\x00\\x00\\x00\\x00\\x00\\x00\\x00\\x00\\x00\\x00\\x00\\x00\\x00\\x00\\x00\\x00\\x00\\x00\\x00\\x00\\x00\\x00\\x00\\x00\\x00\\x00\\x00\\x00\\x00\\x00\\x00\\x00\\x00\\x00\\x00\\x00\\x00\\x00\\x00\\x00\\x00\\x00\\x00\\x00\\x00\\x00\\x00\\x00\\x00\\x00\\x00\\x00\\x00\\x00\\x00\\x00\\x00\\x00\\x00\\x00\\x00\\x00\\x00\\x00\\x00\\x00\\x00\\x00\\x00\\x00\\x00\\x00\\x00\\x00\\x00\\x00\\x00\\x00\\x00\\x00\\x00\\x00\\x00\\x00\\x00\\x00\\x00\\x00\\x00\\x00\\x00\\x00\\x00\\x00\\x00\\x00\\x00\\x00\\x00\\x00\\x00\\x00\\x00\\x00\\x00\\x00\\x00\\x00\\x00\\x00\\x00\\x00\\x00\\x00\\x00\\x00\\x00\\x00\\x00\\x00\\x00\\x00\\x00\\x00\\x00\\x00\\x00\\x00\\x00\\x00\\x00\\x00\\x00\\x00\\x00\\x00\\x00\\x00\\x00\\x00\\x00\\x00\\x00\\x00\\x00\\x00\\x00\\x00\\x00\\x00\\x00\\x00\\x00\\x00\\x00\\x00\\x00\\x00\\x00\\x00\\x00\\x00\\x00\\x00\\x00\\x00\\x00\\x00\\x00\\x00\\x00\\x00\\x00\\x00\\x00\\x00\\x00\\x00\\x00\\x00\\x00\\x00\\x00\\x00\\x00\\x00\\x00\\x00\\x00\\x00\\x00\\x00\\x00\\x00\\x00\\x00\\x00\\x00\\x00\\x00\\x00\\x00\\x00\\x00\\x00\\x00\\x00\\x00\\x00\\x00\\x00\\x00\\x00\\x00\\x00\\x00\\x00\\x00\\x00\\x00\\x00\\x00\\x00\\x00\\x00\\x00\\x00\\x00\\x00\\x00\\x00\\x00\\x00\\x00\\x00\\x00\\x00\\x00\\x00\\x00\\x00\\x00\\x00\\x00\\x00\\x00\\x00\\x00\\x00\\x00\\x00\\x00\\x00\\x00\\x00\\x00\\x00\\x00\\x00\\x00\\x00\\x00\\x00\\x00\\x00\\x00\\x00\\x00\\x00\\x00\\x00\\x00\\x00\\x00\\x00\\x00\\x00\\x00\\x00\\x00\\x00\\x00\\x00\\x00\\x00\\x00\\x00\\x00\\x00\\x00\\x00\\x00\\x00\\x00\\x00\\x00\\x00\\x00\\x00\\x00\\x00\\x00\\x00\\x00\\x00\\x00\\x00\\x00\\x00\\x00\\x00\\x00\\x00\\x00\\x00\\x00\\x00\\x00\\x00\\x00\\x00\\x00\\x00\\x00\\x00\\x00\\x00\\x00\\x00\\x00\\x00\\x00\\x00\\x00\\x00\\x00\\x00\\x00\\x00\\x00\\x00\\x00\\x00\\x00\\x00\\x00\\x00\\x00\\x00\\x00\\x00\\x00\\x00\\x00\\x00\\x00\\x00\\x00\\x00\\x00\\x00\\x00\\x00\\x00\\x00\\x00\\x00\\x00\\x00\\x00\\x00\\x00\\x00\\x00\\x00\\x00\\x00\\x00\\x00\\x00\\x00\\x00\\x00\\x00\\x00\\x00\\x00\\x00\\x00\\x00\\x00\\x00\\x00\\x00\\x00\\x00\\x00\\x00\\x00\\x00\\x00\\x00\\x00\\x00\\x00\\x00\\x00\\x00\\x00\\x00\\x00\\x00\\x00\\x00\\x00\\x00\\x00\\x00\\x00\\x00\\x00\\x00\\x00\\x00\\x00\\x00\\x00\\x00\\x00\\x00\\x00\\x00\\x00\\x00\\x00\\x00\\x00\\x00\\x00\\x00\\x00\\x00\\x00\\x00\\x00\\x00\\x00\\x00\\x00\\x00\\x00\\x00\\x00\\x00\\x00\\x00\\x00\\x00\\x00\\x00\\x00\\x00\\x00\\x00\\x00\\x00\\x00\\x00\\x00\\x00\\x00\\x00\\x00\\x00\\x00\\x00\\x00\\x00\\x00\\x00\\x00\\x00\\x00\\x00\\x00\\x00\\x00\\x00\\x00\\x00\\x00\\x00\\x00\\x00\\x00\\x00\\x00\\x00\\x00\\x00\\x00\\x00\\x00\\x00\\x00\\x00\\x00\\x00\\x00\\x00\\x00\\x00\\x00\\x00\\x00\\x00\\x00\\x00\\x00\\x00\\x00\\x00\\x00\\x00\\x00\\x00\\x00\\x00\\x00\\x00\\x00\\x00\\x00\\x00\\x00\\x00\\x00\\x00\\x00\\x00\\x00\\x00\\x00\\x00\\x00\\x00\\x00\\x00\\x00\\x00\\x00\\x00\\x00\\x00\\x00\\x00\\x00\\x00\\x00\\x00\\x00\\x00\\x00\\x00\\x00\\x00\\x00\\x00\\x00\\x00\\x00\\x00\\x00\\x00\\x00\\x00\\x00\\x00\\x00\\x00\\x00\\x00\\x00\\x00\\x00\\x00\\x00\\x00\\x00\\x00\\x00\\x00\\x00\\x00\\x00\\x00\\x00\\x00\\x00\\x00\\x00\\x00\\x00\\x00\\x00\\x00\\x00\\x00\\x00\\x00\\x00\\x00\\x00\\x00\\x00\\x00\\x00\\x00\\x00\\x00\\x00\\x00\\x00\\x00\\x00\\x00\\x00\\x00\\x00\\x00\\x00\\x00\\x00\\x00\\x00\\x00\\x00\\x00\\x00\\x00\\x00\\x00\\x00\\x00\\x00\\x00\\x00\\x00\\x00\\x00\\x00\\x00\\x00\\x00\\x00\\x00\\x00\\x00\\x00\\x00\\x00\\x00\\x00\\x00\\x00\\x00\\x00\\x00\\x00\\x00\\x00\\x00\\x00\\x00\\x00\\x00\\x00\\x00\\x00\\x00\\x00\\x00\\x00\\x00\\x00\\x00\\x00\\x00\\x00\\x00\\x00\\x00\\x00\\x00\\x00\\x00\\x00\\x00\\x00\\x00\\x00\\x00\\x00\\x00\\x00\\x00\\x00\\x00\\x00\\x00\\x00\\x00\\x00\\x00\\x00\\x00\\x00\\x00\\x00\\x00\\x00\\x00\\x00\\x00\\x00\\x00\\x00\\x00\\x00\\x00\\x00\\x00\\x00\\x00\\x00\\x00\\x00\\x00\\x00\\x00\\x00\\x00\\x00\\x00\\x00\\x00\\x00\\x00\\x00\\x00\\x00\\x00\\x00\\x00\\x00\\x00\\x00\\x00\\x00\\x00\\x00\\x00\\x00\\x00\\x00\\x00\\x00\\x00\\x00\\x00\\x00\\x00\\x00\\x00\\x00\\x00\\x00\\x00\\x00\\x00\\x00\\x00\\x00\\x00\\x00\\x00\\x00\\x00\\x00\\x00\\x00\\x00\\x00\\x00\\x00\\x00\\x00\\x00\\x00\\x00\\x00\\x00\\x00\\x00\\x00\\x00\\x00\\x00\\x00\\x00\\x00\\x00\\x00\\x00\\x00\\x00\\x00\\x00\\x00\\x00\\x00\\x00\\x00\\x00\\x00\\x00\\x00\\x00\\x00\\x00\\x00\\x00\\x00\\x00\\x00\\x00\\x00\\x00\\x00\\x00\\x00\\x00\\x00\\x00\\x00\\x00\\x00\\x00\\x00\\x00\\x00\\x00\\x00\\x00\\x00\\x00\\x00\\x00\\x00\\x00\\x00\\x00\\x00\\x00\\x00\\x00\\x00\\x00\\x00\\x00\\x00\\x00\\x00\\x00\\x00\\x00\\x00\\x00\\x00\\x00\\x00\\x00\\x00\\x00\\x00\\x00\\x00\\x00\\x00\\x00\\x00\\x00\\x00\\x00\\x00\\x00\\x00\\x00\\x00\\x00\\x00\\x00\\x00\\x00\\x00\\x00\\x00\\x00\\x00\\x00\\x00\\x00\\x00\\x00\\x00\\x00\\x00\\x00\\x00\\x00\\x00\\x00\\x00\\x00\\x00\\x00\\x00\\x00\\x00\\x00\\x00\\x00\\x00\\x00\\x00\\x00\\x00\\x00\\x00\\x00\\x00\\x00\\x00\\x00\\x00\\x00\\x00\\x00\\x00\\x00\\x00\\x00\\x00\\x00\\x00\\x00\\x00\\x00\\x00\\x00\\x00\\x00\\x00\\x00\\x00\\x00\\x00\\x00\\x00\\x00\\x00\\x00\\x00\\x00\\x00\\x00\\x00\\x00\\x00\\x00\\x00\\x00\\x00\\x00\\x00\\x00\\x00\\x00\\x00\\x00\\x00\\x00\\x00\\x00\\x00\\x00\\x00\\x00\\x00\\x00\\x00\\x00\\x00\\x00\\x00\\x00\\x00\\x00\\x00\\x00\\x00\\x00\\x00\\x00\\x00\\x00\\x00\\x00\\x00\\x00\\x00\\x00\\x00\\x00\\x00\\x00\\x00\\x00\\x00\\x00\\x00\\x00\\x00\\x00\\x00\\x00\\x00\\x00\\x00\\x00\\x00\\x00\\x00\\x00\\x00\\x00\\x00\\x00\\x00\\x00\\x00\\x00\\x00\\x00\\x00\\x00\\x00\\x00\\x00\\x00\\x00\\x00\\x00\\x00\\x00\\x00\\x00\\x00\\x00\\x00\\x00\\x00\\x00\\x00\\x00\\x00\\x00\\x00\\x00\\x00\\x00\\x00\\x00\\x00\\x00\\x00\\x00\\x00\\x00\\x00\\x00\\x00\\x00\\x00\\x00\\x00\\x00\\x00\\x00\\x00\\x00\\x00\\x00\\x00\\x00\\x00\\x00\\x00\\x00\\x00\\x00\\x00\\x00\\x00\\x00\\x00\\x00\\x00\\x00\\x00\\x00\\x00\\x00\\x00\\x00\\x00\\x00\\x00\\x00\\x00\\x00\\x00\\x00\\x00\\x00\\x00\\x00\\x00\\x00\\x00\\x00\\x00\\x00\\x00\\x00\\x00\\x00\\x00\\x00\\x00\\x00\\x00\\x00\\x00\\x00\\x00\\x00\\x00\\x00\\x00\\x00\\x00\\x00\\x00\\x00\\x00\\x00\\x00\\x00\\x00\\x00\\x00\\x00\\x00\\x00\\x00\\x00\\x00\\x00\\x00\\x00\\x00\\x00\\x00\\x00\\x00\\x00\\x00\\x00\\x00\\x00\\x00\\x00\\x00\\x00\\x00\\x00\\x00\\x00\\x00\\x00\\x00\\x00\\x00\\x00\\x00\\x00\\x00\\x00\\x00\\x00\\x00\\x00\\x00\\x00\\x00\\x00\\x00\\x00\\x00\\x00\\x00\\x00\\x00\\x00\\x00\\x00\\x00\\x00\\x00\\x00\\x00\\x00\\x00\\x00\\x00\\x00\\x00\\x00\\x00\\x00\\x00\\x00\\x00\\x00\\x00\\x00\\x00\\x00\\x00\\x00\\x00\\x00\\x00\\x00\\x00\\x00\\x00\\x00\\x00\\x00\\x00\\x00\\x00\\x00\\x00\\x00\\x00\\x00\\x00\\x00\\x00\\x00\\x00\\x00\\x00\\x00\\x00\\x00\\x00\\x00\\x00\\x00\\x00\\x00\\x00\\x00\\x00\\x00\\x00\\x00\\x00\\x00\\x00\\x00\\x00\\x00\\x00\\x00\\x00\\x00\\x00\\x00\\x00'"
      ]
     },
     "execution_count": null,
     "metadata": {},
     "output_type": "execute_result"
    }
   ],
   "source": [
    "#| ignoretest\n",
    "response, content = api.get_items(cid='QmUfwG4P6EA5xbD3De5bS7XKcBion8ReQj7m9ZjxaPvq3B'); content"
   ]
  },
  {
   "cell_type": "markdown",
   "metadata": {},
   "source": [
    "### How to download a directory from IPFS\n",
    "\n",
    "- only available on local and public"
   ]
  },
  {
   "cell_type": "code",
   "execution_count": null,
   "metadata": {},
   "outputs": [],
   "source": [
    "#| export\n",
    "class DownloadDir:\n",
    "    'Download a IPFS directory to your local disk'\n",
    "    def __init__(self,\n",
    "        gateway_type:str, # Gateway to use - works on local and public \n",
    "        root_cid:str, # Root CID of the directory\n",
    "        output_fol:str, # Path to save in your local disk\n",
    "    ):\n",
    "        \n",
    "        self.api = IPFSApi(gateway_type=gateway_type)\n",
    "        self.root = root_cid\n",
    "        self.output = output_fol\n",
    "        self.full_structure = None\n",
    "    \n",
    "    def _get_links(self,\n",
    "        cid, \n",
    "        fol\n",
    "    ):\n",
    "        root_struct = {}\n",
    "        struct = {}\n",
    "\n",
    "        _, obj = self.api.ls_items(cid)\n",
    "        \n",
    "        for link in obj[0]['Objects'][0]['Links']:\n",
    "            name = f'{fol}/{link[\"Name\"]}'\n",
    "            hash_ = str(link['Hash'])\n",
    "            type_ = link['Type']\n",
    "\n",
    "            if type_ != 2:\n",
    "                details = self._get_links(hash_, name)\n",
    "\n",
    "            else:\n",
    "                details = {'Hash': hash_, 'type': type_}\n",
    "\n",
    "            struct[name] = details\n",
    "\n",
    "        root_struct[fol] = struct\n",
    "\n",
    "        return root_struct\n",
    "    \n",
    "    \n",
    "    def _save_links(self,\n",
    "        links\n",
    "    ):\n",
    "        for k, v in links.items():\n",
    "            if len(k.split('.')) < 2:\n",
    "                if not os.path.exists(k): os.mkdir(k)\n",
    "                self._save_links(v)\n",
    "\n",
    "            else:\n",
    "                res, data = self.api.cat_items(links[k]['Hash'])\n",
    "\n",
    "                with open(k, 'wb') as f:\n",
    "                    f.write(res.content)\n",
    "                    \n",
    "    def download(self\n",
    "    ):\n",
    "        self.full_structure = self._get_links(self.root, self.output)\n",
    "        self._save_links(self.full_structure)\n",
    "        "
   ]
  },
  {
   "cell_type": "code",
   "execution_count": null,
   "metadata": {},
   "outputs": [
    {
     "name": "stdout",
     "output_type": "stream",
     "text": [
      "Changed to local node\n"
     ]
    }
   ],
   "source": [
    "#| ignoretest\n",
    "download = DownloadDir('local', 'QmWJvSt7QGY2yhr9mrfAm76vRvxXA5ygB4zd2SmfD43vtX', 'output2')"
   ]
  },
  {
   "cell_type": "code",
   "execution_count": null,
   "metadata": {},
   "outputs": [],
   "source": [
    "#| ignoretest\n",
    "download.download()"
   ]
  },
  {
   "cell_type": "code",
   "execution_count": null,
   "metadata": {},
   "outputs": [
    {
     "data": {
      "text/plain": [
       "{'output2': {'output2/adult_data.csv': {'Hash': 'QmZnxARhJWsCbTxiAzoRhnxHgMtoEkNJNS8DGLCBEMvm4V',\n",
       "   'type': 2},\n",
       "  'output2/fol1': {'output2/fol1': {'output2/fol1/adult_data.csv': {'Hash': 'QmZnxARhJWsCbTxiAzoRhnxHgMtoEkNJNS8DGLCBEMvm4V',\n",
       "     'type': 2},\n",
       "    'output2/fol1/fol2': {'output2/fol1/fol2': {'output2/fol1/fol2/adult_data.csv': {'Hash': 'QmZnxARhJWsCbTxiAzoRhnxHgMtoEkNJNS8DGLCBEMvm4V',\n",
       "       'type': 2},\n",
       "      'output2/fol1/fol2/test.txt': {'Hash': 'QmTT8vwdbnP9Ls8bSY1LMyW4a8bEwTYZa5izEoJMBtTPfb',\n",
       "       'type': 2},\n",
       "      'output2/fol1/fol2/test2.txt': {'Hash': 'QmWa7aPQWCkLAmV2pt1Wjj3uE7V3CG3KYMKBKsVAvWG649',\n",
       "       'type': 2},\n",
       "      'output2/fol1/fol2/test3.txt': {'Hash': 'Qmb6W6nVPYd5CJKFpC1zGGuoD7TYQLE5PGG1RHkHm2W3m9',\n",
       "       'type': 2}}},\n",
       "    'output2/fol1/test.txt': {'Hash': 'QmTT8vwdbnP9Ls8bSY1LMyW4a8bEwTYZa5izEoJMBtTPfb',\n",
       "     'type': 2},\n",
       "    'output2/fol1/test2.txt': {'Hash': 'QmWa7aPQWCkLAmV2pt1Wjj3uE7V3CG3KYMKBKsVAvWG649',\n",
       "     'type': 2},\n",
       "    'output2/fol1/test3.txt': {'Hash': 'Qmb6W6nVPYd5CJKFpC1zGGuoD7TYQLE5PGG1RHkHm2W3m9',\n",
       "     'type': 2}}},\n",
       "  'output2/test.txt': {'Hash': 'QmTT8vwdbnP9Ls8bSY1LMyW4a8bEwTYZa5izEoJMBtTPfb',\n",
       "   'type': 2},\n",
       "  'output2/test2.txt': {'Hash': 'QmWa7aPQWCkLAmV2pt1Wjj3uE7V3CG3KYMKBKsVAvWG649',\n",
       "   'type': 2},\n",
       "  'output2/test3.txt': {'Hash': 'Qmb6W6nVPYd5CJKFpC1zGGuoD7TYQLE5PGG1RHkHm2W3m9',\n",
       "   'type': 2}}}"
      ]
     },
     "execution_count": null,
     "metadata": {},
     "output_type": "execute_result"
    }
   ],
   "source": [
    "#| ignoretest\n",
    "download.full_structure"
   ]
  },
  {
   "cell_type": "markdown",
   "metadata": {},
   "source": [
    "## DAGs"
   ]
  },
  {
   "cell_type": "code",
   "execution_count": null,
   "metadata": {},
   "outputs": [
    {
     "name": "stdout",
     "output_type": "stream",
     "text": [
      "Changed to local node\n"
     ]
    }
   ],
   "source": [
    "#| hide\n",
    "api = IPFSApi()"
   ]
  },
  {
   "cell_type": "code",
   "execution_count": null,
   "metadata": {},
   "outputs": [
    {
     "data": {
      "text/markdown": [
       "<h4 id=\"IPFSApi.dag_get\" class=\"doc_header\"><code>IPFSApi.dag_get</code><a href=\"__main__.py#L182\" class=\"source_link\" style=\"float:right\">[source]</a></h4>\n",
       "\n",
       "> <code>IPFSApi.dag_get</code>(**`cid`**:`str`, **`output_codec`**:`str`=*`'dag-json'`*)\n",
       "\n",
       "Get a DAG node from IPFS.\n",
       "\n",
       "||Type|Default|Details|\n",
       "|---|---|---|---|\n",
       "|**`cid`**|`str`||The path to the IPFS DAG node|\n",
       "|**`output_codec`**|`str`|`dag-json`|*No Content*|\n"
      ],
      "text/plain": [
       "<IPython.core.display.Markdown object>"
      ]
     },
     "metadata": {},
     "output_type": "display_data"
    }
   ],
   "source": [
    "show_doc(IPFSApi.dag_get)"
   ]
  },
  {
   "cell_type": "code",
   "execution_count": null,
   "metadata": {},
   "outputs": [
    {
     "data": {
      "text/markdown": [
       "<h4 id=\"IPFSApi.dag_export\" class=\"doc_header\"><code>IPFSApi.dag_export</code><a href=\"__main__.py#L164\" class=\"source_link\" style=\"float:right\">[source]</a></h4>\n",
       "\n",
       "> <code>IPFSApi.dag_export</code>(**`cid`**:`str`, **\\*\\*`kwargs`**)\n",
       "\n",
       "Streams the selected DAG as a .car stream on stdout.\n",
       "\n",
       "||Type|Default|Details|\n",
       "|---|---|---|---|\n",
       "|**`cid`**|`str`||The path to the IPFS DAG node|\n",
       "|**`kwargs`**|||*No Content*|\n"
      ],
      "text/plain": [
       "<IPython.core.display.Markdown object>"
      ]
     },
     "metadata": {},
     "output_type": "display_data"
    }
   ],
   "source": [
    "show_doc(IPFSApi.dag_export)"
   ]
  },
  {
   "cell_type": "code",
   "execution_count": null,
   "metadata": {},
   "outputs": [
    {
     "data": {
      "text/markdown": [
       "<h4 id=\"IPFSApi.dag_stat\" class=\"doc_header\"><code>IPFSApi.dag_stat</code><a href=\"__main__.py#L200\" class=\"source_link\" style=\"float:right\">[source]</a></h4>\n",
       "\n",
       "> <code>IPFSApi.dag_stat</code>(**`cid`**:`str`, **\\*\\*`kwargs`**)\n",
       "\n",
       "Gets stats for a DAG.\n",
       "\n",
       "||Type|Default|Details|\n",
       "|---|---|---|---|\n",
       "|**`cid`**|`str`||The path to the IPFS DAG node|\n",
       "|**`kwargs`**|||*No Content*|\n"
      ],
      "text/plain": [
       "<IPython.core.display.Markdown object>"
      ]
     },
     "metadata": {},
     "output_type": "display_data"
    }
   ],
   "source": [
    "show_doc(IPFSApi.dag_stat)"
   ]
  },
  {
   "cell_type": "markdown",
   "metadata": {},
   "source": [
    "### Making use of DAGs\n",
    "\n",
    "Let's take a look at the DAG structure of the folder we uploaded earlier "
   ]
  },
  {
   "cell_type": "code",
   "execution_count": null,
   "metadata": {},
   "outputs": [
    {
     "data": {
      "text/plain": [
       "{'Data': {'/': {'bytes': 'CAE'}},\n",
       " 'Links': [{'Hash': {'/': 'QmZnxARhJWsCbTxiAzoRhnxHgMtoEkNJNS8DGLCBEMvm4V'},\n",
       "   'Name': 'adult_data.csv',\n",
       "   'Tsize': 3975476},\n",
       "  {'Hash': {'/': 'QmUNLLsPACCz1vLxQVkXqqLX5R1X345qqfHbsf67hvA3Nn'},\n",
       "   'Name': 'fol1',\n",
       "   'Tsize': 4},\n",
       "  {'Hash': {'/': 'QmTT8vwdbnP9Ls8bSY1LMyW4a8bEwTYZa5izEoJMBtTPfb'},\n",
       "   'Name': 'test.txt',\n",
       "   'Tsize': 32},\n",
       "  {'Hash': {'/': 'QmWa7aPQWCkLAmV2pt1Wjj3uE7V3CG3KYMKBKsVAvWG649'},\n",
       "   'Name': 'test2.txt',\n",
       "   'Tsize': 31},\n",
       "  {'Hash': {'/': 'Qmb6W6nVPYd5CJKFpC1zGGuoD7TYQLE5PGG1RHkHm2W3m9'},\n",
       "   'Name': 'test3.txt',\n",
       "   'Tsize': 40}]}"
      ]
     },
     "execution_count": null,
     "metadata": {},
     "output_type": "execute_result"
    }
   ],
   "source": [
    "#| ignoretest\n",
    "response, content = api.dag_get('QmeyTiqrD6oo4eQXbAt7hZn3ASzpcP3Kvb1rc9qznEowEw'); content"
   ]
  },
  {
   "cell_type": "markdown",
   "metadata": {},
   "source": [
    "`dag_get` method returns a `dict` with `data` and `links`. `data` is not exciting for a directory. Under the `links`, we can see files/directories that are in the uploaded directory.\n",
    "\n",
    "Let's see the number of files/directories in the links"
   ]
  },
  {
   "cell_type": "code",
   "execution_count": null,
   "metadata": {},
   "outputs": [
    {
     "data": {
      "text/plain": [
       "5"
      ]
     },
     "execution_count": null,
     "metadata": {},
     "output_type": "execute_result"
    }
   ],
   "source": [
    "#| ignoretest\n",
    "len(content['Links'])"
   ]
  },
  {
   "cell_type": "markdown",
   "metadata": {},
   "source": [
    "Let's take a look at the first link"
   ]
  },
  {
   "cell_type": "code",
   "execution_count": null,
   "metadata": {},
   "outputs": [
    {
     "data": {
      "text/plain": [
       "{'Hash': {'/': 'QmZnxARhJWsCbTxiAzoRhnxHgMtoEkNJNS8DGLCBEMvm4V'},\n",
       " 'Name': 'adult_data.csv',\n",
       " 'Tsize': 3975476}"
      ]
     },
     "execution_count": null,
     "metadata": {},
     "output_type": "execute_result"
    }
   ],
   "source": [
    "#| ignoretest\n",
    "content['Links'][0]"
   ]
  },
  {
   "cell_type": "markdown",
   "metadata": {},
   "source": [
    "## Local Pinning"
   ]
  },
  {
   "cell_type": "markdown",
   "metadata": {},
   "source": [
    "### Pin an IPFS object locally\n",
    "\n",
    "More info on this can be found [here](https://docs.ipfs.io/how-to/pin-files/)\n"
   ]
  },
  {
   "cell_type": "code",
   "execution_count": null,
   "metadata": {},
   "outputs": [
    {
     "name": "stdout",
     "output_type": "stream",
     "text": [
      "Changed to local node\n"
     ]
    }
   ],
   "source": [
    "#| ignoretest\n",
    "#| hide\n",
    "api = IPFSApi()"
   ]
  },
  {
   "cell_type": "code",
   "execution_count": null,
   "metadata": {},
   "outputs": [
    {
     "data": {
      "text/markdown": [
       "<h4 id=\"IPFSApi.pin_add\" class=\"doc_header\"><code>IPFSApi.pin_add</code><a href=\"__main__.py#L218\" class=\"source_link\" style=\"float:right\">[source]</a></h4>\n",
       "\n",
       "> <code>IPFSApi.pin_add</code>(**`cid`**:`str`, **`recursive`**:`str`=*`'true'`*)\n",
       "\n",
       "Pin objects to local storage.\n",
       "\n",
       "||Type|Default|Details|\n",
       "|---|---|---|---|\n",
       "|**`cid`**|`str`||Path to IPFS object(s) to be pinned|\n",
       "|**`recursive`**|`str`|`true`|Recursively pin the object linked to by the specified object(s)|\n"
      ],
      "text/plain": [
       "<IPython.core.display.Markdown object>"
      ]
     },
     "metadata": {},
     "output_type": "display_data"
    }
   ],
   "source": [
    "show_doc(IPFSApi.pin_add)"
   ]
  },
  {
   "cell_type": "code",
   "execution_count": null,
   "metadata": {},
   "outputs": [
    {
     "data": {
      "text/markdown": [
       "<h4 id=\"IPFSApi.pin_ls\" class=\"doc_header\"><code>IPFSApi.pin_ls</code><a href=\"__main__.py#L236\" class=\"source_link\" style=\"float:right\">[source]</a></h4>\n",
       "\n",
       "> <code>IPFSApi.pin_ls</code>(**`type_`**:`str`=*`'all'`*, **\\*\\*`kwargs`**)\n",
       "\n",
       "List objects pinned to local storage.\n",
       "\n",
       "||Type|Default|Details|\n",
       "|---|---|---|---|\n",
       "|**`type_`**|`str`|`all`|The type of pinned keys to list. Can be \"direct\", \"indirect\", \"recursive\", or \"all\"|\n",
       "|**`kwargs`**|||*No Content*|\n"
      ],
      "text/plain": [
       "<IPython.core.display.Markdown object>"
      ]
     },
     "metadata": {},
     "output_type": "display_data"
    }
   ],
   "source": [
    "show_doc(IPFSApi.pin_ls)"
   ]
  },
  {
   "cell_type": "code",
   "execution_count": null,
   "metadata": {},
   "outputs": [
    {
     "data": {
      "text/markdown": [
       "<h4 id=\"IPFSApi.pin_rm\" class=\"doc_header\"><code>IPFSApi.pin_rm</code><a href=\"__main__.py#L254\" class=\"source_link\" style=\"float:right\">[source]</a></h4>\n",
       "\n",
       "> <code>IPFSApi.pin_rm</code>(**`cid`**:`str`, **`recursive`**:`str`=*`'true'`*, **\\*\\*`kwargs`**)\n",
       "\n",
       "List objects pinned to local storage.\n",
       "\n",
       "||Type|Default|Details|\n",
       "|---|---|---|---|\n",
       "|**`cid`**|`str`||Path to object(s) to be unpinned|\n",
       "|**`recursive`**|`str`|`true`|Recursively unpin the object linked to by the specified object(s)|\n",
       "|**`kwargs`**|||*No Content*|\n"
      ],
      "text/plain": [
       "<IPython.core.display.Markdown object>"
      ]
     },
     "metadata": {},
     "output_type": "display_data"
    }
   ],
   "source": [
    "show_doc(IPFSApi.pin_rm)"
   ]
  },
  {
   "cell_type": "code",
   "execution_count": null,
   "metadata": {},
   "outputs": [
    {
     "data": {
      "text/plain": [
       "[{'Pins': ['QmUfwG4P6EA5xbD3De5bS7XKcBion8ReQj7m9ZjxaPvq3B']}]"
      ]
     },
     "execution_count": null,
     "metadata": {},
     "output_type": "execute_result"
    }
   ],
   "source": [
    "#| ignoretest\n",
    "response, content = api.pin_add('QmUfwG4P6EA5xbD3De5bS7XKcBion8ReQj7m9ZjxaPvq3B'); content"
   ]
  },
  {
   "cell_type": "markdown",
   "metadata": {},
   "source": [
    "Let's list all the items pinned locally."
   ]
  },
  {
   "cell_type": "code",
   "execution_count": null,
   "metadata": {},
   "outputs": [
    {
     "data": {
      "text/plain": [
       "184"
      ]
     },
     "execution_count": null,
     "metadata": {},
     "output_type": "execute_result"
    }
   ],
   "source": [
    "#| ignoretest\n",
    "response, content = api.pin_ls(); len(content[0]['Keys'])"
   ]
  },
  {
   "cell_type": "code",
   "execution_count": null,
   "metadata": {},
   "outputs": [
    {
     "data": {
      "text/plain": [
       "['QmNQw55u9tgykLVkb5W7nSWQuEK3ZbX8gx4fBpWDot3D27',\n",
       " 'QmNRupDY9nxDmCYecXMc656bbuM3ajZGXW4tL8nzgXccjM',\n",
       " 'QmNccC85TwgHqCu7rrbQuAiUqxoiFFQh2rFXz2d3cuXwG1',\n",
       " 'QmNyDNFfiF8y8xGNuNh6bL63FzAj1m79Mo8v8Y9aR3WCyx',\n",
       " 'QmNya3hiMsz5M3VBZ1UPDB1vDw57w3BKZhQRdAvA7znBx9',\n",
       " 'QmNyb437zLGoaj4rfbn8yUccTH6c6hR7XeeYcVitwc2iuJ',\n",
       " 'QmP2ZvQKrjvmNBWRMboFYzTWKSA2RR2yecoEtkS9HkdqpX',\n",
       " 'QmP6611DeM6Y1DTbkm6U7KwndWq1hnzA7wuAMwLT8VPnnX',\n",
       " 'QmPCxQWmfe14hTp86YAxbiG49HiSFxRLd4htPzpK7ivnge',\n",
       " 'QmPJDYxahQaiSMuAWjiYusmBte2sy66qk584ukn3NnKiW7']"
      ]
     },
     "execution_count": null,
     "metadata": {},
     "output_type": "execute_result"
    }
   ],
   "source": [
    "#| ignoretest\n",
    "list(content[0]['Keys'].keys())[:10]"
   ]
  },
  {
   "cell_type": "markdown",
   "metadata": {},
   "source": [
    "The item we added above is also part of it."
   ]
  },
  {
   "cell_type": "code",
   "execution_count": null,
   "metadata": {},
   "outputs": [
    {
     "data": {
      "text/plain": [
       "{'Type': 'recursive'}"
      ]
     },
     "execution_count": null,
     "metadata": {},
     "output_type": "execute_result"
    }
   ],
   "source": [
    "#| ignoretest\n",
    "content[0]['Keys']['QmUfwG4P6EA5xbD3De5bS7XKcBion8ReQj7m9ZjxaPvq3B']"
   ]
  },
  {
   "cell_type": "markdown",
   "metadata": {},
   "source": [
    "What does the `Type` : `recursive` means?\n",
    "- Direct pins - Single block and no others in relation to it.\n",
    "- Recursive pins - Given block and all of its children.\n",
    "- Indirect pins - the result of a given block's parent being pinned recursively."
   ]
  },
  {
   "cell_type": "code",
   "execution_count": null,
   "metadata": {},
   "outputs": [
    {
     "data": {
      "text/plain": [
       "200"
      ]
     },
     "execution_count": null,
     "metadata": {},
     "output_type": "execute_result"
    }
   ],
   "source": [
    "#| ignoretest\n",
    "response, content = api.pin_rm('QmUfwG4P6EA5xbD3De5bS7XKcBion8ReQj7m9ZjxaPvq3B'); response.status_code"
   ]
  },
  {
   "cell_type": "markdown",
   "metadata": {},
   "source": [
    "## Remote Pinning Service"
   ]
  },
  {
   "cell_type": "code",
   "execution_count": null,
   "metadata": {},
   "outputs": [
    {
     "data": {
      "text/markdown": [
       "<h4 id=\"IPFSApi.rspin_add\" class=\"doc_header\"><code>IPFSApi.rspin_add</code><a href=\"__main__.py#L274\" class=\"source_link\" style=\"float:right\">[source]</a></h4>\n",
       "\n",
       "> <code>IPFSApi.rspin_add</code>(**`service_name`**:`str`, **`service_edpt`**:`str`, **`service_key`**:`str`)\n",
       "\n",
       "Pin object to remote pinning service.\n",
       "\n",
       "||Type|Default|Details|\n",
       "|---|---|---|---|\n",
       "|**`service_name`**|`str`||Name of the remote pinning service to use|\n",
       "|**`service_edpt`**|`str`||Service endpoint|\n",
       "|**`service_key`**|`str`||Service key|\n"
      ],
      "text/plain": [
       "<IPython.core.display.Markdown object>"
      ]
     },
     "metadata": {},
     "output_type": "display_data"
    }
   ],
   "source": [
    "show_doc(IPFSApi.rspin_add)"
   ]
  },
  {
   "cell_type": "code",
   "execution_count": null,
   "metadata": {},
   "outputs": [
    {
     "data": {
      "text/markdown": [
       "<h4 id=\"IPFSApi.rspin_ls\" class=\"doc_header\"><code>IPFSApi.rspin_ls</code><a href=\"__main__.py#L292\" class=\"source_link\" style=\"float:right\">[source]</a></h4>\n",
       "\n",
       "> <code>IPFSApi.rspin_ls</code>(**\\*\\*`kwargs`**)\n",
       "\n",
       "List remote pinning services."
      ],
      "text/plain": [
       "<IPython.core.display.Markdown object>"
      ]
     },
     "metadata": {},
     "output_type": "display_data"
    }
   ],
   "source": [
    "show_doc(IPFSApi.rspin_ls)"
   ]
  },
  {
   "cell_type": "code",
   "execution_count": null,
   "metadata": {},
   "outputs": [
    {
     "data": {
      "text/markdown": [
       "<h4 id=\"IPFSApi.rspin_rm\" class=\"doc_header\"><code>IPFSApi.rspin_rm</code><a href=\"__main__.py#L309\" class=\"source_link\" style=\"float:right\">[source]</a></h4>\n",
       "\n",
       "> <code>IPFSApi.rspin_rm</code>(**`service_name`**:`str`)\n",
       "\n",
       "Remove remote pinning service.\n",
       "\n",
       "||Type|Default|Details|\n",
       "|---|---|---|---|\n",
       "|**`service_name`**|`str`||Name of pinning service to remove|\n"
      ],
      "text/plain": [
       "<IPython.core.display.Markdown object>"
      ]
     },
     "metadata": {},
     "output_type": "display_data"
    }
   ],
   "source": [
    "show_doc(IPFSApi.rspin_rm)"
   ]
  },
  {
   "cell_type": "markdown",
   "metadata": {},
   "source": [
    "### Work with remote pinning service\n",
    "\n",
    "More info on this can be found [here](https://docs.ipfs.io/how-to/work-with-pinning-services/) and [here](https://ipfs.github.io/pinning-services-api-spec/)"
   ]
  },
  {
   "cell_type": "markdown",
   "metadata": {},
   "source": [
    "Adding your `Pinata` to your IPFS node\n",
    "1. Create an account with Pinata\n",
    "2. use `rspin_add` method to add the service"
   ]
  },
  {
   "cell_type": "code",
   "execution_count": null,
   "metadata": {},
   "outputs": [],
   "source": [
    "import os\n",
    "os.environ[\"pinata_api_secret\"] = 'eyJhbGciOiJIUzI1NiIsInR5cCI6IkpXVCJ9.eyJ1c2VySW5mb3JtYXRpb24iOnsiaWQiOiJhZDkxMTQ3Yy0yMmE5LTQ1MjgtODk2OS05ZTdjMjAwNzE2ZjAiLCJlbWFpbCI6Im1hcnNoYXRoQGdtYWlsLmNvbSIsImVtYWlsX3ZlcmlmaWVkIjp0cnVlLCJwaW5fcG9saWN5Ijp7InJlZ2lvbnMiOlt7ImlkIjoiRlJBMSIsImRlc2lyZWRSZXBsaWNhdGlvbkNvdW50IjoxfV0sInZlcnNpb24iOjF9LCJtZmFfZW5hYmxlZCI6ZmFsc2V9LCJhdXRoZW50aWNhdGlvblR5cGUiOiJzY29wZWRLZXkiLCJzY29wZWRLZXlLZXkiOiIxMjc4NDQ5OGY3YzI0ZjczNDBjMiIsInNjb3BlZEtleVNlY3JldCI6ImQyYmNlZjFlODVlZjgyOTcwNGE0ZTk4NGRmYjc3ZWE0MDhlY2NkODk1MjMxMzI2YjVlMmZlZDQxMTBhZmQyMGEiLCJpYXQiOjE2NTM5Njk0MDN9.Fa055BjXNmERyl_ZAA9NJscdt0HqbiX0ByY8pU5uLNY'"
   ]
  },
  {
   "cell_type": "markdown",
   "metadata": {},
   "source": [
    "> Note: For `pinata` the `service_key` is also called `JWT` "
   ]
  },
  {
   "attachments": {
    "image.png": {
     "image/png": "[encoded data removed]"
    }
   },
   "cell_type": "markdown",
   "metadata": {},
   "source": [
    "![image.png](attachment:image.png)"
   ]
  },
  {
   "cell_type": "code",
   "execution_count": null,
   "metadata": {},
   "outputs": [
    {
     "data": {
      "text/plain": [
       "200"
      ]
     },
     "execution_count": null,
     "metadata": {},
     "output_type": "execute_result"
    }
   ],
   "source": [
    "#| ignoretest\n",
    "res, content = api.rspin_add('pinata', 'https://api.pinata.cloud/psa', os.environ['pinata_api_secret']);res.status_code"
   ]
  },
  {
   "cell_type": "markdown",
   "metadata": {},
   "source": [
    "Let's list the pinned services to see if we successfully added `pinata`"
   ]
  },
  {
   "cell_type": "markdown",
   "metadata": {},
   "source": [
    "`Pinata` has been added"
   ]
  },
  {
   "cell_type": "code",
   "execution_count": null,
   "metadata": {},
   "outputs": [
    {
     "data": {
      "text/plain": [
       "[{'RemoteServices': [{'Service': 'pinata',\n",
       "    'ApiEndpoint': 'https://api.pinata.cloud/psa'}]}]"
      ]
     },
     "execution_count": null,
     "metadata": {},
     "output_type": "execute_result"
    }
   ],
   "source": [
    "#| ignoretest\n",
    "response, content = api.rspin_ls(); content"
   ]
  },
  {
   "cell_type": "markdown",
   "metadata": {},
   "source": [
    "## Remote Pinning"
   ]
  },
  {
   "cell_type": "code",
   "execution_count": null,
   "metadata": {},
   "outputs": [
    {
     "data": {
      "text/markdown": [
       "<h4 id=\"IPFSApi.rpin_add\" class=\"doc_header\"><code>IPFSApi.rpin_add</code><a href=\"__main__.py#L325\" class=\"source_link\" style=\"float:right\">[source]</a></h4>\n",
       "\n",
       "> <code>IPFSApi.rpin_add</code>(**`cid`**:`str`, **`service`**:`str`, **`background`**:`str`=*`'false'`*, **\\*\\*`kwargs`**)\n",
       "\n",
       "Pin object to remote pinning service.\n",
       "\n",
       "||Type|Default|Details|\n",
       "|---|---|---|---|\n",
       "|**`cid`**|`str`||Path to IPFS object(s) to be pinned|\n",
       "|**`service`**|`str`||Name of the remote pinning service to use|\n",
       "|**`background`**|`str`|`false`|Add to the queue on the remote service and return immediately (does not wait for pinned status)|\n",
       "|**`kwargs`**|||*No Content*|\n"
      ],
      "text/plain": [
       "<IPython.core.display.Markdown object>"
      ]
     },
     "metadata": {},
     "output_type": "display_data"
    }
   ],
   "source": [
    "show_doc(IPFSApi.rpin_add)"
   ]
  },
  {
   "cell_type": "code",
   "execution_count": null,
   "metadata": {},
   "outputs": [
    {
     "data": {
      "text/markdown": [
       "<h4 id=\"IPFSApi.rpin_ls\" class=\"doc_header\"><code>IPFSApi.rpin_ls</code><a href=\"__main__.py#L348\" class=\"source_link\" style=\"float:right\">[source]</a></h4>\n",
       "\n",
       "> <code>IPFSApi.rpin_ls</code>(**`service`**:`str`, **\\*\\*`kwargs`**)\n",
       "\n",
       "List objects pinned to remote pinning service.\n",
       "\n",
       "||Type|Default|Details|\n",
       "|---|---|---|---|\n",
       "|**`service`**|`str`||Name of the remote pinning service to use|\n",
       "|**`kwargs`**|||*No Content*|\n"
      ],
      "text/plain": [
       "<IPython.core.display.Markdown object>"
      ]
     },
     "metadata": {},
     "output_type": "display_data"
    }
   ],
   "source": [
    "show_doc(IPFSApi.rpin_ls)"
   ]
  },
  {
   "cell_type": "code",
   "execution_count": null,
   "metadata": {},
   "outputs": [
    {
     "data": {
      "text/markdown": [
       "<h4 id=\"IPFSApi.rpin_rm\" class=\"doc_header\"><code>IPFSApi.rpin_rm</code><a href=\"__main__.py#L366\" class=\"source_link\" style=\"float:right\">[source]</a></h4>\n",
       "\n",
       "> <code>IPFSApi.rpin_rm</code>(**`service`**:`str`, **\\*\\*`kwargs`**)\n",
       "\n",
       "Remove pins from remote pinning service.\n",
       "\n",
       "||Type|Default|Details|\n",
       "|---|---|---|---|\n",
       "|**`service`**|`str`||Name of the remote pinning service to use|\n",
       "|**`kwargs`**|||*No Content*|\n"
      ],
      "text/plain": [
       "<IPython.core.display.Markdown object>"
      ]
     },
     "metadata": {},
     "output_type": "display_data"
    }
   ],
   "source": [
    "show_doc(IPFSApi.rpin_rm)"
   ]
  },
  {
   "cell_type": "markdown",
   "metadata": {},
   "source": [
    "Let's add a new file to IPFS and pin it to `pinata`. "
   ]
  },
  {
   "cell_type": "code",
   "execution_count": null,
   "metadata": {},
   "outputs": [
    {
     "data": {
      "text/plain": [
       "[{'Name': 'test.txt', 'Bytes': 24},\n",
       " {'Name': 'test.txt',\n",
       "  'Hash': 'QmTT8vwdbnP9Ls8bSY1LMyW4a8bEwTYZa5izEoJMBtTPfb',\n",
       "  'Size': '32'}]"
      ]
     },
     "execution_count": null,
     "metadata": {},
     "output_type": "execute_result"
    }
   ],
   "source": [
    "#| ignoretest\n",
    "response, content = api.add_items(filepath='output/test.txt'); content"
   ]
  },
  {
   "cell_type": "code",
   "execution_count": null,
   "metadata": {},
   "outputs": [
    {
     "ename": "HTTPError",
     "evalue": "Response Status Code: 500; Error Message: reason: \"DUPLICATE_OBJECT\", details: \"Object already pinned to pinata. Please remove or replace existing pin object.\": 400 Bad Request",
     "output_type": "error",
     "traceback": [
      "\u001b[1;31m---------------------------------------------------------------------------\u001b[0m",
      "\u001b[1;31mHTTPError\u001b[0m                                 Traceback (most recent call last)",
      "Input \u001b[1;32mIn [92]\u001b[0m, in \u001b[0;36m<cell line: 2>\u001b[1;34m()\u001b[0m\n\u001b[0;32m      1\u001b[0m \u001b[38;5;66;03m#ignoretest\u001b[39;00m\n\u001b[1;32m----> 2\u001b[0m response, content \u001b[38;5;241m=\u001b[39m \u001b[43mapi\u001b[49m\u001b[38;5;241;43m.\u001b[39;49m\u001b[43mrpin_add\u001b[49m\u001b[43m(\u001b[49m\u001b[38;5;124;43m'\u001b[39;49m\u001b[38;5;124;43mQmTT8vwdbnP9Ls8bSY1LMyW4a8bEwTYZa5izEoJMBtTPfb\u001b[39;49m\u001b[38;5;124;43m'\u001b[39;49m\u001b[43m,\u001b[49m\u001b[43m \u001b[49m\u001b[38;5;124;43m'\u001b[39;49m\u001b[38;5;124;43mpinata\u001b[39;49m\u001b[38;5;124;43m'\u001b[39;49m\u001b[43m)\u001b[49m; response\u001b[38;5;241m.\u001b[39mstatus_code\n",
      "Input \u001b[1;32mIn [16]\u001b[0m, in \u001b[0;36mIPFSApi.rpin_add\u001b[1;34m(self, cid, service, background, **kwargs)\u001b[0m\n\u001b[0;32m    342\u001b[0m     \u001b[38;5;28;01mreturn\u001b[39;00m response, parse_response(response)\n\u001b[0;32m    344\u001b[0m \u001b[38;5;28;01melse\u001b[39;00m:\n\u001b[1;32m--> 345\u001b[0m     \u001b[38;5;28;01mraise\u001b[39;00m HTTPError (parse_error_message(response))\n",
      "\u001b[1;31mHTTPError\u001b[0m: Response Status Code: 500; Error Message: reason: \"DUPLICATE_OBJECT\", details: \"Object already pinned to pinata. Please remove or replace existing pin object.\": 400 Bad Request"
     ]
    }
   ],
   "source": [
    "#| ignoretest\n",
    "response, content = api.rpin_add('QmTT8vwdbnP9Ls8bSY1LMyW4a8bEwTYZa5izEoJMBtTPfb', 'pinata'); response.status_code"
   ]
  },
  {
   "cell_type": "markdown",
   "metadata": {},
   "source": [
    "As can ber seen, we have successfully added the file to `pinata`"
   ]
  },
  {
   "cell_type": "code",
   "execution_count": null,
   "metadata": {},
   "outputs": [
    {
     "data": {
      "text/plain": [
       "[{'Status': 'pinned',\n",
       "  'Cid': 'QmUfwG4P6EA5xbD3De5bS7XKcBion8ReQj7m9ZjxaPvq3B',\n",
       "  'Name': ''},\n",
       " {'Status': 'pinned',\n",
       "  'Cid': 'QmUNLLsPACCz1vLxQVkXqqLX5R1X345qqfHbsf67hvA3Nn',\n",
       "  'Name': 'policy/12D3KooWPuYpxNLqniaG7pxknEfRLxxYFUXULKXi3bE5zbCFDdCZ/mfs'},\n",
       " {'Status': 'pinned',\n",
       "  'Cid': 'Qmb6W6nVPYd5CJKFpC1zGGuoD7TYQLE5PGG1RHkHm2W3m9',\n",
       "  'Name': ''},\n",
       " {'Status': 'pinned',\n",
       "  'Cid': 'QmeGotBL5dsmgryJLn2q3krUCjX6F8sBMBBEC6ayknHVYZ',\n",
       "  'Name': ''},\n",
       " {'Status': 'pinned',\n",
       "  'Cid': 'QmTT8vwdbnP9Ls8bSY1LMyW4a8bEwTYZa5izEoJMBtTPfb',\n",
       "  'Name': ''}]"
      ]
     },
     "execution_count": null,
     "metadata": {},
     "output_type": "execute_result"
    }
   ],
   "source": [
    "#| ignoretest\n",
    "response, content = api.rpin_ls('pinata'); content"
   ]
  },
  {
   "cell_type": "markdown",
   "metadata": {},
   "source": [
    "## Block"
   ]
  },
  {
   "cell_type": "code",
   "execution_count": null,
   "metadata": {},
   "outputs": [
    {
     "data": {
      "text/markdown": [
       "<h4 id=\"IPFSApi.block_get\" class=\"doc_header\"><code>IPFSApi.block_get</code><a href=\"__main__.py#L384\" class=\"source_link\" style=\"float:right\">[source]</a></h4>\n",
       "\n",
       "> <code>IPFSApi.block_get</code>(**`cid`**:`str`)\n",
       "\n",
       "Get a raw IPFS block.\n",
       "\n",
       "||Type|Default|Details|\n",
       "|---|---|---|---|\n",
       "|**`cid`**|`str`||The base58 multihash of an existing block to get|\n"
      ],
      "text/plain": [
       "<IPython.core.display.Markdown object>"
      ]
     },
     "metadata": {},
     "output_type": "display_data"
    }
   ],
   "source": [
    "show_doc(IPFSApi.block_get)"
   ]
  },
  {
   "cell_type": "code",
   "execution_count": null,
   "metadata": {},
   "outputs": [
    {
     "data": {
      "text/markdown": [
       "<h4 id=\"IPFSApi.block_put\" class=\"doc_header\"><code>IPFSApi.block_put</code><a href=\"__main__.py#L401\" class=\"source_link\" style=\"float:right\">[source]</a></h4>\n",
       "\n",
       "> <code>IPFSApi.block_put</code>(**`filepath`**:`str`, **`mhtype`**:`str`=*`'sha2-256'`*, **`mhlen`**:`int`=*`-1`*, **`pin`**:`str`=*`False`*, **\\*\\*`kwargs`**)\n",
       "\n",
       "Store input as an IPFS block.\n",
       "\n",
       "||Type|Default|Details|\n",
       "|---|---|---|---|\n",
       "|**`filepath`**|`str`||Path to file|\n",
       "|**`mhtype`**|`str`|`sha2-256`|multihash hash function.|\n",
       "|**`mhlen`**|`int`|`-1`|Multihash hash length|\n",
       "|**`pin`**|`str`|`False`|pin added blocks recursively|\n",
       "|**`kwargs`**|||*No Content*|\n"
      ],
      "text/plain": [
       "<IPython.core.display.Markdown object>"
      ]
     },
     "metadata": {},
     "output_type": "display_data"
    }
   ],
   "source": [
    "show_doc(IPFSApi.block_put)"
   ]
  },
  {
   "cell_type": "code",
   "execution_count": null,
   "metadata": {},
   "outputs": [
    {
     "data": {
      "text/markdown": [
       "<h4 id=\"IPFSApi.block_rm\" class=\"doc_header\"><code>IPFSApi.block_rm</code><a href=\"__main__.py#L424\" class=\"source_link\" style=\"float:right\">[source]</a></h4>\n",
       "\n",
       "> <code>IPFSApi.block_rm</code>(**`cid`**:`str`, **`force`**:`str`=*`'false'`*, **`quiet`**:`str`=*`'false'`*)\n",
       "\n",
       "Remove IPFS block(s).\n",
       "\n",
       "||Type|Default|Details|\n",
       "|---|---|---|---|\n",
       "|**`cid`**|`str`||Bash58 encoded multihash of block(s) to remove|\n",
       "|**`force`**|`str`|`false`|Ignore nonexistent blocks.|\n",
       "|**`quiet`**|`str`|`false`|Write minimal output.|\n"
      ],
      "text/plain": [
       "<IPython.core.display.Markdown object>"
      ]
     },
     "metadata": {},
     "output_type": "display_data"
    }
   ],
   "source": [
    "show_doc(IPFSApi.block_rm)"
   ]
  },
  {
   "cell_type": "code",
   "execution_count": null,
   "metadata": {},
   "outputs": [
    {
     "data": {
      "text/markdown": [
       "<h4 id=\"IPFSApi.block_stat\" class=\"doc_header\"><code>IPFSApi.block_stat</code><a href=\"__main__.py#L444\" class=\"source_link\" style=\"float:right\">[source]</a></h4>\n",
       "\n",
       "> <code>IPFSApi.block_stat</code>(**`cid`**:`str`)\n",
       "\n",
       "Print information of a raw IPFS block.\n",
       "\n",
       "||Type|Default|Details|\n",
       "|---|---|---|---|\n",
       "|**`cid`**|`str`||Bash58 encoded multihash of block(s) to remove|\n"
      ],
      "text/plain": [
       "<IPython.core.display.Markdown object>"
      ]
     },
     "metadata": {},
     "output_type": "display_data"
    }
   ],
   "source": [
    "show_doc(IPFSApi.block_stat)"
   ]
  },
  {
   "cell_type": "markdown",
   "metadata": {},
   "source": [
    "### Work with blocks"
   ]
  },
  {
   "cell_type": "markdown",
   "metadata": {},
   "source": [
    "To explore the `blocks` modeule, let's add a large file"
   ]
  },
  {
   "cell_type": "code",
   "execution_count": null,
   "metadata": {},
   "outputs": [
    {
     "data": {
      "text/plain": [
       "[{'Name': 'adult_data.csv', 'Bytes': 262144},\n",
       " {'Name': 'adult_data.csv', 'Bytes': 524288},\n",
       " {'Name': 'adult_data.csv', 'Bytes': 786432},\n",
       " {'Name': 'adult_data.csv', 'Bytes': 1048576},\n",
       " {'Name': 'adult_data.csv', 'Bytes': 1310720},\n",
       " {'Name': 'adult_data.csv', 'Bytes': 1572864},\n",
       " {'Name': 'adult_data.csv', 'Bytes': 1835008},\n",
       " {'Name': 'adult_data.csv', 'Bytes': 2097152},\n",
       " {'Name': 'adult_data.csv', 'Bytes': 2359296},\n",
       " {'Name': 'adult_data.csv', 'Bytes': 2621440},\n",
       " {'Name': 'adult_data.csv', 'Bytes': 2883584},\n",
       " {'Name': 'adult_data.csv', 'Bytes': 3145728},\n",
       " {'Name': 'adult_data.csv', 'Bytes': 3407872},\n",
       " {'Name': 'adult_data.csv', 'Bytes': 3670016},\n",
       " {'Name': 'adult_data.csv', 'Bytes': 3932160},\n",
       " {'Name': 'adult_data.csv', 'Bytes': 3974475},\n",
       " {'Name': 'adult_data.csv',\n",
       "  'Hash': 'QmZnxARhJWsCbTxiAzoRhnxHgMtoEkNJNS8DGLCBEMvm4V',\n",
       "  'Size': '3975476'}]"
      ]
     },
     "execution_count": null,
     "metadata": {},
     "output_type": "execute_result"
    }
   ],
   "source": [
    "#| ignoretest\n",
    "response, content = api.add_items('output/adult_data.csv'); content"
   ]
  },
  {
   "cell_type": "markdown",
   "metadata": {},
   "source": [
    "As you can see from below, adding it results in `blocks` and we are given the `root CID`"
   ]
  },
  {
   "cell_type": "markdown",
   "metadata": {},
   "source": [
    "We can take a look at the `CIDs` of different block like below"
   ]
  },
  {
   "cell_type": "code",
   "execution_count": null,
   "metadata": {},
   "outputs": [
    {
     "data": {
      "text/plain": [
       "[{'Objects': [{'Hash': 'QmZnxARhJWsCbTxiAzoRhnxHgMtoEkNJNS8DGLCBEMvm4V',\n",
       "    'Links': [{'Name': '',\n",
       "      'Hash': 'Qmc7fYo65HLt1bwN6GudwZfq5MrAGYQ2wwsQ9y1fh6zNz9',\n",
       "      'Size': 262144,\n",
       "      'Type': 2,\n",
       "      'Target': ''},\n",
       "     {'Name': '',\n",
       "      'Hash': 'QmY1DtAnTrDX3KPgHFMPk6Zapa53s1fCapXChLBN9sMSQ4',\n",
       "      'Size': 262144,\n",
       "      'Type': 2,\n",
       "      'Target': ''},\n",
       "     {'Name': '',\n",
       "      'Hash': 'QmY6TEEHe4WiJVAcY6Lo9shWfc8WVQHV6HtBE8HaEfYykV',\n",
       "      'Size': 262144,\n",
       "      'Type': 2,\n",
       "      'Target': ''},\n",
       "     {'Name': '',\n",
       "      'Hash': 'QmRw8SE71wXbRYr4pttxJAhHCcxsTLqdimkNEPUkmJoppe',\n",
       "      'Size': 262144,\n",
       "      'Type': 2,\n",
       "      'Target': ''},\n",
       "     {'Name': '',\n",
       "      'Hash': 'QmYCUnARWF3jesUjc23Ku2sdxstoNjkzgevPcG95skkzq3',\n",
       "      'Size': 262144,\n",
       "      'Type': 2,\n",
       "      'Target': ''},\n",
       "     {'Name': '',\n",
       "      'Hash': 'Qmdc41AcSjYZ9qazoFdeWY9zrEEQv5e3mp2wuTbbMBVgis',\n",
       "      'Size': 262144,\n",
       "      'Type': 2,\n",
       "      'Target': ''},\n",
       "     {'Name': '',\n",
       "      'Hash': 'QmUzwuZkN7HMHXa169vZAZDcMu9DGzPUDTCbgcJomboYDs',\n",
       "      'Size': 262144,\n",
       "      'Type': 2,\n",
       "      'Target': ''},\n",
       "     {'Name': '',\n",
       "      'Hash': 'QmYNW7vP16AA9DvoH1t2598KehqmefQTAnn2XBRDy4xbRZ',\n",
       "      'Size': 262144,\n",
       "      'Type': 2,\n",
       "      'Target': ''},\n",
       "     {'Name': '',\n",
       "      'Hash': 'QmWzwegNQkJg1UJjeyAJpeVK58yxAzexfgPVgwG2GjaXrc',\n",
       "      'Size': 262144,\n",
       "      'Type': 2,\n",
       "      'Target': ''},\n",
       "     {'Name': '',\n",
       "      'Hash': 'QmcKhLKvYXCK1aFzkNiF5tZ8YPNHuiESdqujcKm6N4A7TZ',\n",
       "      'Size': 262144,\n",
       "      'Type': 2,\n",
       "      'Target': ''},\n",
       "     {'Name': '',\n",
       "      'Hash': 'QmYFUbBW93ZXhRw9gLmwodEeG26oHeo13RiHLDEmSitepf',\n",
       "      'Size': 262144,\n",
       "      'Type': 2,\n",
       "      'Target': ''},\n",
       "     {'Name': '',\n",
       "      'Hash': 'QmNyb437zLGoaj4rfbn8yUccTH6c6hR7XeeYcVitwc2iuJ',\n",
       "      'Size': 262144,\n",
       "      'Type': 2,\n",
       "      'Target': ''},\n",
       "     {'Name': '',\n",
       "      'Hash': 'QmeEPW7tFvgbJhrUEQrgHRkGBWx3p6HhsCJLEZ3LEduW64',\n",
       "      'Size': 262144,\n",
       "      'Type': 2,\n",
       "      'Target': ''},\n",
       "     {'Name': '',\n",
       "      'Hash': 'QmZ6Pe8xKLQJFzE28w6G4Lh6afDW3W4Hc8oHEFmVm88ouY',\n",
       "      'Size': 262144,\n",
       "      'Type': 2,\n",
       "      'Target': ''},\n",
       "     {'Name': '',\n",
       "      'Hash': 'Qmf4n9eT4r8eFeT92RjKXwWvp8TcxChiuweG74x3wZmVDy',\n",
       "      'Size': 262144,\n",
       "      'Type': 2,\n",
       "      'Target': ''},\n",
       "     {'Name': '',\n",
       "      'Hash': 'QmPSkoihW58K3v6n4UbKwu6Ex861Mf9xDakXhAD8uLLhXs',\n",
       "      'Size': 42315,\n",
       "      'Type': 2,\n",
       "      'Target': ''}]}]}]"
      ]
     },
     "execution_count": null,
     "metadata": {},
     "output_type": "execute_result"
    }
   ],
   "source": [
    "#| ignoretest\n",
    "response, content = api.ls_items('QmZnxARhJWsCbTxiAzoRhnxHgMtoEkNJNS8DGLCBEMvm4V');content"
   ]
  },
  {
   "cell_type": "code",
   "execution_count": null,
   "metadata": {},
   "outputs": [],
   "source": [
    "#| ignoretest\n",
    "blocks = content[0][\"Objects\"][0][\"Links\"]"
   ]
  },
  {
   "cell_type": "code",
   "execution_count": null,
   "metadata": {},
   "outputs": [
    {
     "name": "stdout",
     "output_type": "stream",
     "text": [
      "Number of blocks: 16\n"
     ]
    }
   ],
   "source": [
    "#| ignoretest\n",
    "print(f'Number of blocks: {len(blocks)}')"
   ]
  },
  {
   "cell_type": "markdown",
   "metadata": {},
   "source": [
    "Here, we can see the three blocks of the total 16 blocks."
   ]
  },
  {
   "cell_type": "code",
   "execution_count": null,
   "metadata": {},
   "outputs": [
    {
     "data": {
      "text/plain": [
       "[{'Name': '',\n",
       "  'Hash': 'Qmc7fYo65HLt1bwN6GudwZfq5MrAGYQ2wwsQ9y1fh6zNz9',\n",
       "  'Size': 262144,\n",
       "  'Type': 2,\n",
       "  'Target': ''},\n",
       " {'Name': '',\n",
       "  'Hash': 'QmY1DtAnTrDX3KPgHFMPk6Zapa53s1fCapXChLBN9sMSQ4',\n",
       "  'Size': 262144,\n",
       "  'Type': 2,\n",
       "  'Target': ''},\n",
       " {'Name': '',\n",
       "  'Hash': 'QmY6TEEHe4WiJVAcY6Lo9shWfc8WVQHV6HtBE8HaEfYykV',\n",
       "  'Size': 262144,\n",
       "  'Type': 2,\n",
       "  'Target': ''}]"
      ]
     },
     "execution_count": null,
     "metadata": {},
     "output_type": "execute_result"
    }
   ],
   "source": [
    "#| ignoretest\n",
    "blocks[:3]"
   ]
  },
  {
   "cell_type": "markdown",
   "metadata": {},
   "source": [
    "Let's read whats in the first and second block"
   ]
  },
  {
   "cell_type": "code",
   "execution_count": null,
   "metadata": {},
   "outputs": [],
   "source": [
    "#| ignoretest\n",
    "response, content = api.cat_items(blocks[0]['Hash'])"
   ]
  },
  {
   "cell_type": "code",
   "execution_count": null,
   "metadata": {},
   "outputs": [
    {
     "name": "stdout",
     "output_type": "stream",
     "text": [
      "age, workclass, fnlwgt, education, education-num, marital-status, occupation, relationship, race, se\n"
     ]
    },
    {
     "data": {
      "text/plain": [
       "262144"
      ]
     },
     "execution_count": null,
     "metadata": {},
     "output_type": "execute_result"
    }
   ],
   "source": [
    "#| ignoretest\n",
    "print(response.text[:100]); len(response.text)"
   ]
  },
  {
   "cell_type": "code",
   "execution_count": null,
   "metadata": {},
   "outputs": [],
   "source": [
    "#| ignoretest\n",
    "response, content = api.cat_items(blocks[1]['Hash'])"
   ]
  },
  {
   "cell_type": "code",
   "execution_count": null,
   "metadata": {},
   "outputs": [
    {
     "name": "stdout",
     "output_type": "stream",
     "text": [
      "nited-States, <=50K\n",
      "28, Private, 201175, 11th, 7, Never-married, Machine-op-inspct, Not-in-family, B\n"
     ]
    },
    {
     "data": {
      "text/plain": [
       "262144"
      ]
     },
     "execution_count": null,
     "metadata": {},
     "output_type": "execute_result"
    }
   ],
   "source": [
    "#| ignoretest\n",
    "print(response.text[:100]); len(response.text)"
   ]
  },
  {
   "cell_type": "markdown",
   "metadata": {},
   "source": [
    "We can also read using the `cat` method under the `blocks` module in which case if block is an intermediate block it will only print the raw binary data."
   ]
  },
  {
   "cell_type": "code",
   "execution_count": null,
   "metadata": {},
   "outputs": [],
   "source": [
    "#| ignoretest\n",
    "response, content = api.block_get(blocks[0]['Hash'])"
   ]
  },
  {
   "cell_type": "code",
   "execution_count": null,
   "metadata": {},
   "outputs": [
    {
     "data": {
      "text/plain": [
       "'\\n\\x8a\\x80\\x10\\x08\\x02\\x12\\x80\\x80\\x10age, workclass, fnlwgt, education, education-num, marital-status, occupation, relationship, race, sex, capital-gain, capital-loss, hours-per-week, native-country, salary\\n39, State-gov, 77516, Bachelors, 13, Never-married, Adm-clerical, Not-in-family, White, Male, 2174, 0, 40, United-States'"
      ]
     },
     "execution_count": null,
     "metadata": {},
     "output_type": "execute_result"
    }
   ],
   "source": [
    "#| ignoretest\n",
    "response.text[:300]"
   ]
  },
  {
   "cell_type": "markdown",
   "metadata": {},
   "source": [
    "#### Add a block"
   ]
  },
  {
   "cell_type": "code",
   "execution_count": null,
   "metadata": {},
   "outputs": [
    {
     "data": {
      "text/plain": [
       "[{'Key': 'bafkreicb2n4nhac6nwsviqe2ik4pt22ukewf7zfz2j2aof2au3a2qgi3oa',\n",
       "  'Size': 1179}]"
      ]
     },
     "execution_count": null,
     "metadata": {},
     "output_type": "execute_result"
    }
   ],
   "source": [
    "#| ignoretest\n",
    "response, content = api.block_put('../README.md'); content"
   ]
  },
  {
   "cell_type": "markdown",
   "metadata": {},
   "source": [
    "#### Get stat on a block"
   ]
  },
  {
   "cell_type": "code",
   "execution_count": null,
   "metadata": {},
   "outputs": [
    {
     "data": {
      "text/plain": [
       "[{'Key': 'bafkreicb2n4nhac6nwsviqe2ik4pt22ukewf7zfz2j2aof2au3a2qgi3oa',\n",
       "  'Size': 1179}]"
      ]
     },
     "execution_count": null,
     "metadata": {},
     "output_type": "execute_result"
    }
   ],
   "source": [
    "#| ignoretest\n",
    "response, content = api.block_stat('bafkreicb2n4nhac6nwsviqe2ik4pt22ukewf7zfz2j2aof2au3a2qgi3oa'); content"
   ]
  },
  {
   "cell_type": "markdown",
   "metadata": {},
   "source": [
    "#### Remove a block"
   ]
  },
  {
   "cell_type": "code",
   "execution_count": null,
   "metadata": {},
   "outputs": [
    {
     "data": {
      "text/plain": [
       "200"
      ]
     },
     "execution_count": null,
     "metadata": {},
     "output_type": "execute_result"
    }
   ],
   "source": [
    "#| ignoretest\n",
    "response, content = api.block_rm('bafkreicb2n4nhac6nwsviqe2ik4pt22ukewf7zfz2j2aof2au3a2qgi3oa'); response.status_code"
   ]
  },
  {
   "cell_type": "code",
   "execution_count": null,
   "metadata": {},
   "outputs": [],
   "source": [
    "#| hide\n",
    "# def ipns_publish(\n",
    "#     coreurl:str, \n",
    "#     ipfspath:str, # IPFS path of the object to be published\n",
    "#     resolve:str='true', # Check if the given path can be resolved before publishing\n",
    "#     key:str='self', # Name of the key to be used or a valid PeerID, as listed by `ipfs key list -l`\n",
    "#     ipns_base:str='base36', # Encoding used for keys: Can either be a multibase encoded CID or a base58btc encoded multihash\n",
    "#     **kwargs,\n",
    "# ):\n",
    "#     'Publish IPNS names.'\n",
    "    \n",
    "#     params = {}\n",
    "#     params['arg'] = ipfspath\n",
    "#     params['resolve'] = resolve\n",
    "#     params['key'] = key\n",
    "#     params['ipns-base'] = ipns_base\n",
    "#     params.update(kwargs)\n",
    "    \n",
    "#     response = requests.post(f'{coreurl}/name/publish', params=params)\n",
    "    \n",
    "#     return response, parse_response(response)\n",
    "\n",
    "# def ipns_view(\n",
    "#     ipns_hash:str # IPNS address where the files are stored\n",
    "# ):\n",
    "#     'View files published to IPNS.'\n",
    "\n",
    "#     response = requests.get(f'https://gateway.ipfs.io/ipns/{ipns_hash}')\n",
    "    \n",
    "#     return response, parse_response(response)"
   ]
  },
  {
   "cell_type": "markdown",
   "metadata": {},
   "source": [
    "## Mutable File System (files)"
   ]
  },
  {
   "cell_type": "code",
   "execution_count": null,
   "metadata": {},
   "outputs": [
    {
     "data": {
      "text/markdown": [
       "<h4 id=\"IPFSApi.mfs_chcid\" class=\"doc_header\"><code>IPFSApi.mfs_chcid</code><a href=\"__main__.py#L461\" class=\"source_link\" style=\"float:right\">[source]</a></h4>\n",
       "\n",
       "> <code>IPFSApi.mfs_chcid</code>(**`path`**:`str`=*`'/'`*, **`cid_version`**:`int`=*`0`*, **\\*\\*`kwargs`**)\n",
       "\n",
       "Change the CID version or hash function of the root node of a given path.\n",
       "\n",
       "||Type|Default|Details|\n",
       "|---|---|---|---|\n",
       "|**`path`**|`str`|`/`|Path to change|\n",
       "|**`cid_version`**|`int`|`0`|Cid version to use|\n",
       "|**`kwargs`**|||*No Content*|\n"
      ],
      "text/plain": [
       "<IPython.core.display.Markdown object>"
      ]
     },
     "metadata": {},
     "output_type": "display_data"
    }
   ],
   "source": [
    "show_doc(IPFSApi.mfs_chcid)"
   ]
  },
  {
   "cell_type": "code",
   "execution_count": null,
   "metadata": {},
   "outputs": [
    {
     "data": {
      "text/markdown": [
       "<h4 id=\"IPFSApi.mfs_cp\" class=\"doc_header\"><code>IPFSApi.mfs_cp</code><a href=\"__main__.py#L481\" class=\"source_link\" style=\"float:right\">[source]</a></h4>\n",
       "\n",
       "> <code>IPFSApi.mfs_cp</code>(**`source_path`**:`str`, **`dest_path`**:`str`, **\\*\\*`kwargs`**)\n",
       "\n",
       "Add references to IPFS files and directories in MFS (or copy within MFS).\n",
       "\n",
       "||Type|Default|Details|\n",
       "|---|---|---|---|\n",
       "|**`source_path`**|`str`||Source IPFS or MFS path to copy|\n",
       "|**`dest_path`**|`str`||Destination within MFS|\n",
       "|**`kwargs`**|||*No Content*|\n"
      ],
      "text/plain": [
       "<IPython.core.display.Markdown object>"
      ]
     },
     "metadata": {},
     "output_type": "display_data"
    }
   ],
   "source": [
    "show_doc(IPFSApi.mfs_cp)"
   ]
  },
  {
   "cell_type": "code",
   "execution_count": null,
   "metadata": {},
   "outputs": [
    {
     "data": {
      "text/markdown": [
       "<h4 id=\"IPFSApi.mfs_flush\" class=\"doc_header\"><code>IPFSApi.mfs_flush</code><a href=\"__main__.py#L500\" class=\"source_link\" style=\"float:right\">[source]</a></h4>\n",
       "\n",
       "> <code>IPFSApi.mfs_flush</code>(**`path`**:`str`=*`'/'`*)\n",
       "\n",
       "Flush a given path's data to disk\n",
       "\n",
       "||Type|Default|Details|\n",
       "|---|---|---|---|\n",
       "|**`path`**|`str`|`/`|Path to flush|\n"
      ],
      "text/plain": [
       "<IPython.core.display.Markdown object>"
      ]
     },
     "metadata": {},
     "output_type": "display_data"
    }
   ],
   "source": [
    "show_doc(IPFSApi.mfs_flush)"
   ]
  },
  {
   "cell_type": "code",
   "execution_count": null,
   "metadata": {},
   "outputs": [
    {
     "data": {
      "text/markdown": [
       "<h4 id=\"IPFSApi.mfs_ls\" class=\"doc_header\"><code>IPFSApi.mfs_ls</code><a href=\"__main__.py#L515\" class=\"source_link\" style=\"float:right\">[source]</a></h4>\n",
       "\n",
       "> <code>IPFSApi.mfs_ls</code>(**`path`**:`str`=*`'/'`*, **\\*\\*`kwargs`**)\n",
       "\n",
       "List directories in the local mutable namespace.\n",
       "\n",
       "||Type|Default|Details|\n",
       "|---|---|---|---|\n",
       "|**`path`**|`str`|`/`|Path to show listing for|\n",
       "|**`kwargs`**|||*No Content*|\n"
      ],
      "text/plain": [
       "<IPython.core.display.Markdown object>"
      ]
     },
     "metadata": {},
     "output_type": "display_data"
    }
   ],
   "source": [
    "show_doc(IPFSApi.mfs_ls)"
   ]
  },
  {
   "cell_type": "code",
   "execution_count": null,
   "metadata": {},
   "outputs": [
    {
     "data": {
      "text/markdown": [
       "<h4 id=\"IPFSApi.mfs_mkdir\" class=\"doc_header\"><code>IPFSApi.mfs_mkdir</code><a href=\"__main__.py#L533\" class=\"source_link\" style=\"float:right\">[source]</a></h4>\n",
       "\n",
       "> <code>IPFSApi.mfs_mkdir</code>(**`path`**:`str`, **\\*\\*`kwargs`**)\n",
       "\n",
       "Make directories.\n",
       "\n",
       "||Type|Default|Details|\n",
       "|---|---|---|---|\n",
       "|**`path`**|`str`||Path to dir to make|\n",
       "|**`kwargs`**|||*No Content*|\n"
      ],
      "text/plain": [
       "<IPython.core.display.Markdown object>"
      ]
     },
     "metadata": {},
     "output_type": "display_data"
    }
   ],
   "source": [
    "show_doc(IPFSApi.mfs_mkdir)"
   ]
  },
  {
   "cell_type": "code",
   "execution_count": null,
   "metadata": {},
   "outputs": [
    {
     "data": {
      "text/markdown": [
       "<h4 id=\"IPFSApi.mfs_mv\" class=\"doc_header\"><code>IPFSApi.mfs_mv</code><a href=\"__main__.py#L551\" class=\"source_link\" style=\"float:right\">[source]</a></h4>\n",
       "\n",
       "> <code>IPFSApi.mfs_mv</code>(**`source_path`**:`str`, **`dest_path`**:`str`)\n",
       "\n",
       "Move files.\n",
       "\n",
       "||Type|Default|Details|\n",
       "|---|---|---|---|\n",
       "|**`source_path`**|`str`||Source file to move|\n",
       "|**`dest_path`**|`str`||Destination path for file to be moved to|\n"
      ],
      "text/plain": [
       "<IPython.core.display.Markdown object>"
      ]
     },
     "metadata": {},
     "output_type": "display_data"
    }
   ],
   "source": [
    "show_doc(IPFSApi.mfs_mv)"
   ]
  },
  {
   "cell_type": "code",
   "execution_count": null,
   "metadata": {},
   "outputs": [
    {
     "data": {
      "text/markdown": [
       "<h4 id=\"IPFSApi.mfs_read\" class=\"doc_header\"><code>IPFSApi.mfs_read</code><a href=\"__main__.py#L568\" class=\"source_link\" style=\"float:right\">[source]</a></h4>\n",
       "\n",
       "> <code>IPFSApi.mfs_read</code>(**`path`**, **\\*\\*`kwargs`**)\n",
       "\n",
       "Read a file in a given MFS.\n",
       "\n",
       "||Type|Default|Details|\n",
       "|---|---|---|---|\n",
       "|**`path`**|||Path to file to be read|\n",
       "|**`kwargs`**|||*No Content*|\n"
      ],
      "text/plain": [
       "<IPython.core.display.Markdown object>"
      ]
     },
     "metadata": {},
     "output_type": "display_data"
    }
   ],
   "source": [
    "show_doc(IPFSApi.mfs_read)"
   ]
  },
  {
   "cell_type": "code",
   "execution_count": null,
   "metadata": {},
   "outputs": [
    {
     "data": {
      "text/markdown": [
       "<h4 id=\"IPFSApi.mfs_rm\" class=\"doc_header\"><code>IPFSApi.mfs_rm</code><a href=\"__main__.py#L586\" class=\"source_link\" style=\"float:right\">[source]</a></h4>\n",
       "\n",
       "> <code>IPFSApi.mfs_rm</code>(**`path`**, **\\*\\*`kwargs`**)\n",
       "\n",
       "Read a file in a given MFS.\n",
       "\n",
       "||Type|Default|Details|\n",
       "|---|---|---|---|\n",
       "|**`path`**|||File to remove|\n",
       "|**`kwargs`**|||*No Content*|\n"
      ],
      "text/plain": [
       "<IPython.core.display.Markdown object>"
      ]
     },
     "metadata": {},
     "output_type": "display_data"
    }
   ],
   "source": [
    "show_doc(IPFSApi.mfs_rm)"
   ]
  },
  {
   "cell_type": "code",
   "execution_count": null,
   "metadata": {},
   "outputs": [
    {
     "data": {
      "text/markdown": [
       "<h4 id=\"IPFSApi.mfs_stat\" class=\"doc_header\"><code>IPFSApi.mfs_stat</code><a href=\"__main__.py#L604\" class=\"source_link\" style=\"float:right\">[source]</a></h4>\n",
       "\n",
       "> <code>IPFSApi.mfs_stat</code>(**`path`**, **\\*\\*`kwargs`**)\n",
       "\n",
       "Display file status.\n",
       "\n",
       "||Type|Default|Details|\n",
       "|---|---|---|---|\n",
       "|**`path`**|||Path to node to stat|\n",
       "|**`kwargs`**|||*No Content*|\n"
      ],
      "text/plain": [
       "<IPython.core.display.Markdown object>"
      ]
     },
     "metadata": {},
     "output_type": "display_data"
    }
   ],
   "source": [
    "show_doc(IPFSApi.mfs_stat)"
   ]
  },
  {
   "cell_type": "code",
   "execution_count": null,
   "metadata": {},
   "outputs": [
    {
     "data": {
      "text/markdown": [
       "<h4 id=\"IPFSApi.mfs_write\" class=\"doc_header\"><code>IPFSApi.mfs_write</code><a href=\"__main__.py#L622\" class=\"source_link\" style=\"float:right\">[source]</a></h4>\n",
       "\n",
       "> <code>IPFSApi.mfs_write</code>(**`path`**, **`filepath`**, **`create`**=*`True`*, **\\*\\*`kwargs`**)\n",
       "\n",
       "Display file status.\n",
       "\n",
       "||Type|Default|Details|\n",
       "|---|---|---|---|\n",
       "|**`path`**|||Path to write to|\n",
       "|**`filepath`**|||File to add|\n",
       "|**`create`**|`bool`|`True`|Create the file if it does not exist|\n",
       "|**`kwargs`**|||*No Content*|\n"
      ],
      "text/plain": [
       "<IPython.core.display.Markdown object>"
      ]
     },
     "metadata": {},
     "output_type": "display_data"
    }
   ],
   "source": [
    "show_doc(IPFSApi.mfs_write)"
   ]
  },
  {
   "cell_type": "markdown",
   "metadata": {},
   "source": [
    "### Working with MFS"
   ]
  },
  {
   "cell_type": "markdown",
   "metadata": {},
   "source": [
    "Making a directory"
   ]
  },
  {
   "cell_type": "code",
   "execution_count": null,
   "metadata": {},
   "outputs": [
    {
     "data": {
      "text/plain": [
       "200"
      ]
     },
     "execution_count": null,
     "metadata": {},
     "output_type": "execute_result"
    }
   ],
   "source": [
    "#| ignoretest\n",
    "response, content = api.mfs_mkdir('/test'); response.status_code"
   ]
  },
  {
   "cell_type": "code",
   "execution_count": null,
   "metadata": {},
   "outputs": [
    {
     "name": "stdout",
     "output_type": "stream",
     "text": [
      "Converted 00_utils.ipynb.\n",
      "Converted 01_ipfshttpapi.ipynb.\n",
      "Converted 03_estuaryapi.ipynb.\n",
      "Converted 04_pinataapi.ipynb.\n",
      "Converted index.ipynb.\n"
     ]
    }
   ],
   "source": [
    "#|hide\n",
    "from nbdev.doclinks import *\n",
    "nbdev_export()"
   ]
  },
  {
   "cell_type": "code",
   "execution_count": null,
   "metadata": {},
   "outputs": [],
   "source": []
  }
 ],
 "metadata": {
  "kernelspec": {
   "display_name": "Python 3 (ipykernel)",
   "language": "python",
   "name": "python3"
  }
 },
 "nbformat": 4,
 "nbformat_minor": 4
}
